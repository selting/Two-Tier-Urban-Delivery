{
 "cells": [
  {
   "cell_type": "markdown",
   "metadata": {},
   "source": [
    "# Dictionaries example\n",
    "For a more in-depth explanation read\n",
    "https://www.gurobi.com/documentation/9.0/quickstart_windows/py_python_dictionary_examp.html"
   ]
  },
  {
   "cell_type": "code",
   "execution_count": 48,
   "metadata": {},
   "outputs": [],
   "source": [
    "import gurobipy as gp\n",
    "from gurobipy import GRB"
   ]
  },
  {
   "cell_type": "markdown",
   "metadata": {},
   "source": [
    "## Custom gurobipy classes"
   ]
  },
  {
   "cell_type": "markdown",
   "metadata": {},
   "source": [
    "#### The `multidict` class"
   ]
  },
  {
   "cell_type": "markdown",
   "metadata": {},
   "source": [
    "The `multidict` class allows to initialize multiple dictionaries at once.\n",
    "It takes as an input a dictionary in which each entry's value is a list of length n. The multidict class will then split these lists, creating n seperate dictionaries that share the same keys."
   ]
  },
  {
   "cell_type": "code",
   "execution_count": 49,
   "metadata": {},
   "outputs": [
    {
     "name": "stdout",
     "output_type": "stream",
     "text": [
      "['x', 'y', 'z']\n",
      "{'x': 0, 'y': 1, 'z': 0}\n",
      "{'x': 1, 'y': 2, 'z': 3}\n"
     ]
    }
   ],
   "source": [
    "names, lower, upper = gp.multidict(dict(x=[0,1], y=[1,2], z=[0,3]))\n",
    "print(names)\n",
    "print(lower)\n",
    "print(upper)"
   ]
  },
  {
   "cell_type": "markdown",
   "metadata": {},
   "source": [
    "#### The `tuplelist` class"
   ]
  },
  {
   "cell_type": "markdown",
   "metadata": {},
   "source": [
    "The `tuplelist` class stores a list of tuples and is a subclass of the standard list class. The .select function is an efficient way to extract specific tuples based on the given criteria. It works with wildcards ('*') and multi-criteria inputs (lists)"
   ]
  },
  {
   "cell_type": "code",
   "execution_count": 50,
   "metadata": {},
   "outputs": [
    {
     "data": {
      "text/plain": [
       "<gurobi.tuplelist (2 tuples, 2 values each):\n",
       " ( 1 , 2 )\n",
       " ( 1 , 3 )\n",
       ">"
      ]
     },
     "execution_count": 50,
     "metadata": {},
     "output_type": "execute_result"
    }
   ],
   "source": [
    "l = gp.tuplelist([(1, 2), (1, 3), (2, 3), (2, 4)])\n",
    "l.select(1, '*')  # will give all entries that have 1 in the first position"
   ]
  },
  {
   "cell_type": "code",
   "execution_count": 51,
   "metadata": {},
   "outputs": [
    {
     "data": {
      "text/plain": [
       "<gurobi.tuplelist (2 tuples, 2 values each):\n",
       " ( 1 , 2 )\n",
       " ( 2 , 4 )\n",
       ">"
      ]
     },
     "execution_count": 51,
     "metadata": {},
     "output_type": "execute_result"
    }
   ],
   "source": [
    "l.select('*', [2, 4])  # will return all entries that have 2 or 4 at the second position"
   ]
  },
  {
   "cell_type": "markdown",
   "metadata": {},
   "source": [
    "#### The `tupledict` class"
   ]
  },
  {
   "cell_type": "markdown",
   "metadata": {},
   "source": [
    "The `tupledict` class is a subclass of the python dictionaries that uses `tuplelist` as keys (so the .select method can be used to select subsets of the `tupledict`). In a tupledict, Gurobi decision variables can be stored that correspond to the tuple key. In a VRP, e.g., the key tuple may be (node i, node j, vehicle v) and the tupledict class allows to easily select only those arcs that originate from node i. "
   ]
  },
  {
   "cell_type": "code",
   "execution_count": 52,
   "metadata": {},
   "outputs": [
    {
     "data": {
      "text/plain": [
       "gurobipy.tupledict"
      ]
     },
     "execution_count": 52,
     "metadata": {},
     "output_type": "execute_result"
    }
   ],
   "source": [
    "l = list([(1, 2), (1, 3), (2, 3), (2, 4)])\n",
    "m = gp.Model(name='dict1')\n",
    "d = m.addVars(l, name='d')  # the addVars method creates Variables and returns them as a tupledict\n",
    "m.update()\n",
    "type(d)"
   ]
  },
  {
   "cell_type": "code",
   "execution_count": 53,
   "metadata": {},
   "outputs": [
    {
     "data": {
      "text/plain": [
       "{(1, 2): <gurobi.Var d[1,2]>,\n",
       " (1, 3): <gurobi.Var d[1,3]>,\n",
       " (2, 3): <gurobi.Var d[2,3]>,\n",
       " (2, 4): <gurobi.Var d[2,4]>}"
      ]
     },
     "execution_count": 53,
     "metadata": {},
     "output_type": "execute_result"
    }
   ],
   "source": [
    "d  # all the variables in the dictionary with their names"
   ]
  },
  {
   "cell_type": "code",
   "execution_count": 54,
   "metadata": {},
   "outputs": [
    {
     "data": {
      "text/plain": [
       "<gurobi.LinExpr: d[1,2] + d[1,3]>"
      ]
     },
     "execution_count": 54,
     "metadata": {},
     "output_type": "execute_result"
    }
   ],
   "source": [
    "sum(d.select(1, '*'))  # the tupledict can be used to create linear expressions of the variables"
   ]
  },
  {
   "cell_type": "code",
   "execution_count": 55,
   "metadata": {},
   "outputs": [
    {
     "data": {
      "text/plain": [
       "<gurobi.LinExpr: d[1,2] + d[1,3]>"
      ]
     },
     "execution_count": 55,
     "metadata": {},
     "output_type": "execute_result"
    }
   ],
   "source": [
    "d.sum(1, '*')  # is the faster way of doing the same"
   ]
  },
  {
   "cell_type": "code",
   "execution_count": 56,
   "metadata": {},
   "outputs": [
    {
     "data": {
      "text/plain": [
       "<gurobi.LinExpr: 5.0 d[1,2] + 7.0 d[2,3]>"
      ]
     },
     "execution_count": 56,
     "metadata": {},
     "output_type": "execute_result"
    }
   ],
   "source": [
    "coeff = {(1,2):5, (2,3):7}\n",
    "# coeff = {l[0]: 5, l[2]:7}\n",
    "d.prod(coeff)   # the .prod method of the tupledict class handles expressions where variable coefficients are not 1\n",
    "                # the input dictionary has the same tuple keys as the variables themselves"
   ]
  },
  {
   "cell_type": "code",
   "execution_count": 57,
   "metadata": {},
   "outputs": [
    {
     "data": {
      "text/plain": [
       "<gurobi.LinExpr: 7.0 d[2,3]>"
      ]
     },
     "execution_count": 57,
     "metadata": {},
     "output_type": "execute_result"
    }
   ],
   "source": [
    "d.prod(coeff, 2)  # this method also accepts a filter"
   ]
  },
  {
   "cell_type": "code",
   "execution_count": 58,
   "metadata": {},
   "outputs": [
    {
     "data": {
      "text/plain": [
       "[<gurobi.Var d[1,2]>,\n",
       " <gurobi.Var d[1,3]>,\n",
       " <gurobi.Var d[2,3]>,\n",
       " <gurobi.Var d[2,4]>]"
      ]
     },
     "execution_count": 58,
     "metadata": {},
     "output_type": "execute_result"
    }
   ],
   "source": [
    "m.getVars()"
   ]
  },
  {
   "cell_type": "markdown",
   "metadata": {},
   "source": [
    "## netflow.py example\n",
    "Two commodities (Pencils and Pens) are produced in two cities (Detroit and Denver), and must be shipped to warehouses in three cities (Boston, New York, and Seattle) to satisfy given demand. Each arc in the transportation network has a cost associated with it, and a total capacity.\n",
    "The objective is to minimize the sum of the arc transportation costs"
   ]
  },
  {
   "cell_type": "code",
   "execution_count": 59,
   "metadata": {},
   "outputs": [
    {
     "data": {
      "text/plain": [
       "(<gurobi.tuplelist (6 tuples, 2 values each):\n",
       "  ( Detroit , Boston   )\n",
       "  ( Detroit , New York )\n",
       "  ( Detroit , Seattle  )\n",
       "  ( Denver  , Boston   )\n",
       "  ( Denver  , New York )\n",
       "  ( Denver  , Seattle  )\n",
       " >,\n",
       " {('Detroit', 'Boston'): 100,\n",
       "  ('Detroit', 'New York'): 80,\n",
       "  ('Detroit', 'Seattle'): 120,\n",
       "  ('Denver', 'Boston'): 120,\n",
       "  ('Denver', 'New York'): 120,\n",
       "  ('Denver', 'Seattle'): 120})"
      ]
     },
     "execution_count": 59,
     "metadata": {},
     "output_type": "execute_result"
    }
   ],
   "source": [
    "# Base Data\n",
    "commodities = ['Pencils', 'Pens']\n",
    "nodes = ['Detroit', 'Denver', 'Boston', 'New York', 'Seattle']\n",
    "\n",
    "arcs, capacity = gp.multidict({\n",
    "    ('Detroit', 'Boston'):   100,\n",
    "    ('Detroit', 'New York'):  80,\n",
    "    ('Detroit', 'Seattle'):  120,\n",
    "    ('Denver',  'Boston'):   120,\n",
    "    ('Denver',  'New York'): 120,\n",
    "    ('Denver',  'Seattle'):  120\n",
    "})\n",
    "arcs, capacity"
   ]
  },
  {
   "cell_type": "code",
   "execution_count": 60,
   "metadata": {},
   "outputs": [],
   "source": [
    "# Cost for commodity-source-destination\n",
    "cost = {\n",
    "    ('Pencils', 'Detroit', 'Boston'):   10,\n",
    "    ('Pencils', 'Detroit', 'New York'): 20,\n",
    "    ('Pencils', 'Detroit', 'Seattle'):  60,\n",
    "    ('Pencils', 'Denver',  'Boston'):   40,\n",
    "    ('Pencils', 'Denver',  'New York'): 40,\n",
    "    ('Pencils', 'Denver',  'Seattle'):  30,\n",
    "    ('Pens',    'Detroit', 'Boston'):   20,\n",
    "    ('Pens',    'Detroit', 'New York'): 20,\n",
    "    ('Pens',    'Detroit', 'Seattle'):  80,\n",
    "    ('Pens',    'Denver',  'Boston'):   60,\n",
    "    ('Pens',    'Denver',  'New York'): 70,\n",
    "    ('Pens',    'Denver',  'Seattle'):  30}\n",
    "\n",
    "# Demand\n",
    "inflow = {\n",
    "    ('Pencils', 'Detroit'):   50,  # Production site -> positive (supply)\n",
    "    ('Pencils', 'Denver'):    60,\n",
    "    ('Pencils', 'Boston'):   -50,  # warehouse -> negative (demand)\n",
    "    ('Pencils', 'New York'): -50,\n",
    "    ('Pencils', 'Seattle'):  -10,\n",
    "    ('Pens',    'Detroit'):   60,\n",
    "    ('Pens',    'Denver'):    40,\n",
    "    ('Pens',    'Boston'):   -40,\n",
    "    ('Pens',    'New York'): -30,\n",
    "    ('Pens',    'Seattle'):  -30}"
   ]
  },
  {
   "cell_type": "code",
   "execution_count": 62,
   "metadata": {},
   "outputs": [],
   "source": [
    "# Optimization modes\n",
    "m_netflow = gp.Model('netflow')"
   ]
  },
  {
   "cell_type": "code",
   "execution_count": 63,
   "metadata": {},
   "outputs": [
    {
     "data": {
      "text/plain": [
       "{('Pencils', 'Detroit', 'Boston'): <gurobi.Var flow[Pencils,Detroit,Boston]>,\n",
       " ('Pencils',\n",
       "  'Detroit',\n",
       "  'New York'): <gurobi.Var flow[Pencils,Detroit,New York]>,\n",
       " ('Pencils', 'Detroit', 'Seattle'): <gurobi.Var flow[Pencils,Detroit,Seattle]>,\n",
       " ('Pencils', 'Denver', 'Boston'): <gurobi.Var flow[Pencils,Denver,Boston]>,\n",
       " ('Pencils', 'Denver', 'New York'): <gurobi.Var flow[Pencils,Denver,New York]>,\n",
       " ('Pencils', 'Denver', 'Seattle'): <gurobi.Var flow[Pencils,Denver,Seattle]>,\n",
       " ('Pens', 'Detroit', 'Boston'): <gurobi.Var flow[Pens,Detroit,Boston]>,\n",
       " ('Pens', 'Detroit', 'New York'): <gurobi.Var flow[Pens,Detroit,New York]>,\n",
       " ('Pens', 'Detroit', 'Seattle'): <gurobi.Var flow[Pens,Detroit,Seattle]>,\n",
       " ('Pens', 'Denver', 'Boston'): <gurobi.Var flow[Pens,Denver,Boston]>,\n",
       " ('Pens', 'Denver', 'New York'): <gurobi.Var flow[Pens,Denver,New York]>,\n",
       " ('Pens', 'Denver', 'Seattle'): <gurobi.Var flow[Pens,Denver,Seattle]>}"
      ]
     },
     "execution_count": 63,
     "metadata": {},
     "output_type": "execute_result"
    }
   ],
   "source": [
    "# Add variables in bulk, indexed by integers or lists\n",
    "flow = m_netflow.addVars(commodities, arcs, obj=cost, name='flow')\n",
    "m_netflow.update()\n",
    "flow"
   ]
  },
  {
   "cell_type": "code",
   "execution_count": 39,
   "metadata": {},
   "outputs": [
    {
     "data": {
      "text/plain": [
       "{('Detroit', 'Boston'): <gurobi.Constr *Awaiting Model Update*>,\n",
       " ('Detroit', 'New York'): <gurobi.Constr *Awaiting Model Update*>,\n",
       " ('Detroit', 'Seattle'): <gurobi.Constr *Awaiting Model Update*>,\n",
       " ('Denver', 'Boston'): <gurobi.Constr *Awaiting Model Update*>,\n",
       " ('Denver', 'New York'): <gurobi.Constr *Awaiting Model Update*>,\n",
       " ('Denver', 'Seattle'): <gurobi.Constr *Awaiting Model Update*>}"
      ]
     },
     "execution_count": 39,
     "metadata": {},
     "output_type": "execute_result"
    }
   ],
   "source": [
    "# Arc capacity constraints\n",
    "m_netflow.addConstrs(\n",
    "    (flow.sum('*', i, j) <= capacity[i, j] for i, j in arcs), 'cap'\n",
    ") # uses python generators"
   ]
  },
  {
   "cell_type": "code",
   "execution_count": 41,
   "metadata": {},
   "outputs": [
    {
     "data": {
      "text/plain": [
       "{('Pencils', 'Detroit'): <gurobi.Constr *Awaiting Model Update*>,\n",
       " ('Pencils', 'Denver'): <gurobi.Constr *Awaiting Model Update*>,\n",
       " ('Pencils', 'Boston'): <gurobi.Constr *Awaiting Model Update*>,\n",
       " ('Pencils', 'New York'): <gurobi.Constr *Awaiting Model Update*>,\n",
       " ('Pencils', 'Seattle'): <gurobi.Constr *Awaiting Model Update*>,\n",
       " ('Pens', 'Detroit'): <gurobi.Constr *Awaiting Model Update*>,\n",
       " ('Pens', 'Denver'): <gurobi.Constr *Awaiting Model Update*>,\n",
       " ('Pens', 'Boston'): <gurobi.Constr *Awaiting Model Update*>,\n",
       " ('Pens', 'New York'): <gurobi.Constr *Awaiting Model Update*>,\n",
       " ('Pens', 'Seattle'): <gurobi.Constr *Awaiting Model Update*>}"
      ]
     },
     "execution_count": 41,
     "metadata": {},
     "output_type": "execute_result"
    }
   ],
   "source": [
    "# flow conservation constraints\n",
    "m_netflow.addConstrs(\n",
    "    (flow.sum(h, '*', j) + inflow[h,j] == flow.sum(h, j, '*') \n",
    "     for h in commodities for j in nodes), 'node')"
   ]
  },
  {
   "cell_type": "code",
   "execution_count": 42,
   "metadata": {},
   "outputs": [
    {
     "name": "stdout",
     "output_type": "stream",
     "text": [
      "Gurobi Optimizer version 9.0.1 build v9.0.1rc0 (win64)\n",
      "Optimize a model with 22 rows, 12 columns and 48 nonzeros\n",
      "Model fingerprint: 0xad4b30fe\n",
      "Coefficient statistics:\n",
      "  Matrix range     [1e+00, 1e+00]\n",
      "  Objective range  [1e+01, 8e+01]\n",
      "  Bounds range     [0e+00, 0e+00]\n",
      "  RHS range        [1e+01, 1e+02]\n",
      "Presolve removed 22 rows and 12 columns\n",
      "Presolve time: 0.02s\n",
      "Presolve: All rows and columns removed\n",
      "Iteration    Objective       Primal Inf.    Dual Inf.      Time\n",
      "       0    5.5000000e+03   0.000000e+00   2.000000e+01      0s\n",
      "Extra one simplex iteration after uncrush\n",
      "       1    5.5000000e+03   0.000000e+00   0.000000e+00      0s\n",
      "\n",
      "Solved in 1 iterations and 0.03 seconds\n",
      "Optimal objective  5.500000000e+03\n"
     ]
    }
   ],
   "source": [
    "# optimize\n",
    "m_netflow.optimize()"
   ]
  },
  {
   "cell_type": "code",
   "execution_count": 46,
   "metadata": {},
   "outputs": [
    {
     "name": "stdout",
     "output_type": "stream",
     "text": [
      "\n",
      "Optimal flows for Pencils\n",
      "Detroit -> Boston: 50.0\n",
      "Denver -> New York: 50.0\n",
      "Denver -> Seattle: 10.0\n",
      "\n",
      "Optimal flows for Pens\n",
      "Detroit -> Boston: 30.0\n",
      "Detroit -> New York: 30.0\n",
      "Denver -> Boston: 10.0\n",
      "Denver -> Seattle: 30.0\n"
     ]
    }
   ],
   "source": [
    "# print solution\n",
    "if m_netflow.status == GRB.OPTIMAL:\n",
    "    solution = m_netflow.getAttr('x', flow)\n",
    "    for h in commodities:\n",
    "        print(f'\\nOptimal flows for {h}')\n",
    "        for i, j in arcs:\n",
    "            if solution[h, i, j] > 0:\n",
    "                print(f'{i} -> {j}: {solution[h, i, j]}')"
   ]
  },
  {
   "cell_type": "code",
   "execution_count": null,
   "metadata": {},
   "outputs": [],
   "source": []
  }
 ],
 "metadata": {
  "kernelspec": {
   "display_name": "Python [conda env:gurobi] *",
   "language": "python",
   "name": "conda-env-gurobi-py"
  },
  "language_info": {
   "codemirror_mode": {
    "name": "ipython",
    "version": 3
   },
   "file_extension": ".py",
   "mimetype": "text/x-python",
   "name": "python",
   "nbconvert_exporter": "python",
   "pygments_lexer": "ipython3",
   "version": "3.7.6"
  }
 },
 "nbformat": 4,
 "nbformat_minor": 4
}
