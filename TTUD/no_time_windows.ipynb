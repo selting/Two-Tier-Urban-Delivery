{
 "cells": [
  {
   "cell_type": "markdown",
   "metadata": {},
   "source": [
    "# Two-Tier Urban Deliveries with Robots with no time windows"
   ]
  },
  {
   "attachments": {
    "Anmerkung%202020-03-12%20151840.png": {
     "image/png": "[encoded data removed]"
    }
   },
   "cell_type": "markdown",
   "metadata": {},
   "source": [
    "## MIP model\n",
    "##### Decision variables:\n",
    "\n",
    "| Variable |    |\n",
    "|------|------|\n",
    "|   $x_{c}^{wrd} = 1$| if robot $r=1, ..., r_{max}$ from hub $d$ serves customer $c$, where $d=1, ..., n; c\\in C_{d}^{\\omega}; \\omega \\in \\Omega$|\n",
    "|$x_{c}^{wrd} = 0$|otherwise|\n",
    "|$o^{d}=1$|if hub $d$ is opened where $d=1,...,n$|\n",
    "|$o^{d}=0$:|otherwise|\n",
    "\n",
    "![Anmerkung%202020-03-12%20151840.png](attachment:Anmerkung%202020-03-12%20151840.png)\n",
    "\n",
    "##### Objective Function\n",
    "$$ min \\sum_{d=1}^n o^{d}\n",
    "$$\n",
    "\n",
    "\n",
    "##### Constraints:\n",
    "1.\n",
    "\n",
    "| No. | Constraint   |\n",
    "|------|------|\n",
    "|   1  | table|"
   ]
  },
  {
   "cell_type": "markdown",
   "metadata": {},
   "source": [
    "## Gurobi Model: First Attempt"
   ]
  },
  {
   "cell_type": "code",
   "execution_count": 1,
   "metadata": {},
   "outputs": [],
   "source": [
    "import gurobipy as gp\n",
    "from gurobipy import GRB\n",
    "import matplotlib.pyplot as plt\n",
    "import numpy as np"
   ]
  },
  {
   "cell_type": "code",
   "execution_count": 2,
   "metadata": {},
   "outputs": [],
   "source": [
    "class Customer():\n",
    "    def __init__(\n",
    "        self,\n",
    "        x,\n",
    "        y,\n",
    "        service_time,\n",
    "    ):\n",
    "        self.x = x\n",
    "        self.y = y\n",
    "        self.service_time = service_time\n",
    "        \n",
    "cust = Customer(0,3,0.2)"
   ]
  },
  {
   "cell_type": "code",
   "execution_count": 3,
   "metadata": {},
   "outputs": [],
   "source": [
    "class Robot():\n",
    "    def __init__(\n",
    "        self,\n",
    "        hub\n",
    "    ):\n",
    "        self.hub = hub"
   ]
  },
  {
   "cell_type": "code",
   "execution_count": 4,
   "metadata": {},
   "outputs": [],
   "source": [
    "class Hub():\n",
    "    def __init__(\n",
    "        self,\n",
    "        x,\n",
    "        y,\n",
    "        capacity,\n",
    "        robots,\n",
    "    ):\n",
    "        self.x = x\n",
    "        self.y = y\n",
    "        self.capacity = capacity\n",
    "        self.robots = robots"
   ]
  },
  {
   "cell_type": "code",
   "execution_count": 5,
   "metadata": {},
   "outputs": [],
   "source": [
    "class Instance():\n",
    "    def __init__(\n",
    "        self,\n",
    "        customers,\n",
    "        robots,\n",
    "        hubs,\n",
    "        hub_capacity,\n",
    "        # customer_service_time,\n",
    "        hub_service_time,\n",
    "        full_recharge_time,\n",
    "        max_operating_time,\n",
    "        driving_time_limit,\n",
    "        manhattan_block_length\n",
    "    ):\n",
    "        self.customers = customers\n",
    "        self.robots = robots\n",
    "        self.hubs = hubs\n",
    "        self.hub_capacity = hub_capacity\n",
    "        # self.customer_service_time = customer_service_time\n",
    "        self.hub_service_time = hub_service_time        \n",
    "        self.full_recharge_time = full_recharge_time\n",
    "        self.max_operating_time = max_operating_time\n",
    "        self.driving_time_limit = driving_time_limit\n",
    "        self.manhattan_block_length = manhatten_block_length"
   ]
  },
  {
   "cell_type": "code",
   "execution_count": 6,
   "metadata": {},
   "outputs": [],
   "source": [
    "n = 10  # number of clients\n",
    "h = 5  # number of hubs\n",
    "r = 3  # number of robots per hub\n",
    "xc = np.random.rand(n+h)*10\n",
    "yc = np.random.rand(n+h)*10"
   ]
  },
  {
   "cell_type": "code",
   "execution_count": 7,
   "metadata": {},
   "outputs": [],
   "source": [
    "H = [i for i in range(h)]  # hubs\n",
    "N = [i for i in range(h, n+h)]  # customers\n",
    "R = [(i, j) for i in H for j in range(r)]  # hubs, robots\n",
    "\n",
    "V = H + N  # all locations\n",
    "A = gp.tuplelist([(i, j) for i in V for j in V if i != j])  # all arcs\n",
    "c = {(hub, customer): (abs(xc[hub]-xc[customer])+ abs(yc[hub]-yc[customer])) for hub in H for customer in N}  # arc weights\n",
    "M = 50  # maximum allowed driving time per robot (hrs)\n",
    "tf = 2  # robots' full recharge time (hrs)\n",
    "b = 4  # robots' battery range (hrs)\n",
    "ts = 0.2  # customer service time"
   ]
  },
  {
   "cell_type": "code",
   "execution_count": 8,
   "metadata": {},
   "outputs": [
    {
     "data": {
      "image/png": "[encoded data removed]",
      "text/plain": [
       "<Figure size 432x288 with 1 Axes>"
      ]
     },
     "metadata": {
      "needs_background": "light"
     },
     "output_type": "display_data"
    }
   ],
   "source": [
    "for hub in H:\n",
    "    plt.scatter(xc[hub], yc[hub], c='r', marker='s')\n",
    "for customer in N:\n",
    "    plt.scatter(xc[customer], yc[customer], c='b')"
   ]
  },
  {
   "cell_type": "markdown",
   "metadata": {},
   "source": [
    "### Minimize the number of hubs"
   ]
  },
  {
   "cell_type": "code",
   "execution_count": 9,
   "metadata": {},
   "outputs": [
    {
     "name": "stdout",
     "output_type": "stream",
     "text": [
      "Using license file C:\\Users\\steff\\gurobi.lic\n",
      "Academic license - for non-commercial use only\n"
     ]
    }
   ],
   "source": [
    "model = gp.Model('min_hubs')"
   ]
  },
  {
   "cell_type": "code",
   "execution_count": 10,
   "metadata": {},
   "outputs": [],
   "source": [
    "# add robot-hub-customer binary decision variables\n",
    "x = model.addVars(R, N, vtype=GRB.BINARY)\n",
    "# costs are not yet included\n",
    "# these are too many variables, thus the paper uses only \"reachable\" customer-depot combinations\n",
    "\n",
    "# add is-hub-open binary decision variables\n",
    "o = model.addVars(H, vtype=GRB.BINARY)\n",
    "\n",
    "model.setObjective(gp.quicksum(o), sense=GRB.MINIMIZE)\n",
    "\n",
    "model.update()"
   ]
  },
  {
   "cell_type": "code",
   "execution_count": 11,
   "metadata": {},
   "outputs": [],
   "source": [
    "# All customer locations must be assigned to exactly one hub-robot combination\n",
    "for customer in N:\n",
    "    model.addConstr(x.sum('*', '*', customer) == 1)"
   ]
  },
  {
   "cell_type": "code",
   "execution_count": 12,
   "metadata": {},
   "outputs": [
    {
     "data": {
      "text/plain": [
       "[25.791842076426022]"
      ]
     },
     "execution_count": 12,
     "metadata": {},
     "output_type": "execute_result"
    }
   ],
   "source": [
    "coeff = gp.tupledict({(hub, robot, customer): 2*c[hub, customer]*(1+(tf/b))+ts for hub, robot in R for customer in N})\n",
    "coeff.select(0, 0, 9)"
   ]
  },
  {
   "cell_type": "code",
   "execution_count": 13,
   "metadata": {},
   "outputs": [],
   "source": [
    "# limit on the maximum robot working time, which is based on the time required for the round \n",
    "# trip to customer locations, recharging time, and service time.\n",
    "for hub, robot in R:\n",
    "    model.addConstr(x.prod(coeff, hub, robot, '*') <= M)"
   ]
  },
  {
   "cell_type": "code",
   "execution_count": 14,
   "metadata": {},
   "outputs": [],
   "source": [
    "# if a robot serves a customer location (in some instance omega), the corresponding robot hub is open\n",
    "for hub in H:  # eventually this must iterate over all customers assigned to one hub ('reachable')\n",
    "    for customer in N:\n",
    "        model.addConstr(x.sum(hub, '*', customer) <= o.select(hub)[0])"
   ]
  },
  {
   "cell_type": "code",
   "execution_count": 15,
   "metadata": {},
   "outputs": [
    {
     "name": "stdout",
     "output_type": "stream",
     "text": [
      "Gurobi Optimizer version 9.0.1 build v9.0.1rc0 (win64)\n",
      "Optimize a model with 75 rows, 155 columns and 500 nonzeros\n",
      "Model fingerprint: 0x283d74e1\n",
      "Variable types: 0 continuous, 155 integer (155 binary)\n",
      "Coefficient statistics:\n",
      "  Matrix range     [1e+00, 4e+01]\n",
      "  Objective range  [1e+00, 1e+00]\n",
      "  Bounds range     [1e+00, 1e+00]\n",
      "  RHS range        [1e+00, 5e+01]\n",
      "Found heuristic solution: objective 5.0000000\n",
      "Presolve time: 0.00s\n",
      "Presolved: 75 rows, 155 columns, 500 nonzeros\n",
      "Variable types: 0 continuous, 155 integer (155 binary)\n",
      "\n",
      "Root relaxation: objective 1.000000e+00, 59 iterations, 0.00 seconds\n",
      "\n",
      "    Nodes    |    Current Node    |     Objective Bounds      |     Work\n",
      " Expl Unexpl |  Obj  Depth IntInf | Incumbent    BestBd   Gap | It/Node Time\n",
      "\n",
      "     0     0    1.00000    0   22    5.00000    1.00000  80.0%     -    0s\n",
      "H    0     0                       3.0000000    1.00000  66.7%     -    0s\n",
      "H    0     0                       2.0000000    1.00000  50.0%     -    0s\n",
      "     0     0    1.00000    0   34    2.00000    1.00000  50.0%     -    0s\n",
      "\n",
      "Cutting planes:\n",
      "  Gomory: 1\n",
      "  Clique: 3\n",
      "  MIR: 1\n",
      "\n",
      "Explored 1 nodes (190 simplex iterations) in 0.02 seconds\n",
      "Thread count was 8 (of 8 available processors)\n",
      "\n",
      "Solution count 3: 2 3 5 \n",
      "\n",
      "Optimal solution found (tolerance 1.00e-04)\n",
      "Best objective 2.000000000000e+00, best bound 2.000000000000e+00, gap 0.0000%\n"
     ]
    }
   ],
   "source": [
    "model.optimize()"
   ]
  },
  {
   "cell_type": "code",
   "execution_count": 16,
   "metadata": {},
   "outputs": [
    {
     "data": {
      "text/plain": [
       "{10: 2, 12: 2, 14: 2, 6: 2, 13: 2, 5: 2, 7: 2, 11: 2, 9: 3, 8: 3}"
      ]
     },
     "execution_count": 16,
     "metadata": {},
     "output_type": "execute_result"
    }
   ],
   "source": [
    "x_solution = model.getAttr('x', x)\n",
    "{key[2]:key[0] for key, value in x_solution.items() if value > 0.5}  # customer: hub"
   ]
  },
  {
   "cell_type": "code",
   "execution_count": 17,
   "metadata": {},
   "outputs": [
    {
     "data": {
      "text/plain": [
       "{0: 0.0, 1: -0.0, 2: 1.0, 3: 1.0, 4: 0.0}"
      ]
     },
     "execution_count": 17,
     "metadata": {},
     "output_type": "execute_result"
    }
   ],
   "source": [
    "o_solution = model.getAttr('x', o)\n",
    "o_solution"
   ]
  },
  {
   "cell_type": "code",
   "execution_count": 18,
   "metadata": {},
   "outputs": [
    {
     "data": {
      "image/png": "[encoded data removed]",
      "text/plain": [
       "<Figure size 432x288 with 1 Axes>"
      ]
     },
     "metadata": {
      "needs_background": "light"
     },
     "output_type": "display_data"
    }
   ],
   "source": [
    "for hub in H:\n",
    "    if o_solution[hub] > 0.5:\n",
    "        color = 'r'\n",
    "    else:\n",
    "        color='0.75'\n",
    "    plt.scatter(xc[hub], yc[hub], c=color, marker='s')\n",
    "for customer in N:\n",
    "    plt.scatter(xc[customer], yc[customer], c='b')"
   ]
  },
  {
   "cell_type": "code",
   "execution_count": 19,
   "metadata": {},
   "outputs": [],
   "source": [
    "#for i, j in active:\n",
    "#    plt.plot([xc[i], xc[j]], [yc[i], yc[j]], c='c', zorder=0, alpha=0.2)\n",
    "#for i in range(h):\n",
    "#    plt.scatter(xc[i], yc[i], c='r', marker='s')\n",
    "#for i in range(h, n+h):\n",
    "#    plt.scatter(xc[i], yc[i], c='b')"
   ]
  },
  {
   "cell_type": "code",
   "execution_count": null,
   "metadata": {},
   "outputs": [],
   "source": []
  }
 ],
 "metadata": {
  "kernelspec": {
   "display_name": "Python [conda env:gurobi] *",
   "language": "python",
   "name": "conda-env-gurobi-py"
  },
  "language_info": {
   "codemirror_mode": {
    "name": "ipython",
    "version": 3
   },
   "file_extension": ".py",
   "mimetype": "text/x-python",
   "name": "python",
   "nbconvert_exporter": "python",
   "pygments_lexer": "ipython3",
   "version": "3.7.6"
  }
 },
 "nbformat": 4,
 "nbformat_minor": 4
}
