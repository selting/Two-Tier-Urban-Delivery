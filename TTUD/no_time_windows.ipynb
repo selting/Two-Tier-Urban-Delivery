{
 "cells": [
  {
   "cell_type": "markdown",
   "metadata": {},
   "source": [
    "# Two-Tier Urban Deliveries with Robots with no time windows"
   ]
  },
  {
   "cell_type": "markdown",
   "metadata": {},
   "source": [
    "## Gurobi Model"
   ]
  },
  {
   "cell_type": "code",
   "execution_count": 1,
   "metadata": {},
   "outputs": [],
   "source": [
    "import gurobipy as gp\n",
    "from gurobipy import GRB\n",
    "import matplotlib.pyplot as plt\n",
    "import numpy as np\n",
    "from collections import Counter  # for some testing [optional]\n",
    "import ipywidgets as widgets  # for interactive plots [optional]\n",
    "from ipywidgets import interact, interact_manual  # for interactive plots [optional]\n",
    "from tqdm.notebook import tqdm  # for progress bars [optional]\n",
    "\n",
    "# program must be adjusted in some places if optional packages are not available"
   ]
  },
  {
   "cell_type": "markdown",
   "metadata": {},
   "source": [
    "#### Some custom functions for later use"
   ]
  },
  {
   "cell_type": "code",
   "execution_count": 2,
   "metadata": {},
   "outputs": [],
   "source": [
    "def grid (a, n=None, spacing=None):\n",
    "    \"\"\"\n",
    "    distribute n points evenly in a 2-dimensional square of side length a\n",
    "    or create a square grid with suqare cells of length c\n",
    "    \"\"\"\n",
    "    if spacing is None:\n",
    "        assert n\n",
    "        spacing = a // int(np.sqrt(n))\n",
    "        base = range(spacing//2, a, spacing)\n",
    "    if n is None:\n",
    "        assert spacing\n",
    "        base = range(0, a+1, spacing)\n",
    "    return[(x,y) for x in base for y in base]\n",
    "\n",
    "def travel_time(first: tuple, second:tuple, speed):\n",
    "    \"\"\"\n",
    "    compute the travel time between first and second\n",
    "    first, second: given as (x, y) tuples \n",
    "    speed: given in km/h\n",
    "    \"\"\"\n",
    "    dist = abs(first[0] - second[0]) + abs(first[1] - second[1])  # Manhattan distance in m (!) because input is in meters\n",
    "    return (dist/1000)/speed  # travel time in hours\n",
    "\n"
   ]
  },
  {
   "cell_type": "markdown",
   "metadata": {},
   "source": [
    "#### Model inputs"
   ]
  },
  {
   "cell_type": "code",
   "execution_count": 3,
   "metadata": {},
   "outputs": [
    {
     "data": {
      "application/vnd.jupyter.widget-view+json": {
       "model_id": "994cce1047a04c72a2dce09fd145c344",
       "version_major": 2,
       "version_minor": 0
      },
      "text/plain": [
       "HBox(children=(FloatProgress(value=0.0, description='Pendulum distances', max=16.0, style=ProgressStyle(descri…"
      ]
     },
     "metadata": {},
     "output_type": "display_data"
    },
    {
     "name": "stdout",
     "output_type": "stream",
     "text": [
      "\n"
     ]
    },
    {
     "data": {
      "application/vnd.jupyter.widget-view+json": {
       "model_id": "9197333a67614a47a3d599741624177d",
       "version_major": 2,
       "version_minor": 0
      },
      "text/plain": [
       "HBox(children=(FloatProgress(value=0.0, description='Reachable customers', max=16.0, style=ProgressStyle(descr…"
      ]
     },
     "metadata": {},
     "output_type": "display_data"
    },
    {
     "name": "stdout",
     "output_type": "stream",
     "text": [
      "\n"
     ]
    }
   ],
   "source": [
    "np.random.seed(0)  # for reproducable results\n",
    "\n",
    "n = 100  # number of clients\n",
    "h = 16  # number of potential hubs (should be a square number (4, 9, 16, 25, ...) for an even distribution)\n",
    "r_max = 5  # number of robots per hub\n",
    "num_instances = 10\n",
    "\n",
    "# downtown\n",
    "area= 2000  # 2km * 2km square\n",
    "block = 100  # 100m * 100m blocks\n",
    "\n",
    "M = 6  # maximum allowed driving time per robot (hrs)\n",
    "tf = 45/60  # robots' full recharge time (hrs)\n",
    "b = 2  # robots' battery range (hrs)\n",
    "ts = 4/60  # customer service time (hrs)\n",
    "v = 3  # robot speed (km/h)\n",
    "\n",
    "H = [i for i in range(h)]  # hubs\n",
    "R = [i for i in range(r_max)]  # robots\n",
    "N = [i for i in range(n)]  # customers\n",
    "I = [i for i in range(num_instances)]  # instances\n",
    "\n",
    "hub_coords = grid(a=area, n=h)\n",
    "\n",
    "grid_x, grid_y = zip(*grid(a=area, spacing=block))\n",
    "customer_coords = gp.tupledict()\n",
    "for instance in I:  # originally, smaller instances are subsets of the bigger ones (n=300), here all instances are unique atm\n",
    "    for customer in N:\n",
    "        customer_coords[instance, customer] = (np.random.choice(grid_x), np.random.choice(grid_y))\n",
    "\n",
    "\n",
    "t = gp.tupledict()  # pendulum distances\n",
    "for hub in tqdm(H, desc='Pendulum distances'):\n",
    "    for robot in R:\n",
    "        for instance in I:\n",
    "            for customer in N:\n",
    "                t[hub, robot, instance, customer] = 2*travel_time(first=hub_coords[hub],\n",
    "                                                                  second=customer_coords[instance, customer],\n",
    "                                                                  speed=v)\n",
    "            \n",
    "reachables = [key for (key, value) in t.items() if value <=b]  # customers within battery range of each hub\n",
    "\n",
    "reachable_customers = gp.tupledict()  # dictionary of customers that are in reach of each (hub, robot, instance) combination\n",
    "for hub in tqdm(H, desc='Reachable customers'):\n",
    "    for robot in R:\n",
    "        for instance in I:\n",
    "            in_reach = []\n",
    "            for customer in N:    \n",
    "                if t.select(hub, robot, instance, customer)[0] <= b:\n",
    "                    in_reach.append(customer)\n",
    "                reachable_customers[(hub, robot, instance)] = in_reach"
   ]
  },
  {
   "cell_type": "markdown",
   "metadata": {},
   "source": [
    "#### Plotting hubs and a single instance"
   ]
  },
  {
   "cell_type": "code",
   "execution_count": 4,
   "metadata": {},
   "outputs": [
    {
     "data": {
      "application/vnd.jupyter.widget-view+json": {
       "model_id": "bd9538dc06f84b46add274dd4efee67d",
       "version_major": 2,
       "version_minor": 0
      },
      "text/plain": [
       "interactive(children=(Dropdown(description='plot_instance', options=(None, 0, 1, 2, 3, 4, 5, 6, 7, 8, 9), valu…"
      ]
     },
     "metadata": {},
     "output_type": "display_data"
    }
   ],
   "source": [
    "colors = plt.get_cmap('hsv', h)\n",
    "hubs_x, hubs_y = zip(*hub_coords)\n",
    "\n",
    "def base_plot(plot_instance:int):\n",
    "    plt.scatter(hubs_x, hubs_y, cmap=colors, c=H, marker='s', s=75, edgecolors='black')\n",
    "    if plot_instance is not None:\n",
    "        customers_x, customers_y = zip(*customer_coords.select(plot_instance, '*'))\n",
    "        plt.scatter(customers_x, customers_y, c='black')\n",
    "        for customer in N:\n",
    "            plt.annotate(s=customer, xy=(customers_x[customer], customers_y[customer]))\n",
    "    plt.xlim(0, area)\n",
    "    plt.ylim(0, area)\n",
    "    # plt.gca().set_xticks(np.arange(0, area+block, block), minor=True)\n",
    "    # plt.gca().set_yticks(np.arange(0, area+block, block), minor=True)\n",
    "    # plt.grid(which='minor', dashes=(2, 10))\n",
    "    # plt.grid(which='major')\n",
    "    # plt.gcf().set_size_inches(15,8)  \n",
    "interact(base_plot, plot_instance=[None]+I);"
   ]
  },
  {
   "cell_type": "markdown",
   "metadata": {},
   "source": [
    "### Tier 1: Minimize the number of hubs"
   ]
  },
  {
   "cell_type": "markdown",
   "metadata": {},
   "source": [
    "#### Model, decision variables and objective function"
   ]
  },
  {
   "cell_type": "code",
   "execution_count": 5,
   "metadata": {},
   "outputs": [
    {
     "name": "stdout",
     "output_type": "stream",
     "text": [
      "Using license file C:\\Users\\steff\\gurobi.lic\n",
      "Academic license - for non-commercial use only\n"
     ]
    }
   ],
   "source": [
    "model1 = gp.Model('min_hubs')\n",
    "\n",
    "# add hub-robot-instance-customer binary decision variables\n",
    "x1 = model1.addVars(reachables, vtype=GRB.BINARY, name='x')\n",
    "# format of x1 vars: (hub, instance, customer, robot)\n",
    "\n",
    "# add is-hub-open binary decision variables\n",
    "o1 = model1.addVars(H, vtype=GRB.BINARY, name='o')\n",
    "\n",
    "model1.setObjective(gp.quicksum(o1), sense=GRB.MINIMIZE)\n",
    "model1.update()"
   ]
  },
  {
   "cell_type": "markdown",
   "metadata": {},
   "source": [
    "#### Adding constraints"
   ]
  },
  {
   "cell_type": "code",
   "execution_count": 6,
   "metadata": {},
   "outputs": [],
   "source": [
    "# (2) All instance-customer locations must be assigned to exactly one hub-robot combination\n",
    "for instance in I:\n",
    "    for customer in N:\n",
    "        model1.addConstr(x1.sum('*', '*', instance, customer) == 1)"
   ]
  },
  {
   "cell_type": "code",
   "execution_count": 7,
   "metadata": {},
   "outputs": [],
   "source": [
    "# (3) limit on the maximum robot working time. First create a dictionary with the respective coefficients then add linear expression\n",
    "coeff1 = gp.tupledict({\n",
    "    (hub, robot, instance, customer): t[hub, robot, instance, customer] * (1 + (tf / b)) + ts\n",
    "    for hub in H\n",
    "    for robot in R\n",
    "    for instance in I\n",
    "    for customer in N\n",
    "})\n",
    "\n",
    "for hub in H:\n",
    "    for robot in R:\n",
    "        for instance in I:\n",
    "            model1.addConstr(x1.prod(coeff1, hub, robot, instance, '*') <= M)"
   ]
  },
  {
   "cell_type": "code",
   "execution_count": 8,
   "metadata": {},
   "outputs": [],
   "source": [
    "# (4) if a robot serves a customer location (in some instance), the corresponding robot hub is open\n",
    "for hub in H:\n",
    "    for instance in I:\n",
    "        for customer in reachable_customers[hub, robot, instance]:\n",
    "            model1.addConstr(x1.sum(hub, '*', instance, customer) <= o1[hub])"
   ]
  },
  {
   "cell_type": "markdown",
   "metadata": {},
   "source": [
    "#### Solve Model 1"
   ]
  },
  {
   "cell_type": "code",
   "execution_count": 9,
   "metadata": {},
   "outputs": [
    {
     "name": "stdout",
     "output_type": "stream",
     "text": [
      "Gurobi Optimizer version 9.0.1 build v9.0.1rc0 (win64)\n",
      "Optimize a model with 17658 rows, 79306 columns and 253728 nonzeros\n",
      "Model fingerprint: 0x62d8e3ae\n",
      "Variable types: 0 continuous, 79306 integer (79306 binary)\n",
      "Coefficient statistics:\n",
      "  Matrix range     [2e-01, 3e+00]\n",
      "  Objective range  [1e+00, 1e+00]\n",
      "  Bounds range     [1e+00, 1e+00]\n",
      "  RHS range        [1e+00, 6e+00]\n",
      "Found heuristic solution: objective 16.0000000\n",
      "Presolve time: 0.42s\n",
      "Presolved: 17658 rows, 79306 columns, 253728 nonzeros\n",
      "Variable types: 0 continuous, 79306 integer (79306 binary)\n",
      "\n",
      "Deterministic concurrent LP optimizer: primal and dual simplex\n",
      "Showing first log only...\n",
      "\n",
      "Concurrent spin time: 0.00s\n",
      "\n",
      "Solved with dual simplex\n",
      "\n",
      "Root relaxation: objective 1.000000e+00, 14776 iterations, 0.90 seconds\n",
      "Total elapsed time = 10.26s\n",
      "\n",
      "    Nodes    |    Current Node    |     Objective Bounds      |     Work\n",
      " Expl Unexpl |  Obj  Depth IntInf | Incumbent    BestBd   Gap | It/Node Time\n",
      "\n",
      "     0     0    1.00000    0 4101   16.00000    1.00000  93.8%     -   19s\n",
      "H    0     0                       5.0000000    1.00000  80.0%     -   19s\n",
      "     0     0    1.00000    0 5082    5.00000    1.00000  80.0%     -   49s\n",
      "     0     0    1.00000    0 6058    5.00000    1.00000  80.0%     -   51s\n",
      "     0     0    1.00000    0 5066    5.00000    1.00000  80.0%     -   77s\n",
      "     0     0    1.00000    0 6079    5.00000    1.00000  80.0%     -   83s\n",
      "     0     0    1.04035    0 5083    5.00000    1.04035  79.2%     -  122s\n",
      "     0     0    1.04035    0 5083    5.00000    1.04035  79.2%     -  130s\n",
      "H    0     2                       4.0000000    1.04035  74.0%     -  225s\n",
      "     0     2    1.04035    0 5067    4.00000    1.04035  74.0%     -  225s\n",
      "     1     4    1.04035    1 7050    4.00000    1.04035  74.0% 64452  230s\n",
      "     7    12    1.04035    3 7021    4.00000    1.04035  74.0% 14185  236s\n",
      "    11    16    1.04035    4 11382    4.00000    1.04035  74.0% 17322  257s\n",
      "    23    28    1.10504    7 8202    4.00000    1.04035  74.0%  9113  260s\n",
      "    41    47    1.29379   11 4105    4.00000    1.04035  74.0%  5942  270s\n",
      "    46    51    1.77815   11 5737    4.00000    1.04035  74.0%  6193  292s\n",
      "    56    61    2.33815   13 2864    4.00000    1.04035  74.0%  6964  322s\n",
      "    62    69    2.34587   14 2814    4.00000    1.04035  74.0%  8511  326s\n",
      "    84    91    3.00000   18  258    4.00000    1.04035  74.0%  6852  331s\n",
      "   139   143    3.00000   34  237    4.00000    1.04035  74.0%  4366  335s\n",
      "   359   352    3.00000   83  199    4.00000    1.04035  74.0%  1773  340s\n",
      "   435   404    3.00000   98  193    4.00000    1.04035  74.0%  1466  345s\n",
      "H  436   225                       3.0000000    1.04035  65.3%  1463  345s\n",
      "   443   208     cutoff   99         3.00000    1.04035  65.3%  1440  350s\n",
      "   472   225    1.79098    8 4885    3.00000    1.14053  62.0%  1517  357s\n",
      "   483   221    1.79524   10 4860    3.00000    1.14053  62.0%  1551  370s\n",
      "   490   212    1.82006   12 4835    3.00000    1.14053  62.0%  1712  490s\n",
      "   497   205     cutoff   11         3.00000    1.14053  62.0%  2247  633s\n",
      "   504   203     cutoff   12         3.00000    1.14053  62.0%  2320  640s\n",
      "   516   203    1.80083   10 6798    3.00000    1.14053  62.0%  2418  647s\n",
      "   523   197     cutoff   12         3.00000    1.14053  62.0%  2520  668s\n",
      "   529   196    1.78385    9 5669    3.00000    1.74723  41.8%  2764  673s\n",
      "   536   195    1.79285   10 4798    3.00000    1.77225  40.9%  2827  678s\n",
      "   543   192    1.84837   12 4623    3.00000    1.77225  40.9%  2894  690s\n",
      "   550   184     cutoff   11         3.00000    1.78163  40.6%  3067  700s\n",
      "   558   176     cutoff    8         3.00000    1.78178  40.6%  3193  705s\n",
      "   566   168     cutoff    6         3.00000    1.79098  40.3%  3262  710s\n",
      "   574   161     cutoff    7         3.00000    1.79905  40.0%  3353  715s\n",
      "   583    69     cutoff   14         3.00000    1.87666  37.4%  3396  721s\n",
      "   728     0    2.00000   13 2684    3.00000    2.00000  33.3%  2824  726s\n",
      "\n",
      "Cutting planes:\n",
      "  Gomory: 14\n",
      "  MIR: 3\n",
      "  StrongCG: 2\n",
      "\n",
      "Explored 748 nodes (2612972 simplex iterations) in 726.75 seconds\n",
      "Thread count was 8 (of 8 available processors)\n",
      "\n",
      "Solution count 4: 3 4 5 16 \n",
      "\n",
      "Optimal solution found (tolerance 1.00e-04)\n",
      "Best objective 3.000000000000e+00, best bound 3.000000000000e+00, gap 0.0000%\n"
     ]
    }
   ],
   "source": [
    "# model1.setParam('TimeLimit', 240)  # for testing only\n",
    "model1.optimize()"
   ]
  },
  {
   "cell_type": "markdown",
   "metadata": {},
   "source": [
    "#### Inspect and plot one of the instances with the solution"
   ]
  },
  {
   "cell_type": "code",
   "execution_count": 10,
   "metadata": {},
   "outputs": [],
   "source": [
    "x1_solution = model1.getAttr('x', x1)\n",
    "assignment1 = gp.tupledict({\n",
    "    (key[2], key[3]):(key[0], key[1]) \n",
    "    for key, value in x1_solution.items() \n",
    "    if value > 0.5})  # (instance, customer): (hub, robot)"
   ]
  },
  {
   "cell_type": "code",
   "execution_count": 11,
   "metadata": {},
   "outputs": [
    {
     "data": {
      "text/plain": [
       "3"
      ]
     },
     "execution_count": 11,
     "metadata": {},
     "output_type": "execute_result"
    }
   ],
   "source": [
    "o1_solution = model1.getAttr('x', o1)\n",
    "p = len([key for key, value in o1_solution.items() if value > 0.5])  # min number of open hubs\n",
    "p"
   ]
  },
  {
   "cell_type": "code",
   "execution_count": 12,
   "metadata": {},
   "outputs": [
    {
     "data": {
      "application/vnd.jupyter.widget-view+json": {
       "model_id": "275ab31a00de4a23b56a451d4d76b570",
       "version_major": 2,
       "version_minor": 0
      },
      "text/plain": [
       "interactive(children=(Dropdown(description='plot_instance', options=(None, 0, 1, 2, 3, 4, 5, 6, 7, 8, 9), valu…"
      ]
     },
     "metadata": {},
     "output_type": "display_data"
    }
   ],
   "source": [
    "def model1_plot(plot_instance):\n",
    "    colors = plt.get_cmap('hsv', p)\n",
    "    hub_colors = []\n",
    "    for hub in H:\n",
    "        if o1_solution[hub] > 0.5:\n",
    "            hub_colors.append(colors(hub/h))\n",
    "        else:\n",
    "            hub_colors.append('white')\n",
    "\n",
    "    plt.scatter(hubs_x, hubs_y, c=hub_colors, marker='s', s=75, edgecolors='black')\n",
    "    \n",
    "    if plot_instance is not None:\n",
    "        customer_colors = []\n",
    "        for customer in N:\n",
    "            customer_colors.append(colors(assignment1[plot_instance, customer][0]/h))  \n",
    "\n",
    "        customers_x, customers_y = zip(*customer_coords.select(plot_instance, '*'))  \n",
    "        plt.scatter(customers_x, customers_y, c=customer_colors, alpha=1, edgecolors='black')\n",
    "\n",
    "        if n <= 100:\n",
    "            for customer in N:\n",
    "                plt.annotate(s=customer, xy=(customers_x[customer], customers_y[customer]))\n",
    "\n",
    "    plt.xlim(0, area)\n",
    "    plt.ylim(0, area);\n",
    "    # plt.gcf().set_size_inches(20,10)\n",
    "interact(model1_plot, plot_instance=[None]+I);"
   ]
  },
  {
   "cell_type": "markdown",
   "metadata": {},
   "source": [
    "### Tier 2: Minimize operational robot cost"
   ]
  },
  {
   "cell_type": "markdown",
   "metadata": {},
   "source": [
    "#### Model, decision variables, objective function"
   ]
  },
  {
   "cell_type": "code",
   "execution_count": 13,
   "metadata": {},
   "outputs": [],
   "source": [
    "model2 = gp.Model('min_cost')\n",
    "\n",
    "# add decision variables\n",
    "x2 = model2.addVars(reachables, vtype=GRB.BINARY, name='x')\n",
    "o2 = model2.addVars(H, vtype=GRB.BINARY, name= 'o')\n",
    "\n",
    "# set the objective function\n",
    "coeff2 = t\n",
    "\n",
    "model2.setObjective(x2.prod(coeff2), sense=GRB.MINIMIZE)\n",
    "model2.update()\n",
    "# model2.getObjective()"
   ]
  },
  {
   "cell_type": "markdown",
   "metadata": {},
   "source": [
    "#### Add constraints"
   ]
  },
  {
   "cell_type": "code",
   "execution_count": 14,
   "metadata": {},
   "outputs": [],
   "source": [
    "# define the constraints\n",
    "# (2) All customer locations must be assigned to exactly one hub-robot combination (same as in first model)\n",
    "for instance in I:\n",
    "    for customer in N:\n",
    "        model2.addConstr(x2.sum('*', '*', instance, customer) == 1)\n",
    "        \n",
    "# (3) limit the robot max working time (same as in first model)\n",
    "for hub in H:\n",
    "    for robot in R:\n",
    "        for instance in I:\n",
    "            model2.addConstr(x2.prod(coeff1, hub, robot, instance, '*') <= M)\n",
    "        \n",
    "# (4) Hub is open when one customer is served by any of its robots ????? (4) in paper\n",
    "for hub in H:\n",
    "    for instance in I:\n",
    "        for customer in reachable_customers[hub, robot, instance]:\n",
    "            model2.addConstr(x2.sum(hub, '*', instance, customer) <= o2[hub])\n",
    "\n",
    "# (8) ensure that there are exactly as many open robot hubs as provided by first model\n",
    "model2.addConstr(o2.sum() == p)\n",
    "\n",
    "model2.update()"
   ]
  },
  {
   "cell_type": "markdown",
   "metadata": {},
   "source": [
    "#### Solve Model 2"
   ]
  },
  {
   "cell_type": "code",
   "execution_count": 15,
   "metadata": {},
   "outputs": [
    {
     "name": "stdout",
     "output_type": "stream",
     "text": [
      "Gurobi Optimizer version 9.0.1 build v9.0.1rc0 (win64)\n",
      "Optimize a model with 17659 rows, 79306 columns and 253744 nonzeros\n",
      "Model fingerprint: 0x46d3651b\n",
      "Variable types: 0 continuous, 79306 integer (79306 binary)\n",
      "Coefficient statistics:\n",
      "  Matrix range     [2e-01, 3e+00]\n",
      "  Objective range  [7e-02, 2e+00]\n",
      "  Bounds range     [1e+00, 1e+00]\n",
      "  RHS range        [1e+00, 6e+00]\n",
      "Presolve time: 0.37s\n",
      "Presolved: 17659 rows, 79306 columns, 253744 nonzeros\n",
      "Variable types: 0 continuous, 79306 integer (79306 binary)\n",
      "\n",
      "Deterministic concurrent LP optimizer: primal and dual simplex\n",
      "Showing first log only...\n",
      "\n",
      "Concurrent spin time: 0.00s\n",
      "\n",
      "Solved with dual simplex\n",
      "\n",
      "Root relaxation: objective 4.298667e+02, 9287 iterations, 1.43 seconds\n",
      "\n",
      "    Nodes    |    Current Node    |     Objective Bounds      |     Work\n",
      " Expl Unexpl |  Obj  Depth IntInf | Incumbent    BestBd   Gap | It/Node Time\n",
      "\n",
      "     0     0  429.86667    0 1456          -  429.86667      -     -    3s\n",
      "H    0     0                     509.2000000  429.86667  15.6%     -    6s\n",
      "     0     0  429.96667    0 1464  509.20000  429.96667  15.6%     -    6s\n",
      "H    0     0                     435.6000000  429.96667  1.29%     -   10s\n",
      "     0     0  430.06667    0 1464  435.60000  430.06667  1.27%     -   10s\n",
      "     0     0  430.86667    0 1466  435.60000  430.86667  1.09%     -   11s\n",
      "H    0     0                     430.8666667  430.86667  0.00%     -   12s\n",
      "\n",
      "Cutting planes:\n",
      "  Gomory: 3\n",
      "  Cover: 4\n",
      "  MIR: 3\n",
      "  StrongCG: 2\n",
      "  Zero half: 45\n",
      "  Mod-K: 1\n",
      "  RLT: 5\n",
      "\n",
      "Explored 1 nodes (33974 simplex iterations) in 12.77 seconds\n",
      "Thread count was 8 (of 8 available processors)\n",
      "\n",
      "Solution count 3: 430.867 435.6 509.2 \n",
      "\n",
      "Optimal solution found (tolerance 1.00e-04)\n",
      "Best objective 4.308666666667e+02, best bound 4.308666666667e+02, gap 0.0000%\n"
     ]
    }
   ],
   "source": [
    "model2.optimize()"
   ]
  },
  {
   "cell_type": "markdown",
   "metadata": {},
   "source": [
    "#### Inspect and plot solution of Model 2"
   ]
  },
  {
   "cell_type": "code",
   "execution_count": 16,
   "metadata": {},
   "outputs": [
    {
     "data": {
      "text/plain": [
       "430.8666666666642"
      ]
     },
     "execution_count": 16,
     "metadata": {},
     "output_type": "execute_result"
    }
   ],
   "source": [
    "objValue2 = model2.getObjective().getValue()\n",
    "objValue2"
   ]
  },
  {
   "cell_type": "code",
   "execution_count": 17,
   "metadata": {},
   "outputs": [
    {
     "data": {
      "text/plain": [
       "Counter({True: 1000})"
      ]
     },
     "execution_count": 17,
     "metadata": {},
     "output_type": "execute_result"
    }
   ],
   "source": [
    "x2_solution = model2.getAttr('x', x2)\n",
    "# customer: (hub, robot) lookup dict\n",
    "assignment2 = gp.tupledict({\n",
    "    (key[2], key[3]):(key[0], key[1]) \n",
    "    for key, value in x2_solution.items() \n",
    "    if value > 0.5})\n",
    "assignment2\n",
    "# test whether the constraints are satisfied: every customer is assigned to one robot and one hub\n",
    "Counter([x2_solution.sum('*', '*', instance, customer).getValue() == 1 for customer in N for instance in I])"
   ]
  },
  {
   "cell_type": "code",
   "execution_count": 18,
   "metadata": {},
   "outputs": [
    {
     "data": {
      "text/plain": [
       "Counter({True: 800})"
      ]
     },
     "execution_count": 18,
     "metadata": {},
     "output_type": "execute_result"
    }
   ],
   "source": [
    "# test the constraints: maximum working time of robots\n",
    "Counter([x2.prod(coeff1, hub, instance, '*', robot).getValue() <= M for hub in H for instance in I for robot in R])"
   ]
  },
  {
   "cell_type": "code",
   "execution_count": 19,
   "metadata": {},
   "outputs": [
    {
     "data": {
      "text/plain": [
       "True"
      ]
     },
     "execution_count": 19,
     "metadata": {},
     "output_type": "execute_result"
    }
   ],
   "source": [
    "o2_solution = model2.getAttr('x', o2)\n",
    "o2_solution\n",
    "# test whether constraints are satisfied: only three hubs are open\n",
    "o2_solution.sum().getValue() == p"
   ]
  },
  {
   "cell_type": "code",
   "execution_count": 20,
   "metadata": {
    "scrolled": true
   },
   "outputs": [],
   "source": [
    "workload = dict()\n",
    "for hub in H:\n",
    "    for robot in R:\n",
    "        for instance in I:\n",
    "            wl = x2_solution.sum(hub, robot, instance, '*').getValue()\n",
    "            if wl > 0:\n",
    "                customers = [key[1] for key, value in assignment2.items() if value == (hub, robot) and key[0] == instance]\n",
    "                workload[hub, robot, instance] = [customers,\n",
    "                                        wl,\n",
    "                                        x2_solution.prod(coeff2, hub, instance, '*', robot).getValue(),  # pure travel time over all instances\n",
    "                                        x2_solution.prod(coeff1, hub, instance, '*', robot).getValue()  # total time incl. recharge etc.\n",
    "                                       ]\n",
    "active_robots, wl_customers, wl_num_customers, wl_travel_time, wl_total_time = gp.multidict(workload)\n",
    "# active_robots, wl_customers, wl_num_customers, wl_travel_time, wl_total_time"
   ]
  },
  {
   "cell_type": "code",
   "execution_count": 21,
   "metadata": {},
   "outputs": [
    {
     "data": {
      "application/vnd.jupyter.widget-view+json": {
       "model_id": "4bc030f379d245d2bc05d75148f4a0dc",
       "version_major": 2,
       "version_minor": 0
      },
      "text/plain": [
       "interactive(children=(Dropdown(description='plot_instance', options=(0, 1, 2, 3, 4, 5, 6, 7, 8, 9), value=0), …"
      ]
     },
     "metadata": {},
     "output_type": "display_data"
    }
   ],
   "source": [
    "def model2_plot(plot_instance):\n",
    "    # plot hubs\n",
    "    hub_colors = []\n",
    "    for hub in H:\n",
    "        if o2_solution[hub] > 0.5:\n",
    "            hub_colors.append(colors(hub/h))\n",
    "        else:\n",
    "            hub_colors.append('black')\n",
    "    plt.scatter(hubs_x, hubs_y, c=hub_colors, marker='s', s=75, edgecolors='black')\n",
    "    \n",
    "    # plot customers\n",
    "    customer_colors = []\n",
    "    for customer in N:\n",
    "        customer_colors.append(colors(assignment2[plot_instance, customer][0]/h))\n",
    "    customers_x, customers_y = zip(*customer_coords.select(plot_instance, '*'))\n",
    "    plt.scatter(customers_x, customers_y, c=customer_colors, alpha=0.5, edgecolors='black')\n",
    "\n",
    "    for customer in N:\n",
    "        plt.annotate(s=customer, xy=(customers_x[customer], customers_y[customer]))\n",
    "\n",
    "    # plot robot tours, different line style per robot\n",
    "    dashes = [[1, 0], [5,5], [1,1], [3,1,1,1], [3,10,1,10]]  # may have to be extended for r_max > 5\n",
    "    for hub, robot, instance in active_robots.select('*', '*', plot_instance):\n",
    "        C = wl_customers[hub, robot, instance]\n",
    "        for customer in C:\n",
    "            plt.plot([hubs_x[hub], customers_x[customer]], [hubs_y[hub], customers_y[customer]],\n",
    "                     c=hub_colors[hub], dashes=dashes[robot], zorder=0\n",
    "                    )\n",
    "\n",
    "    plt.gcf().set_size_inches(20,10)\n",
    "    plt.gca().set_xticks(np.arange(0, area+block, block))\n",
    "    plt.gca().set_yticks(np.arange(0, area+block, block))\n",
    "    plt.grid()\n",
    "    # obviously, this plot does not show the actual tours which are based on manhatten distances\n",
    "interact(model2_plot, plot_instance=I);"
   ]
  },
  {
   "cell_type": "code",
   "execution_count": null,
   "metadata": {},
   "outputs": [],
   "source": []
  }
 ],
 "metadata": {
  "kernelspec": {
   "display_name": "Python [conda env:gurobi] *",
   "language": "python",
   "name": "conda-env-gurobi-py"
  },
  "language_info": {
   "codemirror_mode": {
    "name": "ipython",
    "version": 3
   },
   "file_extension": ".py",
   "mimetype": "text/x-python",
   "name": "python",
   "nbconvert_exporter": "python",
   "pygments_lexer": "ipython3",
   "version": "3.7.6"
  }
 },
 "nbformat": 4,
 "nbformat_minor": 4
}
