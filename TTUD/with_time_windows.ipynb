{
 "cells": [
  {
   "cell_type": "markdown",
   "metadata": {},
   "source": [
    "# Two-Tier Urban Deliveries with Robots with time windows"
   ]
  },
  {
   "cell_type": "code",
   "execution_count": 83,
   "metadata": {},
   "outputs": [],
   "source": [
    "import gurobipy as gp\n",
    "from gurobipy import GRB\n",
    "import matplotlib.pyplot as plt\n",
    "import numpy as np\n",
    "from collections import Counter  # for some testing [optional]\n",
    "import ipywidgets as widgets  # for interactive plots [optional]\n",
    "from ipywidgets import interact, interact_manual  # for interactive plots [optional]\n",
    "from tqdm.notebook import tqdm  # for progress bars [optional]\n",
    "\n",
    "# program must be adjusted in some places if optional packages are not available"
   ]
  },
  {
   "cell_type": "markdown",
   "metadata": {},
   "source": [
    "#### Some custom functions for later use"
   ]
  },
  {
   "cell_type": "code",
   "execution_count": 84,
   "metadata": {},
   "outputs": [],
   "source": [
    "def grid (a, n=None, spacing=None):\n",
    "    \"\"\"\n",
    "    distribute n points evenly in a 2-dimensional square of side length a\n",
    "    or create a square grid with suqare cells of length c\n",
    "    \"\"\"\n",
    "    if spacing is None:\n",
    "        assert n\n",
    "        spacing = a // int(np.sqrt(n))\n",
    "        base = range(spacing//2, a, spacing)\n",
    "    if n is None:\n",
    "        assert spacing\n",
    "        base = range(0, a+1, spacing)\n",
    "    return[(x,y) for x in base for y in base]\n",
    "\n",
    "def travel_time(first: tuple, second:tuple, speed):\n",
    "    \"\"\"\n",
    "    compute the travel time between first and second\n",
    "    first, second: given as (x, y) tuples \n",
    "    speed: given in km/h\n",
    "    \"\"\"\n",
    "    dist = abs(first[0] - second[0]) + abs(first[1] - second[1])  # Manhattan distance in m (!) because input is in meters\n",
    "    return (dist/1000)/speed  # travel time in hours\n",
    "\n"
   ]
  },
  {
   "cell_type": "markdown",
   "metadata": {},
   "source": [
    "#### Model inputs\n",
    "If the solver finds the model to be infeasible, first check whether there are enough capacities (robots, hubs) to serve all the customers and adjust these numbers to see whether it fixes the issue."
   ]
  },
  {
   "cell_type": "code",
   "execution_count": null,
   "metadata": {},
   "outputs": [],
   "source": [
    "np.random.seed(0)  # for reproducible results\n",
    "\n",
    "n = 100  # number of clients\n",
    "r_max = 10  # number of robots per hub\n",
    "num_instances = 10  # number of instances\n",
    "\n",
    "# downtown map\n",
    "area= 2000  # 2km * 2km square\n",
    "block = 100  # 100m * 100m blocks\n",
    "h = 16  # number of potential hubs (should be a square number (4, 9, 16, 25, ...) for an even distribution)\n",
    "\n",
    "# suburban map\n",
    "# area = 10000\n",
    "# block = 100\n",
    "# h= 36\n",
    "\n",
    "M = 6  # maximum allowed driving time per robot (hrs)\n",
    "tf = 45/60  # robots' full recharge time (hrs)\n",
    "b = 2  # robots' battery range (hrs)\n",
    "ts = 4/60  # customer service time (hrs)\n",
    "v = 3  # robot speed (km/h)\n",
    "short_tw = [(i, i+1) for i in range(8, 16)]  # 1 hour time windows\n",
    "long_tw = [(i, i+2) for i in range(8, 16, 2)]  # 2 hour time windows\n",
    "long_tw_demand = (0.25, 0.1, 0.1, 0.55)  # time window demand\n",
    "L = 17  # end of time horizon -> NOT GIVEN IN THE PAPER\n",
    "\n",
    "H = [i for i in range(h)]  # hubs\n",
    "R = [i for i in range(r_max)]  # robots\n",
    "N = [i for i in range(n)]  # customers\n",
    "I = [i for i in range(num_instances)]  # instances"
   ]
  },
  {
   "cell_type": "code",
   "execution_count": 85,
   "metadata": {},
   "outputs": [
    {
     "data": {
      "application/vnd.jupyter.widget-view+json": {
       "model_id": "5cc81a1a9c7944a49e63b4e111f5e69e",
       "version_major": 2,
       "version_minor": 0
      },
      "text/plain": [
       "HBox(children=(FloatProgress(value=0.0, description='Pendulum distances', max=16.0, style=ProgressStyle(descri…"
      ]
     },
     "metadata": {},
     "output_type": "display_data"
    },
    {
     "name": "stdout",
     "output_type": "stream",
     "text": [
      "\n"
     ]
    },
    {
     "data": {
      "application/vnd.jupyter.widget-view+json": {
       "model_id": "95940678171242978fc6d21b5e926f03",
       "version_major": 2,
       "version_minor": 0
      },
      "text/plain": [
       "HBox(children=(FloatProgress(value=0.0, description='Reachable customers', max=16.0, style=ProgressStyle(descr…"
      ]
     },
     "metadata": {},
     "output_type": "display_data"
    },
    {
     "name": "stdout",
     "output_type": "stream",
     "text": [
      "\n"
     ]
    },
    {
     "data": {
      "application/vnd.jupyter.widget-view+json": {
       "model_id": "23a5c34755264f538e9592f0374d1d8a",
       "version_major": 2,
       "version_minor": 0
      },
      "text/plain": [
       "HBox(children=(FloatProgress(value=0.0, description='Possible precedence combinations', max=16.0, style=Progre…"
      ]
     },
     "metadata": {},
     "output_type": "display_data"
    },
    {
     "name": "stdout",
     "output_type": "stream",
     "text": [
      "\n"
     ]
    }
   ],
   "source": [
    "hub_coords = grid(a=area, n=h)\n",
    "\n",
    "grid_x, grid_y = zip(*grid(a=area, spacing=block))\n",
    "customer_coords = gp.tupledict()\n",
    "for instance in I:  # originally, smaller instances are subsets of the bigger ones (n=300), here all instances are unique\n",
    "    for customer in N:\n",
    "        customer_coords[instance, customer] = (np.random.choice(grid_x), np.random.choice(grid_y))\n",
    "\n",
    "# customer time windows\n",
    "tw_keys = [(instance, customer) for instance in I for customer in N]\n",
    "tw_values = [long_tw[i] for i in np.random.choice(range(len(long_tw)), len(tw_keys), p=long_tw_demand)]\n",
    "time_windows = gp.tupledict({k:v for k, v in zip(tw_keys, tw_values)})  \n",
    "\n",
    "t = gp.tupledict()  # pendulum distances\n",
    "for hub in tqdm(H, desc='Pendulum distances'):\n",
    "    for robot in R:\n",
    "        for instance in I:\n",
    "            for customer in N:\n",
    "                t[hub, robot, instance, customer] = 2*travel_time(first=hub_coords[hub],\n",
    "                                                                  second=customer_coords[instance, customer],\n",
    "                                                                  speed=v)\n",
    "\n",
    "reachables = gp.tuplelist([key for (key, value) in t.items() if value <=b])  # within battery range of each hub\n",
    "\n",
    "reachable_customers = gp.tupledict()  # dictionary of customers that are in reach of each (hub, robot, instance) combination\n",
    "for hub in tqdm(H, desc='Reachable customers'):\n",
    "    for robot in R:\n",
    "        for instance in I:\n",
    "            in_reach = []\n",
    "            for customer in N:    \n",
    "                if t.select(hub, robot, instance, customer)[0] <= b:\n",
    "                    in_reach.append(customer)\n",
    "                reachable_customers[(hub, robot, instance)] = in_reach\n",
    "\n",
    "z_vars = []\n",
    "valid_precedences = gp.tupledict()\n",
    "for hub in tqdm(H, desc='Valid precedence combinations'):\n",
    "    for robot in R:\n",
    "        for instance in I:\n",
    "            valid_precedences[hub, robot, instance] =[]\n",
    "            for i in reachable_customers[hub, robot, instance]:\n",
    "                for j in reachable_customers[hub, robot, instance]:\n",
    "                    if time_windows[instance, j] >= time_windows[instance, i] and i != j:\n",
    "                        z_vars.append((hub, robot, instance, i, j))\n",
    "                        valid_precedences[hub, robot, instance].append((i,j))"
   ]
  },
  {
   "cell_type": "markdown",
   "metadata": {},
   "source": [
    "#### Plotting hubs and a single instance"
   ]
  },
  {
   "cell_type": "code",
   "execution_count": 86,
   "metadata": {
    "scrolled": false
   },
   "outputs": [
    {
     "data": {
      "application/vnd.jupyter.widget-view+json": {
       "model_id": "3b5861967787491a82b36a991d9ec069",
       "version_major": 2,
       "version_minor": 0
      },
      "text/plain": [
       "interactive(children=(Dropdown(description='plot_instance', options=(0, 1, 2, 3, 4, 5, 6, 7, 8, 9), value=0), …"
      ]
     },
     "metadata": {},
     "output_type": "display_data"
    }
   ],
   "source": [
    "colors = plt.get_cmap('hsv', h)\n",
    "hubs_x, hubs_y = zip(*hub_coords)\n",
    "\n",
    "def base_plot(plot_instance:int, which):\n",
    "    plt.scatter(hubs_x, hubs_y, cmap=colors, c=H, marker='s', s=75, edgecolors='black')\n",
    "    \n",
    "    customers_x, customers_y = zip(*customer_coords.select(plot_instance, '*'))\n",
    "    plt.scatter(customers_x, customers_y, c='black', alpha=0.3)\n",
    "    for customer in N:\n",
    "        if which == 'customer_tw':\n",
    "            plt.annotate(s=time_windows[plot_instance, customer], xy=(customers_x[customer], customers_y[customer]))\n",
    "        else:\n",
    "            plt.annotate(s=customer, xy=(customers_x[customer], customers_y[customer]))\n",
    "        \n",
    "    plt.xlim(0, area)\n",
    "    plt.ylim(0, area)\n",
    "    plt.grid()\n",
    "    plt.gcf().set_size_inches(18,6)\n",
    "interact(base_plot, plot_instance=I, which=['customer_id', 'customer_tw']);"
   ]
  },
  {
   "cell_type": "markdown",
   "metadata": {},
   "source": [
    "### Tier 1: Minimize the number of hubs"
   ]
  },
  {
   "cell_type": "markdown",
   "metadata": {},
   "source": [
    "#### Model, decision variables and objective function"
   ]
  },
  {
   "cell_type": "code",
   "execution_count": 87,
   "metadata": {},
   "outputs": [],
   "source": [
    "model1 = gp.Model('min_hubs')\n",
    "\n",
    "# (5) add hub-robot-instance-customer binary decision variables\n",
    "x1 = model1.addVars(reachables, vtype=GRB.BINARY, name='x')\n",
    "# format of x1 vars: (hub, robot, instance, customer)\n",
    "\n",
    "# (6) add is-hub-open binary decision variables\n",
    "o1 = model1.addVars(H, vtype=GRB.BINARY, name='o')\n",
    "\n",
    "# (14) add depot leaving time decision variables\n",
    "y1 = model1.addVars(reachables, vtype=GRB.CONTINUOUS, name='y')\n",
    "# format of y1 vars: (hub, robot, instance, customer)\n",
    "\n",
    "# (14) add precedence decision variables\n",
    "z1 = model1.addVars(z_vars, vtype=GRB.BINARY, name='z')\n",
    "# format of z1 vars: (hub, robot, instance, customer i, customer j)"
   ]
  },
  {
   "cell_type": "code",
   "execution_count": 88,
   "metadata": {},
   "outputs": [],
   "source": [
    "# (1) set objective\n",
    "model1.setObjective(gp.quicksum(o1), sense=GRB.MINIMIZE)\n",
    "model1.update()"
   ]
  },
  {
   "cell_type": "markdown",
   "metadata": {},
   "source": [
    "#### Adding constraints"
   ]
  },
  {
   "cell_type": "code",
   "execution_count": 89,
   "metadata": {},
   "outputs": [
    {
     "data": {
      "application/vnd.jupyter.widget-view+json": {
       "model_id": "d462003b11e44ff8bd51db9e19e01afb",
       "version_major": 2,
       "version_minor": 0
      },
      "text/plain": [
       "HBox(children=(FloatProgress(value=0.0, max=10.0), HTML(value='')))"
      ]
     },
     "metadata": {},
     "output_type": "display_data"
    },
    {
     "name": "stdout",
     "output_type": "stream",
     "text": [
      "\n"
     ]
    }
   ],
   "source": [
    "# (2) All instance-customer locations must be assigned to exactly one hub-robot combination\n",
    "for instance in tqdm(I, desc='Service constraints'):\n",
    "    for customer in N:\n",
    "        model1.addConstr(x1.sum('*', '*', instance, customer) == 1)"
   ]
  },
  {
   "cell_type": "code",
   "execution_count": 90,
   "metadata": {},
   "outputs": [
    {
     "data": {
      "application/vnd.jupyter.widget-view+json": {
       "model_id": "2cb73c41196040e9a1be196329799910",
       "version_major": 2,
       "version_minor": 0
      },
      "text/plain": [
       "HBox(children=(FloatProgress(value=0.0, max=16.0), HTML(value='')))"
      ]
     },
     "metadata": {},
     "output_type": "display_data"
    },
    {
     "name": "stdout",
     "output_type": "stream",
     "text": [
      "\n"
     ]
    }
   ],
   "source": [
    "# (3) limit on the maximum robot working time\n",
    "coeff1 = gp.tupledict({\n",
    "    (hub, robot, instance, customer): t[hub, robot, instance, customer] * (1 + (tf / b)) + ts\n",
    "    for hub in H\n",
    "    for robot in R\n",
    "    for instance in I\n",
    "    for customer in N\n",
    "})\n",
    "\n",
    "for hub in tqdm(H, desc='Maximum working time constraints'):\n",
    "    for robot in R:\n",
    "        for instance in I:\n",
    "            model1.addConstr(x1.prod(coeff1, hub, robot, instance, '*') <= M)"
   ]
  },
  {
   "cell_type": "code",
   "execution_count": 91,
   "metadata": {},
   "outputs": [
    {
     "data": {
      "application/vnd.jupyter.widget-view+json": {
       "model_id": "bd37abe9f2064e5d855690ea1ccb43e4",
       "version_major": 2,
       "version_minor": 0
      },
      "text/plain": [
       "HBox(children=(FloatProgress(value=0.0, max=16.0), HTML(value='')))"
      ]
     },
     "metadata": {},
     "output_type": "display_data"
    },
    {
     "name": "stdout",
     "output_type": "stream",
     "text": [
      "\n"
     ]
    }
   ],
   "source": [
    "# (4) if a robot serves a customer location (in some instance), the corresponding robot hub is open\n",
    "for hub in tqdm(H, desc='Active hubs constraints'):\n",
    "    for robot in R:\n",
    "        for instance in I:\n",
    "            for customer in reachable_customers[hub, robot, instance]:\n",
    "                model1.addConstr(x1.sum(hub, instance, customer, '*') <= o1[hub])"
   ]
  },
  {
   "cell_type": "code",
   "execution_count": 92,
   "metadata": {},
   "outputs": [
    {
     "data": {
      "application/vnd.jupyter.widget-view+json": {
       "model_id": "4224ad6616004c6c81e9f41617a911f4",
       "version_major": 2,
       "version_minor": 0
      },
      "text/plain": [
       "HBox(children=(FloatProgress(value=0.0, max=16.0), HTML(value='')))"
      ]
     },
     "metadata": {},
     "output_type": "display_data"
    },
    {
     "name": "stdout",
     "output_type": "stream",
     "text": [
      "\n"
     ]
    }
   ],
   "source": [
    "# (9), (10) time windows\n",
    "for hub in tqdm(H, desc='Time window constraints'):\n",
    "    for robot in R:\n",
    "        for instance in I:\n",
    "            for customer in reachable_customers[hub, robot, instance]:\n",
    "                e = time_windows[instance, customer][0]  # time window open\n",
    "                l = time_windows[instance, customer][1]  # time window close               \n",
    "                coeff = t[hub, robot, instance, customer]/2  # one-way travel time\n",
    "                x = x1[hub, robot, instance, customer]\n",
    "                y = y1[hub, robot, instance, customer]\n",
    "                \n",
    "                model1.addConstr(e * x <= y + coeff * x)\n",
    "                model1.addConstr(y + coeff * x <= l * x)"
   ]
  },
  {
   "cell_type": "code",
   "execution_count": 93,
   "metadata": {},
   "outputs": [
    {
     "data": {
      "application/vnd.jupyter.widget-view+json": {
       "model_id": "a808a054e3fa4da980c8378daf0d8f89",
       "version_major": 2,
       "version_minor": 0
      },
      "text/plain": [
       "HBox(children=(FloatProgress(value=0.0, description='Time constraints', max=16.0, style=ProgressStyle(descript…"
      ]
     },
     "metadata": {},
     "output_type": "display_data"
    },
    {
     "name": "stdout",
     "output_type": "stream",
     "text": [
      "\n"
     ]
    }
   ],
   "source": [
    "# (11) the next customer cannot be served before service at the previous one has finished and the battery is fully recharged\n",
    "for hub in tqdm(H, desc='Time integrity constraints'):\n",
    "    for robot in R:\n",
    "        for instance in I:\n",
    "            for i, j in valid_precedences[hub, robot, instance]:\n",
    "                if time_windows[instance, j] >= time_windows[instance, i] and i != j:\n",
    "                    y_i = y1[hub, robot, instance, i]\n",
    "                    y_j = y1[hub, robot, instance, j]\n",
    "                    z_ij = z1[hub, robot, instance, i, j]\n",
    "\n",
    "                    model1.addConstr(y_j + (L  + tf / b) * (1 - z_ij) >= y_i + t[hub, robot, instance, i] * (1 + (tf / b)) + ts)"
   ]
  },
  {
   "cell_type": "code",
   "execution_count": 94,
   "metadata": {},
   "outputs": [
    {
     "data": {
      "application/vnd.jupyter.widget-view+json": {
       "model_id": "8b0a3cb576da420ba101ad924b0efc1d",
       "version_major": 2,
       "version_minor": 0
      },
      "text/plain": [
       "HBox(children=(FloatProgress(value=0.0, max=16.0), HTML(value='')))"
      ]
     },
     "metadata": {},
     "output_type": "display_data"
    },
    {
     "name": "stdout",
     "output_type": "stream",
     "text": [
      "\n"
     ]
    }
   ],
   "source": [
    "# (12) connecting x and z variables I\n",
    "for hub in tqdm(H, desc=''):\n",
    "    for robot in R:\n",
    "        for instance in I:\n",
    "            for i, j in valid_precedences[hub, robot, instance]:\n",
    "                if time_windows[instance, j] == time_windows[instance, i] and i != j:  # where time windows are same\n",
    "                    x_i = x1[hub, robot, instance, i]\n",
    "                    x_j = x1[hub, robot, instance, j]\n",
    "                    z_ij = z1[hub, robot, instance, i, j]\n",
    "                    z_ji = z1[hub, robot, instance, j, i]\n",
    "\n",
    "                    model1.addConstr(x_i + x_j - z_ij - z_ji <= 1)"
   ]
  },
  {
   "cell_type": "code",
   "execution_count": 95,
   "metadata": {},
   "outputs": [
    {
     "data": {
      "application/vnd.jupyter.widget-view+json": {
       "model_id": "910b1b2f612d4cebbf1122eefe155f46",
       "version_major": 2,
       "version_minor": 0
      },
      "text/plain": [
       "HBox(children=(FloatProgress(value=0.0, max=16.0), HTML(value='')))"
      ]
     },
     "metadata": {},
     "output_type": "display_data"
    },
    {
     "name": "stdout",
     "output_type": "stream",
     "text": [
      "\n"
     ]
    }
   ],
   "source": [
    "# (13) connecting x and z variables II\n",
    "for hub in tqdm(H):\n",
    "    for robot in R:\n",
    "        for instance in I:\n",
    "            for i, j in valid_precedences[hub, robot, instance]:\n",
    "                # if time_windows[instance, j] >= time_windows[instance, i] and i != j:  # where tw of j is equal or later i\n",
    "                # illogical: if tw[j] > tw[i] then there is no variable z_ji\n",
    "                if time_windows[instance, j] == time_windows[instance, i] and i != j:  # where tw are equal\n",
    "                    x_i = x1[hub, robot, instance, i]\n",
    "                    x_j = x1[hub, robot, instance, j]\n",
    "                    z_ji = z1[hub, robot, instance, j, i]\n",
    "\n",
    "                    model1.addConstr(x_i + x_j - z_ji <= 1)"
   ]
  },
  {
   "cell_type": "markdown",
   "metadata": {},
   "source": [
    "#### Solve Model 1"
   ]
  },
  {
   "cell_type": "code",
   "execution_count": 96,
   "metadata": {},
   "outputs": [
    {
     "name": "stdout",
     "output_type": "stream",
     "text": [
      "Gurobi Optimizer version 9.0.1 build v9.0.1rc0 (win64)\n",
      "Optimize a model with 17058000 rows, 8090916 columns and 56647770 nonzeros\n",
      "Model fingerprint: 0x6a25b46f\n",
      "Variable types: 134810 continuous, 7956106 integer (7956106 binary)\n",
      "Coefficient statistics:\n",
      "  Matrix range     [2e-01, 2e+01]\n",
      "  Objective range  [1e+00, 1e+00]\n",
      "  Bounds range     [1e+00, 1e+00]\n",
      "  RHS range        [1e+00, 2e+01]\n",
      "Presolve removed 118960 rows and 3406360 columns (presolve time = 7s) ...\n",
      "Presolve removed 3525320 rows and 3406360 columns (presolve time = 10s) ...\n",
      "Presolve removed 5747045 rows and 3406360 columns (presolve time = 25s) ...\n",
      "Presolve removed 5747045 rows and 3406360 columns (presolve time = 32s) ...\n",
      "Presolve removed 12310593 rows and 3406360 columns (presolve time = 35s) ...\n",
      "Presolve removed 16396556 rows and 7781002 columns (presolve time = 41s) ...\n",
      "Presolve removed 16972538 rows and 7914584 columns (presolve time = 46s) ...\n",
      "Presolve removed 16972538 rows and 7914584 columns\n",
      "Presolve time: 48.93s\n",
      "Presolved: 85462 rows, 176332 columns, 517785 nonzeros\n",
      "Variable types: 1228 continuous, 175104 integer (175104 binary)\n",
      "\n",
      "Deterministic concurrent LP optimizer: primal and dual simplex\n",
      "Showing first log only...\n",
      "\n",
      "\n",
      "Root simplex log...\n",
      "\n",
      "Iteration    Objective       Primal Inf.    Dual Inf.      Time\n",
      "    2705    8.5000000e+00   0.000000e+00   0.000000e+00     60s\n",
      "Concurrent spin time: 1.74s\n",
      "\n",
      "Solved with primal simplex\n",
      "\n",
      "Root relaxation: objective 8.500000e+00, 2705 iterations, 3.38 seconds\n",
      "\n",
      "    Nodes    |    Current Node    |     Objective Bounds      |     Work\n",
      " Expl Unexpl |  Obj  Depth IntInf | Incumbent    BestBd   Gap | It/Node Time\n",
      "\n",
      "     0     0    8.50000    0  103          -    8.50000      -     -   63s\n",
      "H    0     0                       9.0000000    8.50000  5.56%     -   63s\n",
      "     0     0    8.50000    0  103    9.00000    8.50000  5.56%     -   63s\n",
      "\n",
      "Explored 1 nodes (15871 simplex iterations) in 64.47 seconds\n",
      "Thread count was 8 (of 8 available processors)\n",
      "\n",
      "Solution count 1: 9 \n",
      "\n",
      "Optimal solution found (tolerance 1.00e-04)\n",
      "Best objective 9.000000000000e+00, best bound 9.000000000000e+00, gap 0.0000%\n"
     ]
    }
   ],
   "source": [
    "# model1.setParam('TimeLimit', 240)  # for testing only\n",
    "model1.optimize()"
   ]
  },
  {
   "cell_type": "markdown",
   "metadata": {},
   "source": [
    "#### Inspect and plot one of the instances with the solution"
   ]
  },
  {
   "cell_type": "code",
   "execution_count": 97,
   "metadata": {},
   "outputs": [],
   "source": [
    "x1_solution = model1.getAttr('x', x1)\n",
    "assignment1 = gp.tupledict({\n",
    "    (key[2], key[3]):(key[0], key[1]) \n",
    "    for key, value in x1_solution.items() \n",
    "    if value > 0.5})  # (instance, customer): (hub, robot)\n",
    "assignment1;"
   ]
  },
  {
   "cell_type": "code",
   "execution_count": 98,
   "metadata": {},
   "outputs": [
    {
     "data": {
      "text/plain": [
       "9"
      ]
     },
     "execution_count": 98,
     "metadata": {},
     "output_type": "execute_result"
    }
   ],
   "source": [
    "o1_solution = model1.getAttr('x', o1)\n",
    "p = len([key for key, value in o1_solution.items() if value > 0.5])  # min number of open hubs\n",
    "p"
   ]
  },
  {
   "cell_type": "code",
   "execution_count": 104,
   "metadata": {},
   "outputs": [
    {
     "data": {
      "application/vnd.jupyter.widget-view+json": {
       "model_id": "201dacb07170471bba5e0df988d40e38",
       "version_major": 2,
       "version_minor": 0
      },
      "text/plain": [
       "interactive(children=(Dropdown(description='plot_instance', options=(None, 0, 1, 2, 3, 4, 5, 6, 7, 8, 9), valu…"
      ]
     },
     "metadata": {},
     "output_type": "display_data"
    }
   ],
   "source": [
    "def model1_plot(plot_instance):\n",
    "    hub_colors = []\n",
    "    for hub in H:\n",
    "        if o1_solution[hub] > 0.5:\n",
    "            hub_colors.append(colors(hub/h))\n",
    "        else:\n",
    "            hub_colors.append('white')\n",
    "\n",
    "    plt.scatter(hubs_x, hubs_y, c=hub_colors, marker='s', s=75, edgecolors='black')\n",
    "    \n",
    "    if plot_instance is not None:\n",
    "        customer_colors = []\n",
    "        for customer in N:\n",
    "            customer_colors.append(colors(assignment1[plot_instance, customer][0]/h))  \n",
    "\n",
    "        customers_x, customers_y = zip(*customer_coords.select(plot_instance, '*'))  \n",
    "        plt.scatter(customers_x, customers_y, c=customer_colors, alpha=1, edgecolors='black')\n",
    "\n",
    "        if n <= 100:\n",
    "            for customer in N:\n",
    "                plt.annotate(s=customer, xy=(customers_x[customer], customers_y[customer]))\n",
    "\n",
    "    plt.xlim(0, area)\n",
    "    plt.ylim(0, area);\n",
    "    plt.grid()\n",
    "    # plt.gcf().set_size_inches(20,10)\n",
    "interact(model1_plot, plot_instance=[None]+I);"
   ]
  },
  {
   "cell_type": "markdown",
   "metadata": {},
   "source": [
    "### Tier 2: Minimize operational robot cost"
   ]
  },
  {
   "cell_type": "markdown",
   "metadata": {},
   "source": [
    "#### Model, decision variables, objective function"
   ]
  },
  {
   "cell_type": "code",
   "execution_count": 107,
   "metadata": {},
   "outputs": [],
   "source": [
    "model2 = gp.Model('min_cost')\n",
    "\n",
    "# (5) add hub-robot-instance-customer binary decision variables\n",
    "x2 = model2.addVars(reachables, vtype=GRB.BINARY, name='x')\n",
    "# format of x2 vars: (hub, robot, instance, customer)\n",
    "\n",
    "# (6) add is-hub-open binary decision variables\n",
    "o2 = model2.addVars(H, vtype=GRB.BINARY, name='o')\n",
    "\n",
    "# (14) add depot leaving time decision variables\n",
    "y2 = model2.addVars(reachables, vtype=GRB.CONTINUOUS, name='y')\n",
    "# format of y2 vars: (hub, robot, instance, customer)\n",
    "\n",
    "# (14) add precedence decision variables\n",
    "z2 = model2.addVars(z_vars, vtype=GRB.BINARY, name='z')\n",
    "# format of z2 vars: (hub, robot, instance, customer i, customer j)\n",
    "\n",
    "# set the objective function\n",
    "coeff2 = gp.tupledict({\n",
    "    (hub, robot, instance, customer): t[hub, robot, instance, customer]\n",
    "    for hub in H\n",
    "    for robot in R\n",
    "    for instance in I\n",
    "    for customer in N\n",
    "})\n",
    "\n",
    "model2.setObjective(x2.prod(coeff2), sense=GRB.MINIMIZE)\n",
    "model2.update()\n",
    "# model2.getObjective()"
   ]
  },
  {
   "cell_type": "markdown",
   "metadata": {},
   "source": [
    "#### Add constraints"
   ]
  },
  {
   "cell_type": "code",
   "execution_count": 108,
   "metadata": {},
   "outputs": [
    {
     "data": {
      "application/vnd.jupyter.widget-view+json": {
       "model_id": "d6864084444e4f1b8345a1bee56dee32",
       "version_major": 2,
       "version_minor": 0
      },
      "text/plain": [
       "HBox(children=(FloatProgress(value=0.0, description='Service constraints', max=10.0, style=ProgressStyle(descr…"
      ]
     },
     "metadata": {},
     "output_type": "display_data"
    },
    {
     "name": "stdout",
     "output_type": "stream",
     "text": [
      "\n"
     ]
    }
   ],
   "source": [
    "# define the constraints\n",
    "# (2) All instance-customer locations must be assigned to exactly one hub-robot combination\n",
    "for instance in tqdm(I, desc='Service constraints'):\n",
    "    for customer in N:\n",
    "        model2.addConstr(x2.sum('*', '*', instance, customer) == 1)"
   ]
  },
  {
   "cell_type": "code",
   "execution_count": 109,
   "metadata": {},
   "outputs": [
    {
     "data": {
      "text/plain": [
       "\"\\ncoeff1 = gp.tupledict({\\n    (hub, robot, instance, customer): t[hub, robot, instance, customer] * (1 + (tf / b)) + ts\\n    for hub in H\\n    for robot in R\\n    for instance in I\\n    for customer in N\\n})\\n\\nfor hub in tqdm(H, desc='Maximum working time constraints'):\\n    for robot in R:\\n        for instance in I:\\n            model2.addConstr(x2.prod(coeff1, hub, robot, instance, '*') <= M)\\n\""
      ]
     },
     "execution_count": 109,
     "metadata": {},
     "output_type": "execute_result"
    }
   ],
   "source": [
    "# (3) limit on the maximum robot working time\n",
    "# following the paper, this constraint is NOT applied for tier 2 with tw ?!\n",
    "\"\"\"\n",
    "coeff1 = gp.tupledict({\n",
    "    (hub, robot, instance, customer): t[hub, robot, instance, customer] * (1 + (tf / b)) + ts\n",
    "    for hub in H\n",
    "    for robot in R\n",
    "    for instance in I\n",
    "    for customer in N\n",
    "})\n",
    "\n",
    "for hub in tqdm(H, desc='Maximum working time constraints'):\n",
    "    for robot in R:\n",
    "        for instance in I:\n",
    "            model2.addConstr(x2.prod(coeff1, hub, robot, instance, '*') <= M)\n",
    "\"\"\"\n",
    "     "
   ]
  },
  {
   "cell_type": "code",
   "execution_count": 110,
   "metadata": {},
   "outputs": [
    {
     "data": {
      "application/vnd.jupyter.widget-view+json": {
       "model_id": "a62823fc521b4de2b5170780a4e8c827",
       "version_major": 2,
       "version_minor": 0
      },
      "text/plain": [
       "HBox(children=(FloatProgress(value=0.0, description='Active hubs constraints', max=16.0, style=ProgressStyle(d…"
      ]
     },
     "metadata": {},
     "output_type": "display_data"
    },
    {
     "name": "stdout",
     "output_type": "stream",
     "text": [
      "\n"
     ]
    }
   ],
   "source": [
    "# (4) if a robot serves a customer location (in some instance), the corresponding robot hub is open\n",
    "for hub in tqdm(H, desc='Active hubs constraints'):\n",
    "    for robot in R:\n",
    "        for instance in I:\n",
    "            for customer in reachable_customers[hub, robot, instance]:\n",
    "                model2.addConstr(x2.sum(hub, instance, customer, '*') <= o2[hub])"
   ]
  },
  {
   "cell_type": "code",
   "execution_count": 111,
   "metadata": {},
   "outputs": [
    {
     "data": {
      "text/plain": [
       "<gurobi.Constr *Awaiting Model Update*>"
      ]
     },
     "execution_count": 111,
     "metadata": {},
     "output_type": "execute_result"
    }
   ],
   "source": [
    "# (8) ensure that there are exactly as many open robot hubs as provided by first model\n",
    "model2.addConstr(o2.sum() == p);"
   ]
  },
  {
   "cell_type": "code",
   "execution_count": 112,
   "metadata": {},
   "outputs": [
    {
     "data": {
      "application/vnd.jupyter.widget-view+json": {
       "model_id": "e5b965b42ddb45b481e5d221704cb420",
       "version_major": 2,
       "version_minor": 0
      },
      "text/plain": [
       "HBox(children=(FloatProgress(value=0.0, description='Time window constraints', max=16.0, style=ProgressStyle(d…"
      ]
     },
     "metadata": {},
     "output_type": "display_data"
    },
    {
     "name": "stdout",
     "output_type": "stream",
     "text": [
      "\n"
     ]
    }
   ],
   "source": [
    "# (9), (10) time windows\n",
    "for hub in tqdm(H, desc='Time window constraints'):\n",
    "    for robot in R:\n",
    "        for instance in I:\n",
    "            for customer in reachable_customers[hub, robot, instance]:\n",
    "                e = time_windows[instance, customer][0]  # time window open\n",
    "                l = time_windows[instance, customer][1]  # time window close               \n",
    "                coeff = t[hub, robot, instance, customer]/2  # one-way travel time\n",
    "                x = x2[hub, robot, instance, customer]\n",
    "                y = y2[hub, robot, instance, customer]\n",
    "                \n",
    "                model2.addConstr(e * x <= y + coeff * x)   # time window open\n",
    "                model2.addConstr(y + coeff * x <= l * x)   # time window close "
   ]
  },
  {
   "cell_type": "code",
   "execution_count": 113,
   "metadata": {},
   "outputs": [
    {
     "data": {
      "application/vnd.jupyter.widget-view+json": {
       "model_id": "528011e067c44421b9f6f1e1ada74bfb",
       "version_major": 2,
       "version_minor": 0
      },
      "text/plain": [
       "HBox(children=(FloatProgress(value=0.0, description='Time integrity constraints', max=16.0, style=ProgressStyl…"
      ]
     },
     "metadata": {},
     "output_type": "display_data"
    },
    {
     "name": "stdout",
     "output_type": "stream",
     "text": [
      "\n"
     ]
    }
   ],
   "source": [
    "# (11) the next customer cannot be served before service at the previous one has finished and the battery is fully recharged\n",
    "for hub in tqdm(H, desc='Time integrity constraints'):\n",
    "    for robot in R:\n",
    "        for instance in I:\n",
    "            for i, j in valid_precedences[hub, robot, instance]:\n",
    "                if time_windows[instance, j] >= time_windows[instance, i] and i != j:\n",
    "                    y_i = y2[hub, robot, instance, i]\n",
    "                    y_j = y2[hub, robot, instance, j]\n",
    "                    z_ij = z2[hub, robot, instance, i, j]\n",
    "\n",
    "                    model2.addConstr(y_j + (L  + tf / b) * (1 - z_ij) >= y_i + t[hub, robot, instance, i] * (1 + (tf / b)) + ts)"
   ]
  },
  {
   "cell_type": "code",
   "execution_count": 114,
   "metadata": {},
   "outputs": [
    {
     "data": {
      "application/vnd.jupyter.widget-view+json": {
       "model_id": "c75bf3ff834f40ca8c4a2cc9f27b83b2",
       "version_major": 2,
       "version_minor": 0
      },
      "text/plain": [
       "HBox(children=(FloatProgress(value=0.0, max=16.0), HTML(value='')))"
      ]
     },
     "metadata": {},
     "output_type": "display_data"
    },
    {
     "name": "stdout",
     "output_type": "stream",
     "text": [
      "\n"
     ]
    }
   ],
   "source": [
    "# (12) connecting x and z variables I\n",
    "for hub in tqdm(H, desc=''):\n",
    "    for robot in R:\n",
    "        for instance in I:\n",
    "            for i, j in valid_precedences[hub, robot, instance]:\n",
    "                if time_windows[instance, j] == time_windows[instance, i] and i != j:  # where time windows are same\n",
    "                    x_i = x2[hub, robot, instance, i]\n",
    "                    x_j = x2[hub, robot, instance, j]\n",
    "                    z_ij = z2[hub, robot, instance, i, j]\n",
    "                    z_ji = z2[hub, robot, instance, j, i]\n",
    "\n",
    "                    model2.addConstr(x_i + x_j - z_ij - z_ji <= 1)"
   ]
  },
  {
   "cell_type": "code",
   "execution_count": 116,
   "metadata": {},
   "outputs": [
    {
     "data": {
      "application/vnd.jupyter.widget-view+json": {
       "model_id": "f7b9e1d0c56a456baa0af35dea1879c9",
       "version_major": 2,
       "version_minor": 0
      },
      "text/plain": [
       "HBox(children=(FloatProgress(value=0.0, max=16.0), HTML(value='')))"
      ]
     },
     "metadata": {},
     "output_type": "display_data"
    },
    {
     "name": "stdout",
     "output_type": "stream",
     "text": [
      "\n"
     ]
    }
   ],
   "source": [
    "# (13) connecting x and z variables II\n",
    "for hub in tqdm(H):\n",
    "    for robot in R:\n",
    "        for instance in I:\n",
    "            for i, j in valid_precedences[hub, robot, instance]:\n",
    "                # if time_windows[instance, j] >= time_windows[instance, i] and i != j:  # where tw of j is equal or later i\n",
    "                # illogical: if tw[j] > tw[i] then there is no variable z_ji\n",
    "                if time_windows[instance, j] == time_windows[instance, i] and i != j:  # where tw are equal\n",
    "                    x_i = x2[hub, robot, instance, i]\n",
    "                    x_j = x2[hub, robot, instance, j]\n",
    "                    z_ji = z2[hub, robot, instance, j, i]\n",
    "\n",
    "                    model2.addConstr(x_i + x_j - z_ji <= 1)"
   ]
  },
  {
   "cell_type": "code",
   "execution_count": 117,
   "metadata": {},
   "outputs": [],
   "source": [
    "model2.update()"
   ]
  },
  {
   "cell_type": "markdown",
   "metadata": {},
   "source": [
    "#### Solve Model 2"
   ]
  },
  {
   "cell_type": "code",
   "execution_count": 118,
   "metadata": {},
   "outputs": [
    {
     "name": "stdout",
     "output_type": "stream",
     "text": [
      "Gurobi Optimizer version 9.0.1 build v9.0.1rc0 (win64)\n",
      "Optimize a model with 17056401 rows, 8090916 columns and 56512976 nonzeros\n",
      "Model fingerprint: 0xbc4e651a\n",
      "Variable types: 134810 continuous, 7956106 integer (7956106 binary)\n",
      "Coefficient statistics:\n",
      "  Matrix range     [1e+00, 2e+01]\n",
      "  Objective range  [7e-02, 2e+00]\n",
      "  Bounds range     [1e+00, 1e+00]\n",
      "  RHS range        [1e+00, 2e+01]\n",
      "Found heuristic solution: objective 792.5333333\n",
      "Presolve removed 118960 rows and 3406360 columns (presolve time = 7s) ...\n",
      "Presolve removed 3525320 rows and 3406360 columns (presolve time = 10s) ...\n",
      "Presolve removed 5747045 rows and 3406360 columns (presolve time = 25s) ...\n",
      "Presolve removed 5747045 rows and 3406360 columns (presolve time = 25s) ...\n",
      "Presolve removed 5747045 rows and 3406360 columns (presolve time = 31s) ...\n",
      "Presolve removed 12309008 rows and 3406360 columns (presolve time = 35s) ...\n",
      "Presolve removed 16403969 rows and 7790000 columns (presolve time = 41s) ...\n",
      "Presolve removed 16970953 rows and 7914584 columns (presolve time = 45s) ...\n",
      "Presolve removed 16970953 rows and 7914584 columns\n",
      "Presolve time: 47.73s\n",
      "Presolved: 85448 rows, 176332 columns, 516573 nonzeros\n",
      "Variable types: 1228 continuous, 175104 integer (175104 binary)\n",
      "\n",
      "Deterministic concurrent LP optimizer: primal and dual simplex\n",
      "Showing first log only...\n",
      "\n",
      "\n",
      "Root simplex log...\n",
      "\n",
      "Iteration    Objective       Primal Inf.    Dual Inf.      Time\n",
      "       0    3.9500000e+02   1.000000e+01   7.784553e+10     54s\n",
      "   16328    3.1212136e+02   0.000000e+00   2.346257e+05     55s\n",
      "Concurrent spin time: 0.00s\n",
      "\n",
      "Solved with dual simplex\n",
      "\n",
      "Root relaxation: objective 1.622000e+02, 9290 iterations, 2.05 seconds\n",
      "\n",
      "    Nodes    |    Current Node    |     Objective Bounds      |     Work\n",
      " Expl Unexpl |  Obj  Depth IntInf | Incumbent    BestBd   Gap | It/Node Time\n",
      "\n",
      "     0     0  162.20000    0 2044  792.53333  162.20000  79.5%     -   58s\n",
      "H    0     0                     419.0000000  162.20000  61.3%     -   58s\n",
      "H    0     0                     251.0000000  162.20000  35.4%     -   61s\n",
      "H    0     0                     247.8666667  162.20000  34.6%     -   62s\n",
      "     0     0  196.71988    0 2263  247.86667  196.71988  20.6%     -   67s\n",
      "H    0     0                     232.2000000  196.71988  15.3%     -   69s\n",
      "H    0     0                     227.7333333  196.71988  13.6%     -   69s\n",
      "     0     0  197.01288    0 2366  227.73333  197.01288  13.5%     -   70s\n",
      "     0     0  197.01793    0 2211  227.73333  197.01793  13.5%     -   70s\n",
      "     0     0  197.01793    0 2211  227.73333  197.01793  13.5%     -   70s\n",
      "     0     0  200.89715    0 2212  227.73333  200.89715  11.8%     -   76s\n",
      "H    0     0                     219.9333333  200.89715  8.66%     -   76s\n",
      "H    0     0                     213.4000000  200.89715  5.86%     -   81s\n",
      "     0     0  201.41810    0 2403  213.40000  201.41810  5.61%     -   82s\n",
      "     0     0  201.61650    0 2348  213.40000  201.61650  5.52%     -   83s\n",
      "     0     0  201.61670    0 2323  213.40000  201.61670  5.52%     -   83s\n",
      "     0     0  202.47539    0 2362  213.40000  202.47539  5.12%     -   88s\n",
      "H    0     0                     212.4666667  202.47539  4.70%     -   93s\n",
      "     0     0  202.56131    0 2418  212.46667  202.56131  4.66%     -   94s\n",
      "     0     0  202.57903    0 2218  212.46667  202.57903  4.65%     -   94s\n",
      "     0     0  202.58105    0 2212  212.46667  202.58105  4.65%     -   95s\n",
      "     0     0  202.74762    0 2173  212.46667  202.74762  4.57%     -   99s\n",
      "     0     0  202.77113    0 2233  212.46667  202.77113  4.56%     -  108s\n",
      "     0     0  202.77141    0 2239  212.46667  202.77141  4.56%     -  109s\n",
      "     0     0  202.77663    0 2322  212.46667  202.77663  4.56%     -  110s\n",
      "     0     0  202.77666    0 2308  212.46667  202.77666  4.56%     -  119s\n",
      "     0     0  202.78043    0 2231  212.46667  202.78043  4.56%     -  121s\n",
      "     0     0  202.78144    0 2232  212.46667  202.78144  4.56%     -  122s\n",
      "     0     0  202.78226    0 2205  212.46667  202.78226  4.56%     -  123s\n",
      "     0     0  202.78226    0 1838  212.46667  202.78226  4.56%     -  125s\n",
      "H    0     0                     207.2666667  202.78226  2.16%     -  135s\n",
      "H    0     0                     206.7333333  202.90577  1.85%     -  135s\n",
      "H    0     2                     206.2666667  202.90577  1.63%     -  143s\n",
      "     0     2  202.90577    0 1838  206.26667  202.90577  1.63%     -  143s\n",
      "     3     8  203.67721    2 1812  206.26667  202.92571  1.62%  2800  148s\n",
      "    11    16  203.70977    4 1811  206.26667  203.70977  1.24%  1678  151s\n",
      "    23    28  205.48476    6 1906  206.26667  203.70977  1.24%  1740  157s\n",
      "    31    35  204.33686    7 1611  206.26667  203.70977  1.24%  1597  160s\n",
      "    85    64 infeasible   14       206.26667  203.73612  1.23%   874  165s\n",
      "   114    81  204.46868    5 1762  206.26667  203.73612  1.23%   795  176s\n",
      "H  116    81                     206.0666667  203.73612  1.13%   781  176s\n",
      "H  117    81                     205.9333333  203.73612  1.07%   775  176s\n",
      "   130    82  204.71487    6 1564  205.93333  203.73612  1.07%   758  181s\n",
      "*  166    87              28     205.8666667  203.73612  1.03%   702  183s\n",
      "   172    82     cutoff    8       205.86667  203.94123  0.94%   689  189s\n",
      "   183    83  204.40201    4 1769  205.86667  203.95205  0.93%   699  193s\n",
      "   192    80  205.66176    6 1401  205.86667  204.00380  0.90%   739  196s\n",
      "   212    81     cutoff    7       205.86667  204.49259  0.67%   792  202s\n",
      "   222    83 infeasible   10       205.86667  205.04344  0.40%   824  205s\n",
      "   308   152  205.80000   23    7  205.86667  205.04344  0.40%   614  210s\n",
      "   358   165     cutoff   32       205.86667  205.10168  0.37%   549  216s\n",
      "   395   157  205.80000   41   11  205.86667  205.47561  0.19%   512  235s\n",
      "   479   201  205.73529    9   60  205.86667  205.49848  0.18%   430  240s\n",
      "   637   264  205.80000   19   11  205.86667  205.60503  0.13%   332  245s\n",
      "   805   308  205.70000   13   48  205.86667  205.63836  0.11%   266  250s\n",
      "  1009   396     cutoff   20       205.86667  205.73333  0.06%   216  257s\n",
      "  1137   444  205.74261   40   28  205.86667  205.73585  0.06%   193  261s\n",
      "  1305   487  205.80000   30   12  205.86667  205.73585  0.06%   169  265s\n",
      "  1637   573 infeasible   28       205.86667  205.73585  0.06%   136  271s\n",
      "  1941   626  205.80000   26   13  205.86667  205.73585  0.06%   116  290s\n",
      "  2232   586  205.80000   40   16  205.86667  205.80000  0.03%   102  299s\n",
      "  2528   535  205.80000   30    9  205.86667  205.80000  0.03%  90.9  305s\n",
      "  2836   479  205.80000   12   11  205.86667  205.80000  0.03%  82.0  311s\n",
      "  3153   376  205.80000   27   11  205.86667  205.80000  0.03%  75.1  318s\n",
      "  3481   251 infeasible   19       205.86667  205.80000  0.03%  69.5  325s\n",
      "  3821   141     cutoff   20       205.86667  205.80000  0.03%  64.7  333s\n",
      "  4196    50 infeasible   21       205.86667  205.80000  0.03%  60.3  340s\n",
      "  4500     0     cutoff   19       205.86667  205.80000  0.03%  57.2  345s\n",
      "\n",
      "Cutting planes:\n",
      "  Learned: 58\n",
      "  Gomory: 9\n",
      "  Cover: 148\n",
      "  Implied bound: 79\n",
      "  Clique: 969\n",
      "  MIR: 34\n",
      "  Flow cover: 4\n",
      "  Inf proof: 70\n",
      "  Zero half: 41\n",
      "  Network: 1\n",
      "  RLT: 42\n",
      "  BQP: 19\n",
      "\n",
      "Explored 4616 nodes (320446 simplex iterations) in 347.14 seconds\n",
      "Thread count was 8 (of 8 available processors)\n",
      "\n",
      "Solution count 10: 205.867 205.933 206.067 ... 227.733\n",
      "\n",
      "Optimal solution found (tolerance 1.00e-04)\n",
      "Best objective 2.058666666667e+02, best bound 2.058666666667e+02, gap 0.0000%\n"
     ]
    }
   ],
   "source": [
    "model2.optimize()"
   ]
  },
  {
   "cell_type": "markdown",
   "metadata": {},
   "source": [
    "#### Inspect and plot solution of Model 2"
   ]
  },
  {
   "cell_type": "code",
   "execution_count": 119,
   "metadata": {},
   "outputs": [
    {
     "data": {
      "text/plain": [
       "205.86666666666707"
      ]
     },
     "execution_count": 119,
     "metadata": {},
     "output_type": "execute_result"
    }
   ],
   "source": [
    "objValue2 = model2.getObjective().getValue()\n",
    "objValue2"
   ]
  },
  {
   "cell_type": "code",
   "execution_count": 120,
   "metadata": {},
   "outputs": [
    {
     "data": {
      "text/plain": [
       "Counter({True: 850})"
      ]
     },
     "execution_count": 120,
     "metadata": {},
     "output_type": "execute_result"
    }
   ],
   "source": [
    "x2_solution = model2.getAttr('x', x2)\n",
    "# customer: (hub, robot) lookup dict\n",
    "assignment2 = gp.tupledict({\n",
    "    (key[2], key[3]):(key[0], key[1]) \n",
    "    for key, value in x2_solution.items() \n",
    "    if value > 0.5})  # (instance, customer): (hub, robot)\n",
    "assignment2;\n",
    "# test whether the constraints are satisfied: every customer is assigned to one robot and one hub\n",
    "Counter([x2_solution.sum('*', '*', instance, customer).getValue() == 1 for customer in N for instance in I])"
   ]
  },
  {
   "cell_type": "code",
   "execution_count": 121,
   "metadata": {},
   "outputs": [
    {
     "data": {
      "text/plain": [
       "Counter({True: 1600})"
      ]
     },
     "execution_count": 121,
     "metadata": {},
     "output_type": "execute_result"
    }
   ],
   "source": [
    "# test the constraints: maximum working time of robots\n",
    "Counter([x2.prod(coeff1, hub, robot, instance, '*').getValue() <= M for hub in H for instance in I for robot in R])"
   ]
  },
  {
   "cell_type": "code",
   "execution_count": 122,
   "metadata": {},
   "outputs": [
    {
     "data": {
      "text/plain": [
       "True"
      ]
     },
     "execution_count": 122,
     "metadata": {},
     "output_type": "execute_result"
    }
   ],
   "source": [
    "o2_solution = model2.getAttr('x', o2)\n",
    "o2_solution\n",
    "# test whether constraints are satisfied: only p hubs are open\n",
    "o2_solution.sum().getValue() == p"
   ]
  },
  {
   "cell_type": "code",
   "execution_count": 126,
   "metadata": {
    "scrolled": true
   },
   "outputs": [
    {
     "data": {
      "text/plain": [
       "{(0, 0, 8): [13, 51],\n",
       " (0, 2, 4): [56],\n",
       " (0, 6, 1): [52, 67],\n",
       " (1, 0, 0): [44],\n",
       " (1, 0, 1): [3],\n",
       " (1, 0, 2): [71],\n",
       " (1, 0, 3): [50],\n",
       " (1, 0, 4): [76],\n",
       " (1, 0, 5): [2],\n",
       " (1, 0, 6): [7],\n",
       " (1, 0, 7): [5],\n",
       " (1, 0, 8): [34],\n",
       " (1, 0, 9): [82],\n",
       " (1, 1, 0): [80],\n",
       " (1, 1, 1): [80],\n",
       " (1, 1, 2): [73],\n",
       " (1, 1, 3): [10],\n",
       " (1, 1, 4): [72],\n",
       " (1, 1, 5): [27],\n",
       " (1, 1, 6): [25],\n",
       " (1, 1, 7): [4],\n",
       " (1, 1, 8): [27],\n",
       " (1, 2, 0): [10],\n",
       " (1, 2, 1): [46],\n",
       " (1, 2, 2): [10],\n",
       " (1, 2, 4): [73],\n",
       " (1, 2, 5): [54],\n",
       " (1, 2, 6): [13],\n",
       " (1, 2, 7): [42],\n",
       " (1, 2, 8): [19],\n",
       " (1, 2, 9): [66],\n",
       " (1, 3, 0): [41],\n",
       " (1, 3, 1): [51],\n",
       " (1, 3, 2): [53],\n",
       " (1, 3, 3): [35],\n",
       " (1, 3, 4): [59],\n",
       " (1, 3, 5): [20],\n",
       " (1, 3, 6): [71],\n",
       " (1, 3, 7): [83],\n",
       " (1, 3, 8): [28],\n",
       " (1, 3, 9): [61],\n",
       " (1, 4, 0): [47],\n",
       " (1, 4, 1): [47],\n",
       " (1, 4, 2): [3],\n",
       " (1, 4, 3): [43],\n",
       " (1, 4, 4): [7],\n",
       " (1, 4, 5): [31],\n",
       " (1, 4, 6): [83],\n",
       " (1, 4, 7): [0],\n",
       " (1, 4, 8): [17],\n",
       " (1, 5, 0): [4],\n",
       " (1, 5, 1): [65],\n",
       " (1, 5, 2): [14],\n",
       " (1, 5, 3): [36],\n",
       " (1, 5, 4): [69],\n",
       " (1, 5, 5): [33],\n",
       " (1, 5, 6): [26],\n",
       " (1, 5, 7): [3],\n",
       " (1, 5, 8): [31],\n",
       " (1, 6, 0): [7],\n",
       " (1, 6, 1): [77],\n",
       " (1, 6, 2): [6],\n",
       " (1, 6, 3): [74],\n",
       " (1, 6, 4): [29],\n",
       " (1, 6, 5): [55],\n",
       " (1, 6, 6): [36],\n",
       " (1, 6, 7): [53],\n",
       " (1, 6, 8): [52],\n",
       " (1, 7, 0): [79],\n",
       " (1, 7, 1): [4],\n",
       " (1, 7, 2): [57],\n",
       " (1, 7, 3): [47],\n",
       " (1, 7, 4): [2],\n",
       " (1, 7, 5): [24],\n",
       " (1, 7, 6): [21],\n",
       " (1, 7, 7): [61],\n",
       " (1, 7, 8): [38],\n",
       " (1, 8, 0): [55],\n",
       " (1, 8, 1): [36],\n",
       " (1, 8, 2): [68],\n",
       " (1, 8, 3): [69],\n",
       " (1, 8, 4): [79],\n",
       " (1, 8, 5): [42],\n",
       " (1, 8, 6): [55],\n",
       " (1, 8, 7): [81],\n",
       " (1, 8, 8): [7],\n",
       " (1, 9, 0): [24],\n",
       " (1, 9, 1): [17],\n",
       " (1, 9, 2): [48],\n",
       " (1, 9, 3): [45],\n",
       " (1, 9, 4): [71],\n",
       " (1, 9, 5): [58],\n",
       " (1, 9, 6): [8],\n",
       " (1, 9, 7): [50],\n",
       " (1, 9, 8): [82],\n",
       " (1, 9, 9): [69],\n",
       " (3, 0, 0): [48],\n",
       " (3, 0, 1): [41],\n",
       " (3, 0, 2): [8],\n",
       " (3, 0, 3): [72],\n",
       " (3, 0, 4): [19],\n",
       " (3, 0, 5): [57],\n",
       " (3, 0, 6): [9],\n",
       " (3, 0, 7): [58],\n",
       " (3, 0, 8): [64],\n",
       " (3, 0, 9): [6],\n",
       " (3, 1, 0): [72],\n",
       " (3, 1, 1): [8],\n",
       " (3, 1, 2): [64],\n",
       " (3, 1, 3): [8],\n",
       " (3, 1, 4): [50],\n",
       " (3, 1, 5): [75],\n",
       " (3, 1, 7): [70],\n",
       " (3, 1, 8): [46],\n",
       " (3, 1, 9): [65],\n",
       " (3, 2, 0): [35, 65, 76],\n",
       " (3, 2, 1): [42],\n",
       " (3, 2, 2): [13],\n",
       " (3, 2, 3): [3],\n",
       " (3, 2, 4): [25],\n",
       " (3, 2, 5): [61],\n",
       " (3, 2, 7): [30],\n",
       " (3, 2, 8): [39],\n",
       " (3, 2, 9): [4, 15, 41, 64],\n",
       " (3, 3, 0): [28],\n",
       " (3, 3, 1): [72],\n",
       " (3, 3, 2): [15],\n",
       " (3, 3, 3): [26],\n",
       " (3, 3, 4): [67],\n",
       " (3, 3, 6): [73],\n",
       " (3, 3, 7): [80],\n",
       " (3, 3, 8): [35],\n",
       " (3, 3, 9): [52],\n",
       " (3, 4, 0): [39],\n",
       " (3, 4, 1): [0],\n",
       " (3, 4, 2): [16],\n",
       " (3, 4, 4): [78],\n",
       " (3, 4, 5): [46],\n",
       " (3, 4, 6): [32],\n",
       " (3, 4, 7): [35],\n",
       " (3, 4, 8): [36],\n",
       " (3, 4, 9): [51],\n",
       " (3, 5, 0): [54],\n",
       " (3, 5, 1): [28],\n",
       " (3, 5, 2): [54],\n",
       " (3, 5, 3): [66],\n",
       " (3, 5, 4): [0],\n",
       " (3, 5, 5): [4],\n",
       " (3, 5, 6): [35],\n",
       " (3, 5, 7): [63],\n",
       " (3, 5, 8): [56],\n",
       " (3, 5, 9): [45],\n",
       " (3, 6, 0): [82],\n",
       " (3, 6, 1): [26],\n",
       " (3, 6, 2): [56],\n",
       " (3, 6, 3): [67],\n",
       " (3, 6, 4): [62],\n",
       " (3, 6, 5): [6],\n",
       " (3, 6, 6): [57],\n",
       " (3, 6, 7): [17],\n",
       " (3, 6, 8): [41],\n",
       " (3, 6, 9): [78],\n",
       " (3, 7, 0): [45],\n",
       " (3, 7, 1): [63],\n",
       " (3, 7, 2): [61],\n",
       " (3, 7, 3): [46],\n",
       " (3, 7, 4): [70],\n",
       " (3, 7, 5): [81],\n",
       " (3, 7, 6): [49],\n",
       " (3, 7, 7): [1],\n",
       " (3, 7, 8): [47],\n",
       " (3, 7, 9): [30],\n",
       " (3, 8, 0): [70],\n",
       " (3, 8, 1): [21],\n",
       " (3, 8, 2): [34],\n",
       " (3, 8, 3): [61],\n",
       " (3, 8, 4): [6],\n",
       " (3, 8, 5): [59],\n",
       " (3, 8, 6): [28],\n",
       " (3, 8, 7): [84],\n",
       " (3, 8, 8): [45],\n",
       " (3, 8, 9): [28],\n",
       " (3, 9, 0): [43],\n",
       " (3, 9, 1): [50],\n",
       " (3, 9, 2): [77],\n",
       " (3, 9, 3): [32],\n",
       " (3, 9, 4): [12],\n",
       " (3, 9, 5): [78],\n",
       " (3, 9, 6): [63],\n",
       " (3, 9, 7): [23],\n",
       " (3, 9, 8): [4],\n",
       " (3, 9, 9): [25],\n",
       " (4, 0, 0): [1],\n",
       " (4, 0, 1): [22],\n",
       " (4, 0, 2): [17],\n",
       " (4, 0, 3): [38],\n",
       " (4, 0, 4): [44],\n",
       " (4, 0, 5): [17],\n",
       " (4, 0, 6): [76],\n",
       " (4, 0, 7): [32],\n",
       " (4, 0, 8): [9],\n",
       " (4, 0, 9): [20],\n",
       " (4, 1, 0): [83],\n",
       " (4, 1, 1): [19],\n",
       " (4, 1, 2): [82],\n",
       " (4, 1, 3): [53],\n",
       " (4, 1, 4): [39],\n",
       " (4, 1, 5): [52],\n",
       " (4, 1, 6): [17],\n",
       " (4, 1, 7): [52],\n",
       " (4, 1, 8): [8],\n",
       " (4, 1, 9): [50],\n",
       " (4, 2, 0): [23],\n",
       " (4, 2, 1): [84],\n",
       " (4, 2, 2): [67],\n",
       " (4, 2, 4): [21],\n",
       " (4, 2, 5): [48],\n",
       " (4, 2, 6): [20],\n",
       " (4, 2, 7): [78],\n",
       " (4, 2, 8): [70],\n",
       " (4, 2, 9): [12],\n",
       " (4, 3, 0): [11],\n",
       " (4, 3, 1): [35],\n",
       " (4, 3, 2): [37],\n",
       " (4, 3, 3): [34],\n",
       " (4, 3, 4): [14],\n",
       " (4, 3, 5): [45],\n",
       " (4, 3, 6): [66],\n",
       " (4, 3, 7): [56],\n",
       " (4, 3, 8): [14],\n",
       " (4, 3, 9): [60],\n",
       " (4, 4, 0): [29],\n",
       " (4, 4, 1): [66],\n",
       " (4, 4, 3): [57],\n",
       " (4, 4, 4): [48],\n",
       " (4, 4, 5): [28],\n",
       " (4, 4, 6): [29],\n",
       " (4, 4, 7): [12],\n",
       " (4, 4, 8): [22],\n",
       " (4, 4, 9): [71],\n",
       " (4, 5, 0): [50],\n",
       " (4, 5, 1): [44],\n",
       " (4, 5, 3): [22],\n",
       " (4, 5, 4): [30],\n",
       " (4, 5, 5): [49],\n",
       " (4, 5, 6): [31],\n",
       " (4, 5, 7): [64],\n",
       " (4, 5, 8): [11],\n",
       " (4, 5, 9): [37],\n",
       " (4, 6, 0): [62],\n",
       " (4, 6, 1): [39],\n",
       " (4, 6, 2): [24],\n",
       " (4, 6, 3): [48],\n",
       " (4, 6, 4): [40],\n",
       " (4, 6, 5): [36],\n",
       " (4, 6, 6): [27],\n",
       " (4, 6, 7): [48],\n",
       " (4, 6, 8): [26],\n",
       " (4, 6, 9): [27],\n",
       " (4, 7, 0): [20],\n",
       " (4, 7, 1): [71],\n",
       " (4, 7, 2): [18],\n",
       " (4, 7, 3): [6],\n",
       " (4, 7, 4): [65],\n",
       " (4, 7, 5): [44],\n",
       " (4, 7, 6): [40],\n",
       " (4, 7, 7): [18],\n",
       " (4, 7, 8): [30],\n",
       " (4, 7, 9): [13],\n",
       " (4, 8, 0): [34],\n",
       " (4, 8, 1): [14],\n",
       " (4, 8, 2): [40],\n",
       " (4, 8, 3): [1],\n",
       " (4, 8, 4): [32],\n",
       " (4, 8, 5): [18],\n",
       " (4, 8, 6): [37],\n",
       " (4, 8, 7): [39],\n",
       " (4, 8, 8): [62],\n",
       " (4, 8, 9): [14],\n",
       " (4, 9, 0): [3],\n",
       " (4, 9, 1): [27],\n",
       " (4, 9, 2): [69],\n",
       " (4, 9, 3): [41],\n",
       " (4, 9, 4): [5],\n",
       " (4, 9, 5): [5],\n",
       " (4, 9, 6): [61],\n",
       " (4, 9, 7): [14],\n",
       " (4, 9, 8): [6],\n",
       " (4, 9, 9): [9],\n",
       " (6, 0, 0): [12],\n",
       " (6, 0, 1): [32],\n",
       " (6, 0, 2): [19],\n",
       " (6, 0, 3): [84],\n",
       " (6, 0, 4): [16],\n",
       " (6, 0, 5): [60],\n",
       " (6, 0, 6): [64],\n",
       " (6, 0, 7): [8],\n",
       " (6, 0, 8): [65],\n",
       " (6, 0, 9): [83],\n",
       " (6, 1, 0): [25],\n",
       " (6, 1, 1): [43],\n",
       " (6, 1, 2): [27],\n",
       " (6, 1, 3): [14],\n",
       " (6, 1, 4): [81],\n",
       " (6, 1, 5): [12],\n",
       " (6, 1, 6): [75],\n",
       " (6, 1, 7): [57],\n",
       " (6, 1, 8): [21],\n",
       " (6, 1, 9): [33],\n",
       " (6, 2, 0): [0],\n",
       " (6, 2, 1): [10],\n",
       " (6, 2, 2): [62],\n",
       " (6, 2, 3): [79],\n",
       " (6, 2, 4): [3],\n",
       " (6, 2, 5): [3],\n",
       " (6, 2, 6): [80],\n",
       " (6, 2, 7): [22],\n",
       " (6, 2, 8): [79],\n",
       " (6, 2, 9): [70],\n",
       " (6, 3, 0): [57],\n",
       " (6, 3, 1): [79],\n",
       " (6, 3, 2): [25],\n",
       " (6, 3, 3): [0],\n",
       " (6, 3, 4): [47],\n",
       " (6, 3, 5): [21],\n",
       " (6, 3, 7): [33],\n",
       " (6, 3, 8): [33],\n",
       " (6, 3, 9): [68],\n",
       " (6, 4, 0): [77],\n",
       " (6, 4, 1): [75],\n",
       " (6, 4, 2): [58],\n",
       " (6, 4, 3): [82],\n",
       " (6, 4, 4): [52],\n",
       " (6, 4, 5): [83],\n",
       " (6, 4, 6): [54],\n",
       " (6, 4, 7): [76],\n",
       " (6, 4, 8): [63],\n",
       " (6, 4, 9): [67],\n",
       " (6, 5, 0): [18],\n",
       " (6, 5, 1): [48],\n",
       " (6, 5, 2): [5],\n",
       " (6, 5, 3): [55],\n",
       " (6, 5, 4): [31],\n",
       " (6, 5, 5): [26],\n",
       " (6, 5, 6): [33],\n",
       " (6, 5, 7): [26],\n",
       " (6, 5, 8): [76],\n",
       " (6, 5, 9): [21],\n",
       " (6, 6, 0): [15],\n",
       " (6, 6, 1): [1],\n",
       " (6, 6, 2): [23],\n",
       " (6, 6, 3): [40],\n",
       " (6, 6, 4): [9],\n",
       " (6, 6, 5): [67],\n",
       " (6, 6, 6): [6],\n",
       " (6, 6, 7): [49],\n",
       " (6, 6, 8): [40],\n",
       " (6, 6, 9): [1],\n",
       " (6, 7, 0): [19],\n",
       " (6, 7, 1): [56],\n",
       " (6, 7, 2): [79],\n",
       " (6, 7, 3): [75],\n",
       " (6, 7, 4): [41],\n",
       " (6, 7, 5): [56],\n",
       " (6, 7, 6): [82],\n",
       " (6, 7, 7): [40],\n",
       " (6, 7, 8): [58],\n",
       " (6, 7, 9): [77],\n",
       " (6, 8, 0): [26],\n",
       " (6, 8, 1): [33],\n",
       " (6, 8, 2): [43],\n",
       " (6, 8, 3): [39],\n",
       " (6, 8, 4): [82],\n",
       " (6, 8, 5): [9],\n",
       " (6, 8, 6): [79],\n",
       " (6, 8, 7): [21],\n",
       " (6, 8, 8): [23],\n",
       " (6, 8, 9): [18],\n",
       " (6, 9, 0): [56],\n",
       " (6, 9, 1): [45],\n",
       " (6, 9, 2): [81],\n",
       " (6, 9, 3): [31],\n",
       " (6, 9, 4): [58],\n",
       " (6, 9, 5): [29],\n",
       " (6, 9, 6): [56],\n",
       " (6, 9, 7): [68],\n",
       " (6, 9, 8): [55],\n",
       " (6, 9, 9): [8],\n",
       " (9, 0, 0): [14],\n",
       " (9, 0, 1): [13],\n",
       " (9, 0, 2): [51],\n",
       " (9, 0, 3): [51],\n",
       " (9, 0, 4): [10],\n",
       " (9, 0, 5): [82],\n",
       " (9, 0, 6): [45],\n",
       " (9, 0, 7): [25],\n",
       " (9, 0, 8): [42],\n",
       " (9, 0, 9): [81],\n",
       " (9, 1, 0): [74],\n",
       " (9, 1, 1): [54],\n",
       " (9, 1, 2): [31],\n",
       " (9, 1, 3): [4],\n",
       " (9, 1, 4): [61],\n",
       " (9, 1, 5): [41],\n",
       " (9, 1, 6): [10],\n",
       " (9, 1, 7): [9],\n",
       " (9, 1, 8): [72],\n",
       " (9, 1, 9): [11],\n",
       " (9, 2, 0): [84],\n",
       " (9, 2, 1): [2],\n",
       " (9, 2, 2): [29],\n",
       " (9, 2, 3): [33],\n",
       " (9, 2, 4): [42],\n",
       " (9, 2, 5): [68],\n",
       " (9, 2, 6): [41],\n",
       " (9, 2, 7): [20],\n",
       " (9, 2, 8): [2],\n",
       " (9, 2, 9): [47],\n",
       " (9, 3, 0): [13],\n",
       " (9, 3, 1): [49],\n",
       " (9, 3, 2): [38],\n",
       " (9, 3, 3): [80],\n",
       " (9, 3, 4): [38],\n",
       " (9, 3, 5): [34],\n",
       " (9, 3, 6): [43],\n",
       " (9, 3, 7): [44],\n",
       " (9, 3, 8): [75],\n",
       " (9, 3, 9): [48],\n",
       " (9, 4, 0): [36],\n",
       " (9, 4, 1): [40],\n",
       " (9, 4, 2): [70],\n",
       " (9, 4, 3): [17],\n",
       " (9, 4, 4): [28],\n",
       " (9, 4, 5): [51],\n",
       " (9, 4, 6): [3],\n",
       " (9, 4, 7): [28],\n",
       " (9, 4, 8): [69],\n",
       " (9, 4, 9): [19],\n",
       " (9, 5, 0): [68],\n",
       " (9, 5, 1): [5],\n",
       " (9, 5, 2): [33],\n",
       " (9, 5, 3): [78],\n",
       " (9, 5, 4): [8],\n",
       " (9, 5, 5): [16],\n",
       " (9, 5, 6): [14],\n",
       " (9, 5, 7): [75],\n",
       " (9, 5, 8): [84],\n",
       " (9, 5, 9): [3],\n",
       " (9, 6, 0): [32],\n",
       " (9, 6, 1): [76],\n",
       " (9, 6, 2): [80],\n",
       " (9, 6, 3): [81],\n",
       " (9, 6, 4): [68],\n",
       " (9, 6, 5): [53],\n",
       " (9, 6, 6): [81],\n",
       " (9, 6, 7): [6],\n",
       " (9, 6, 8): [74],\n",
       " (9, 6, 9): [10],\n",
       " (9, 7, 0): [5],\n",
       " (9, 7, 1): [6],\n",
       " (9, 7, 2): [55],\n",
       " (9, 7, 3): [54],\n",
       " (9, 7, 4): [54],\n",
       " (9, 7, 5): [13],\n",
       " (9, 7, 6): [69],\n",
       " (9, 7, 7): [71],\n",
       " (9, 7, 8): [24],\n",
       " (9, 7, 9): [35],\n",
       " (9, 8, 0): [51],\n",
       " (9, 8, 1): [82],\n",
       " (9, 8, 2): [2],\n",
       " (9, 8, 3): [25],\n",
       " (9, 8, 4): [1],\n",
       " (9, 8, 5): [40],\n",
       " (9, 8, 6): [51],\n",
       " (9, 8, 7): [62],\n",
       " (9, 8, 8): [18],\n",
       " (9, 8, 9): [17],\n",
       " (9, 9, 0): [64],\n",
       " (9, 9, 1): [68],\n",
       " (9, 9, 2): [32],\n",
       " (9, 9, 3): [27],\n",
       " (9, 9, 4): [17],\n",
       " (9, 9, 5): [11],\n",
       " (9, 9, 6): [22],\n",
       " (9, 9, 7): [82],\n",
       " (9, 9, 8): [5],\n",
       " (9, 9, 9): [36],\n",
       " (11, 0, 0): [22],\n",
       " (11, 0, 1): [31],\n",
       " (11, 0, 2): [45],\n",
       " (11, 0, 3): [20],\n",
       " (11, 0, 4): [34],\n",
       " (11, 0, 5): [73],\n",
       " (11, 0, 6): [60],\n",
       " (11, 0, 7): [59],\n",
       " (11, 0, 8): [37],\n",
       " (11, 0, 9): [5],\n",
       " (11, 1, 1): [38],\n",
       " (11, 1, 2): [66],\n",
       " (11, 1, 3): [23],\n",
       " (11, 1, 4): [23],\n",
       " (11, 1, 5): [19],\n",
       " (11, 1, 7): [77],\n",
       " (11, 1, 8): [32],\n",
       " (11, 1, 9): [73],\n",
       " (11, 2, 0): [9],\n",
       " (11, 2, 1): [29],\n",
       " (11, 2, 2): [65],\n",
       " (11, 2, 3): [77],\n",
       " (11, 2, 4): [27],\n",
       " (11, 2, 5): [79],\n",
       " (11, 2, 6): [38],\n",
       " (11, 2, 7): [24],\n",
       " (11, 2, 8): [50],\n",
       " (11, 2, 9): [0],\n",
       " (11, 3, 0): [59],\n",
       " (11, 3, 1): [12],\n",
       " (11, 3, 2): [26],\n",
       " (11, 3, 3): [65],\n",
       " (11, 3, 4): [13],\n",
       " (11, 3, 5): [30],\n",
       " (11, 3, 7): [29],\n",
       " (11, 3, 8): [53],\n",
       " (11, 3, 9): [2],\n",
       " (11, 4, 0): [52],\n",
       " (11, 4, 2): [39],\n",
       " (11, 4, 3): [24],\n",
       " (11, 4, 4): [45],\n",
       " (11, 4, 5): [66],\n",
       " (11, 4, 7): [27],\n",
       " (11, 4, 8): [66],\n",
       " (11, 4, 9): [75],\n",
       " (11, 5, 0): [2],\n",
       " (11, 5, 1): [24],\n",
       " (11, 5, 2): [74],\n",
       " (11, 5, 3): [83],\n",
       " (11, 5, 5): [71],\n",
       " (11, 5, 6): [30],\n",
       " (11, 5, 7): [15],\n",
       " (11, 5, 8): [60],\n",
       " (11, 5, 9): [84],\n",
       " (11, 6, 0): [81],\n",
       " (11, 6, 1): [70],\n",
       " (11, 6, 2): [7],\n",
       " (11, 6, 3): [49],\n",
       " (11, 6, 4): [26],\n",
       " (11, 6, 5): [22],\n",
       " (11, 6, 6): [46],\n",
       " (11, 6, 7): [73],\n",
       " (11, 6, 8): [20],\n",
       " (11, 6, 9): [62],\n",
       " (11, 7, 0): [16],\n",
       " (11, 7, 1): [81],\n",
       " (11, 7, 2): [59],\n",
       " (11, 7, 3): [52],\n",
       " (11, 7, 4): [83],\n",
       " (11, 7, 5): [69],\n",
       " (11, 7, 6): [65],\n",
       " (11, 7, 7): [72],\n",
       " (11, 7, 8): [1],\n",
       " (11, 7, 9): [58],\n",
       " (11, 8, 0): [71],\n",
       " (11, 8, 2): [20],\n",
       " (11, 8, 3): [70],\n",
       " (11, 8, 4): [4],\n",
       " (11, 8, 5): [84],\n",
       " (11, 8, 6): [5],\n",
       " (11, 8, 7): [31],\n",
       " (11, 8, 8): [77],\n",
       " (11, 8, 9): [7],\n",
       " (11, 9, 0): [49],\n",
       " (11, 9, 1): [58],\n",
       " (11, 9, 2): [36],\n",
       " (11, 9, 3): [71],\n",
       " (11, 9, 4): [51],\n",
       " (11, 9, 5): [15],\n",
       " (11, 9, 6): [34],\n",
       " (11, 9, 7): [66],\n",
       " (11, 9, 8): [81],\n",
       " (11, 9, 9): [72],\n",
       " (12, 0, 0): [38],\n",
       " (12, 0, 1): [57],\n",
       " (12, 0, 2): [30],\n",
       " (12, 0, 4): [75],\n",
       " (12, 0, 5): [74],\n",
       " (12, 0, 6): [70],\n",
       " (12, 0, 7): [41],\n",
       " (12, 0, 8): [48],\n",
       " (12, 0, 9): [24],\n",
       " (12, 1, 0): [6],\n",
       " (12, 1, 1): [83],\n",
       " (12, 1, 2): [1],\n",
       " (12, 1, 3): [7],\n",
       " (12, 1, 4): [20],\n",
       " (12, 1, 6): [77],\n",
       " (12, 1, 7): [69],\n",
       " (12, 1, 9): [42],\n",
       " (12, 2, 0): [66],\n",
       " (12, 2, 1): [18],\n",
       " (12, 2, 3): [42],\n",
       " (12, 2, 4): [55],\n",
       " (12, 2, 5): [10],\n",
       " (12, 2, 6): [47],\n",
       " (12, 2, 7): [65],\n",
       " (12, 2, 8): [3, 44],\n",
       " (12, 3, 0): [67],\n",
       " (12, 3, 1): [64],\n",
       " (12, 3, 2): [46],\n",
       " (12, 3, 3): [11, 15, 18, 19],\n",
       " (12, 3, 5): [0],\n",
       " (12, 3, 6): [24],\n",
       " (12, 3, 7): [34],\n",
       " (12, 3, 9): [49],\n",
       " (12, 4, 0): [73],\n",
       " (12, 4, 1): [15],\n",
       " (12, 4, 2): [22],\n",
       " (12, 4, 4): [63],\n",
       " (12, 4, 5): [47],\n",
       " (12, 4, 6): [4, 42, 59],\n",
       " (12, 4, 7): [79],\n",
       " (12, 4, 8): [25],\n",
       " (12, 5, 0): [63],\n",
       " (12, 5, 1): [34],\n",
       " (12, 5, 2): [28],\n",
       " (12, 5, 3): [12],\n",
       " (12, 5, 4): [18, 84],\n",
       " (12, 5, 5): [38],\n",
       " (12, 5, 6): [15],\n",
       " (12, 5, 7): [67],\n",
       " (12, 5, 8): [16],\n",
       " (12, 5, 9): [23],\n",
       " (12, 6, 0): [78],\n",
       " (12, 6, 1): [37],\n",
       " (12, 6, 2): [0],\n",
       " (12, 6, 3): [2],\n",
       " (12, 6, 4): [15],\n",
       " (12, 6, 5): [64],\n",
       " (12, 6, 6): [48],\n",
       " (12, 6, 7): [60],\n",
       " (12, 6, 8): [12],\n",
       " (12, 6, 9): [38, 53, 54],\n",
       " (12, 7, 0): [21],\n",
       " (12, 7, 3): [68],\n",
       " (12, 7, 4): [49],\n",
       " (12, 7, 5): [77],\n",
       " (12, 7, 6): [58],\n",
       " (12, 7, 7): [37],\n",
       " (12, 7, 9): [74],\n",
       " (12, 8, 0): [53],\n",
       " (12, 8, 1): [11],\n",
       " (12, 8, 3): [60],\n",
       " (12, 8, 4): [57, 80],\n",
       " (12, 8, 6): [44],\n",
       " (12, 8, 7): [46],\n",
       " (12, 8, 8): [57],\n",
       " (12, 9, 0): [17],\n",
       " (12, 9, 1): [59],\n",
       " (12, 9, 2): [9],\n",
       " (12, 9, 5): [72],\n",
       " (12, 9, 6): [2],\n",
       " (12, 9, 7): [19],\n",
       " (12, 9, 9): [76],\n",
       " (14, 0, 0): [58],\n",
       " (14, 0, 1): [60],\n",
       " (14, 0, 2): [76],\n",
       " (14, 0, 3): [30],\n",
       " (14, 0, 5): [32],\n",
       " (14, 0, 6): [84],\n",
       " (14, 0, 7): [2],\n",
       " (14, 0, 8): [29],\n",
       " (14, 0, 9): [79],\n",
       " (14, 1, 1): [74],\n",
       " (14, 1, 2): [72],\n",
       " (14, 1, 3): [9],\n",
       " (14, 1, 4): [24],\n",
       " (14, 1, 5): [65],\n",
       " (14, 1, 6): [72],\n",
       " (14, 1, 7): [54],\n",
       " (14, 1, 8): [49],\n",
       " (14, 1, 9): [16],\n",
       " (14, 2, 0): [60],\n",
       " (14, 2, 2): [60],\n",
       " (14, 2, 3): [29],\n",
       " (14, 2, 4): [33],\n",
       " (14, 2, 5): [70],\n",
       " (14, 2, 6): [16],\n",
       " (14, 2, 7): [51],\n",
       " (14, 2, 9): [55],\n",
       " (14, 3, 1): [9],\n",
       " (14, 3, 2): [44],\n",
       " (14, 3, 3): [73],\n",
       " (14, 3, 5): [50],\n",
       " (14, 3, 6): [18],\n",
       " (14, 3, 9): [56],\n",
       " (14, 4, 0): [69],\n",
       " (14, 4, 1): [55],\n",
       " (14, 4, 2): [41],\n",
       " (14, 4, 3): [62],\n",
       " (14, 4, 4): [35],\n",
       " (14, 4, 5): [37],\n",
       " (14, 4, 6): [53],\n",
       " (14, 4, 9): [46],\n",
       " (14, 5, 0): [46],\n",
       " (14, 5, 1): [25],\n",
       " (14, 5, 2): [42],\n",
       " (14, 5, 3): [21],\n",
       " (14, 5, 4): [74],\n",
       " (14, 5, 5): [43],\n",
       " (14, 5, 6): [0],\n",
       " (14, 5, 7): [7],\n",
       " (14, 5, 8): [78],\n",
       " (14, 5, 9): [32],\n",
       " (14, 6, 0): [30],\n",
       " (14, 6, 1): [7],\n",
       " (14, 6, 2): [52],\n",
       " (14, 6, 3): [5],\n",
       " (14, 6, 5): [35],\n",
       " (14, 6, 6): [11],\n",
       " (14, 6, 9): [22],\n",
       " (14, 7, 2): [11],\n",
       " (14, 7, 3): [44],\n",
       " (14, 7, 4): [64],\n",
       " (14, 7, 5): [62],\n",
       " (14, 7, 6): [50],\n",
       " (14, 7, 7): [47],\n",
       " (14, 7, 8): [67],\n",
       " (14, 7, 9): [44],\n",
       " (14, 8, 0): [33],\n",
       " (14, 8, 2): [21],\n",
       " (14, 8, 3): [64],\n",
       " (14, 8, 5): [39],\n",
       " (14, 8, 6): [52],\n",
       " (14, 8, 7): [13],\n",
       " (14, 8, 8): [61],\n",
       " (14, 8, 9): [80],\n",
       " (14, 9, 0): [61],\n",
       " (14, 9, 1): [53],\n",
       " (14, 9, 2): [12],\n",
       " (14, 9, 3): [28],\n",
       " (14, 9, 4): [37],\n",
       " (14, 9, 5): [63],\n",
       " (14, 9, 6): [68],\n",
       " (14, 9, 8): [71],\n",
       " (14, 9, 9): [59],\n",
       " (15, 0, 0): [31],\n",
       " (15, 0, 1): [62],\n",
       " (15, 0, 2): [49],\n",
       " (15, 0, 4): [46],\n",
       " (15, 0, 5): [7],\n",
       " (15, 0, 6): [1],\n",
       " (15, 0, 7): [10],\n",
       " (15, 0, 8): [15],\n",
       " (15, 0, 9): [34],\n",
       " (15, 1, 1): [73],\n",
       " (15, 1, 2): [50],\n",
       " (15, 1, 3): [56],\n",
       " (15, 1, 4): [43],\n",
       " (15, 1, 6): [62],\n",
       " (15, 1, 7): [36],\n",
       " (15, 1, 8): [80],\n",
       " (15, 1, 9): [43],\n",
       " (15, 2, 0): [75],\n",
       " (15, 2, 1): [69],\n",
       " (15, 2, 2): [47],\n",
       " (15, 2, 3): [13],\n",
       " (15, 2, 4): [66],\n",
       " (15, 2, 6): [74],\n",
       " (15, 2, 7): [16],\n",
       " (15, 2, 8): [68],\n",
       " (15, 3, 0): [27],\n",
       " (15, 3, 1): [23],\n",
       " (15, 3, 2): [84],\n",
       " (15, 3, 3): [59],\n",
       " (15, 3, 4): [53],\n",
       " (15, 3, 5): [14],\n",
       " (15, 3, 6): [39],\n",
       " (15, 3, 7): [74],\n",
       " (15, 3, 8): [83],\n",
       " (15, 3, 9): [29],\n",
       " (15, 4, 1): [30],\n",
       " (15, 4, 2): [75],\n",
       " (15, 4, 3): [37],\n",
       " (15, 4, 4): [60],\n",
       " (15, 4, 5): [25],\n",
       " (15, 4, 6): [78],\n",
       " (15, 4, 8): [59],\n",
       " (15, 4, 9): [40],\n",
       " (15, 5, 0): [37],\n",
       " (15, 5, 2): [35],\n",
       " (15, 5, 3): [63],\n",
       " (15, 5, 5): [8],\n",
       " (15, 5, 6): [12],\n",
       " (15, 5, 7): [55],\n",
       " (15, 5, 8): [0],\n",
       " (15, 5, 9): [31],\n",
       " (15, 6, 0): [42],\n",
       " (15, 6, 1): [20],\n",
       " (15, 6, 2): [83],\n",
       " (15, 6, 3): [76],\n",
       " (15, 6, 4): [11],\n",
       " (15, 6, 5): [1],\n",
       " (15, 6, 6): [19],\n",
       " (15, 6, 7): [11],\n",
       " (15, 6, 8): [54],\n",
       " (15, 6, 9): [39],\n",
       " (15, 7, 0): [8],\n",
       " (15, 7, 1): [78],\n",
       " (15, 7, 2): [78],\n",
       " (15, 7, 4): [77],\n",
       " (15, 7, 5): [23],\n",
       " (15, 7, 7): [38],\n",
       " (15, 7, 8): [10],\n",
       " (15, 7, 9): [26],\n",
       " (15, 8, 0): [40],\n",
       " (15, 8, 1): [16],\n",
       " (15, 8, 2): [4],\n",
       " (15, 8, 3): [58],\n",
       " (15, 8, 4): [36],\n",
       " (15, 8, 5): [80],\n",
       " (15, 8, 6): [23],\n",
       " (15, 8, 7): [43],\n",
       " (15, 8, 8): [73],\n",
       " (15, 8, 9): [57],\n",
       " (15, 9, 1): [61],\n",
       " (15, 9, 2): [63],\n",
       " (15, 9, 3): [16],\n",
       " (15, 9, 4): [22],\n",
       " (15, 9, 5): [76],\n",
       " (15, 9, 6): [67],\n",
       " (15, 9, 7): [45],\n",
       " (15, 9, 8): [43],\n",
       " (15, 9, 9): [63]}"
      ]
     },
     "execution_count": 126,
     "metadata": {},
     "output_type": "execute_result"
    }
   ],
   "source": [
    "workload = dict()\n",
    "for hub in H:\n",
    "    for robot in R:\n",
    "        for instance in I:\n",
    "            wl = x2_solution.sum(hub, robot, instance, '*').getValue()\n",
    "            if wl > 0:\n",
    "                customers = [key[1] for key, value in assignment2.items() if value == (hub, robot) and key[0] == instance]\n",
    "                workload[hub, robot, instance] = [customers, \n",
    "                                                  wl,\n",
    "                                                  x2_solution.prod(coeff2, hub, robot, instance, '*').getValue(),  # pure travel time over all instances\n",
    "                                                  x2_solution.prod(coeff1, hub, robot, instance, '*').getValue()  # total time incl. recharge etc.\n",
    "                                       ]\n",
    "active_robots, wl_customers, wl_num_customers, wl_travel_time, wl_total_time = gp.multidict(workload)\n",
    "active_robots, wl_customers, wl_num_customers, wl_travel_time, wl_total_time;\n",
    "wl_customers"
   ]
  },
  {
   "cell_type": "code",
   "execution_count": 128,
   "metadata": {},
   "outputs": [
    {
     "data": {
      "application/vnd.jupyter.widget-view+json": {
       "model_id": "f0c209edfd2e437494d2786e5a23ed85",
       "version_major": 2,
       "version_minor": 0
      },
      "text/plain": [
       "interactive(children=(Dropdown(description='plot_instance', options=(0, 1, 2, 3, 4, 5, 6, 7, 8, 9), value=0), …"
      ]
     },
     "metadata": {},
     "output_type": "display_data"
    }
   ],
   "source": [
    "def model2_plot(plot_instance):\n",
    "    # plot hubs\n",
    "    hub_colors = []\n",
    "    for hub in H:\n",
    "        if o2_solution[hub] > 0.5:\n",
    "            hub_colors.append(colors(hub/h))\n",
    "        else:\n",
    "            hub_colors.append('white')\n",
    "    plt.scatter(hubs_x, hubs_y, c=hub_colors, marker='s', s=75, edgecolors='black')\n",
    "    \n",
    "    # plot customers\n",
    "    customer_colors = []\n",
    "    for customer in N:\n",
    "        customer_colors.append(colors(assignment2[plot_instance, customer][0]/h))\n",
    "    customers_x, customers_y = zip(*customer_coords.select(plot_instance, '*'))\n",
    "    plt.scatter(customers_x, customers_y, c=customer_colors, alpha=0.5, edgecolors='black')\n",
    "\n",
    "    for customer in N:\n",
    "        plt.annotate(s=customer, xy=(customers_x[customer], customers_y[customer]))\n",
    "\n",
    "    # plot robot tours, different line style per robot\n",
    "    for hub, robot, instance in active_robots.select('*', '*', plot_instance):\n",
    "        C = wl_customers[hub, robot, instance]\n",
    "        for customer in C:\n",
    "            plt.plot([hubs_x[hub], customers_x[customer]],\n",
    "                     [hubs_y[hub], customers_y[customer]],\n",
    "                     c=hub_colors[hub],\n",
    "                     zorder=0\n",
    "                    )\n",
    "\n",
    "    plt.xlim(0, area)\n",
    "    plt.ylim(0, area)\n",
    "    plt.gcf().set_size_inches(20,10)\n",
    "    plt.grid()\n",
    "    # obviously, this plot does not show the actual tours which are based on manhatten distances\n",
    "interact(model2_plot, plot_instance=I);"
   ]
  }
 ],
 "metadata": {
  "kernelspec": {
   "display_name": "Python [conda env:gurobi] *",
   "language": "python",
   "name": "conda-env-gurobi-py"
  },
  "language_info": {
   "codemirror_mode": {
    "name": "ipython",
    "version": 3
   },
   "file_extension": ".py",
   "mimetype": "text/x-python",
   "name": "python",
   "nbconvert_exporter": "python",
   "pygments_lexer": "ipython3",
   "version": "3.7.6"
  }
 },
 "nbformat": 4,
 "nbformat_minor": 4
}
