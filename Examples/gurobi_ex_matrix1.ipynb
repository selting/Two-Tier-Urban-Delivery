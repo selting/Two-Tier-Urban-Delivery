{
 "cells": [
  {
   "cell_type": "markdown",
   "metadata": {},
   "source": [
    "# Matrix example\n",
    "This notebook roughly follows the matrix example at https://www.gurobi.com/documentation/9.0/quickstart_windows/py_python_matrix_example.html\n",
    "\n",
    "\n",
    "This example formulates and solves the following simple MIP model\n",
    "using the matrix API:\n",
    "```\n",
    "maximize\n",
    "    x +   y + 2 z\n",
    "subject to\n",
    "    x + 2 y + 3 z <= 4\n",
    "    x +   y       >= 1\n",
    "    x, y, z binary\n",
    "```"
   ]
  },
  {
   "cell_type": "code",
   "execution_count": 19,
   "metadata": {},
   "outputs": [],
   "source": [
    "import numpy as np\n",
    "import scipy.sparse as sp\n",
    "import gurobipy as gp\n",
    "from gurobipy import GRB"
   ]
  },
  {
   "cell_type": "code",
   "execution_count": 20,
   "metadata": {},
   "outputs": [],
   "source": [
    "m = gp.Model(\"matrix1\")\n",
    "x = m.addMVar(shape=3, vtype=GRB.BINARY, name=\"x\") # add the decision variables"
   ]
  },
  {
   "cell_type": "code",
   "execution_count": 21,
   "metadata": {},
   "outputs": [],
   "source": [
    "obj = np.array([1.0, 1.0, 2.0]) # define the factors for the objective function\n",
    "m.setObjective(obj @ x, GRB.MAXIMIZE) # set the objective as the product of the variables and their factors (@ operator is for matrix mulitplicaiton/dot product)\n",
    "tmp1=np.array([1,2,3])"
   ]
  },
  {
   "cell_type": "code",
   "execution_count": 22,
   "metadata": {},
   "outputs": [
    {
     "name": "stdout",
     "output_type": "stream",
     "text": [
      "  (0, 0)\t1.0\n",
      "  (0, 1)\t2.0\n",
      "  (0, 2)\t3.0\n",
      "  (1, 0)\t-1.0\n",
      "  (1, 1)\t-1.0\n"
     ]
    }
   ],
   "source": [
    "data = np.array([1.0, 2.0, 3.0, -1.0, -1.0])\n",
    "row = np.array([0, 0, 0, 1, 1])\n",
    "col = np.array([0, 1, 2, 0, 1])\n",
    "A = sp.csr_matrix((data, (row, col)), shape=(2,3)) # create a compressed sparse row-based matrix for the constraints\n",
    "print(A)"
   ]
  },
  {
   "cell_type": "code",
   "execution_count": 23,
   "metadata": {},
   "outputs": [
    {
     "name": "stdout",
     "output_type": "stream",
     "text": [
      "[[ 1.  2.  3.]\n",
      " [-1. -1.  0.]]\n"
     ]
    }
   ],
   "source": [
    "print(A.todense()) # print the dense version of the sparse matrix"
   ]
  },
  {
   "cell_type": "markdown",
   "metadata": {},
   "source": [
    "Note the negative values of the second row (-1, -1). The constraint however uses positive values (`x + y >= 1`). Flipping the signs transforms it into the required 'less or equal' constraint."
   ]
  },
  {
   "cell_type": "code",
   "execution_count": 24,
   "metadata": {},
   "outputs": [
    {
     "name": "stdout",
     "output_type": "stream",
     "text": [
      "\n",
      "Statistics for model matrix1 :\n",
      "  Linear constraint matrix    : 2 Constrs, 3 Vars, 5 NZs\n",
      "  Variable types              : 0 Continuous, 3 Integer (3 Binary)\n",
      "  Matrix coefficient range    : [ 1, 3 ]\n",
      "  Objective coefficient range : [ 1, 2 ]\n",
      "  Variable bound range        : [ 1, 1 ]\n",
      "  RHS coefficient range       : [ 1, 4 ]\n"
     ]
    }
   ],
   "source": [
    "rhs = np.array([4.0, -1.0])  # right hand sides of the constraints\n",
    "m.addConstr(A @ x <= rhs, name='c')  # add the constraints to the model\n",
    "m.update()  # is required to print the correct status of the model. Is also called when model is solved\n",
    "m.printStats()"
   ]
  },
  {
   "cell_type": "code",
   "execution_count": 25,
   "metadata": {},
   "outputs": [
    {
     "name": "stdout",
     "output_type": "stream",
     "text": [
      "Gurobi Optimizer version 9.0.1 build v9.0.1rc0 (win64)\n",
      "Optimize a model with 2 rows, 3 columns and 5 nonzeros\n",
      "Model fingerprint: 0x6d8be88c\n",
      "Variable types: 0 continuous, 3 integer (3 binary)\n",
      "Coefficient statistics:\n",
      "  Matrix range     [1e+00, 3e+00]\n",
      "  Objective range  [1e+00, 2e+00]\n",
      "  Bounds range     [1e+00, 1e+00]\n",
      "  RHS range        [1e+00, 4e+00]\n",
      "Found heuristic solution: objective 2.0000000\n",
      "Presolve removed 2 rows and 3 columns\n",
      "Presolve time: 0.00s\n",
      "Presolve: All rows and columns removed\n",
      "\n",
      "Explored 0 nodes (0 simplex iterations) in 0.00 seconds\n",
      "Thread count was 1 (of 4 available processors)\n",
      "\n",
      "Solution count 2: 3 \n",
      "\n",
      "Optimal solution found (tolerance 1.00e-04)\n",
      "Best objective 3.000000000000e+00, best bound 3.000000000000e+00, gap 0.0000%\n"
     ]
    }
   ],
   "source": [
    "m.optimize()  # solve the model"
   ]
  },
  {
   "cell_type": "code",
   "execution_count": 26,
   "metadata": {},
   "outputs": [
    {
     "name": "stdout",
     "output_type": "stream",
     "text": [
      "['x[0]' 'x[1]' 'x[2]']\n",
      "[1. 0. 1.]\n",
      "Obj:3.0\n"
     ]
    }
   ],
   "source": [
    "print(x.varName)\n",
    "print(x.X)\n",
    "print(f'Obj:{m.ObjVal}')"
   ]
  },
  {
   "cell_type": "code",
   "execution_count": null,
   "metadata": {},
   "outputs": [],
   "source": []
  }
 ],
 "metadata": {
  "kernelspec": {
   "display_name": "Python [conda env:gurobi] *",
   "language": "python",
   "name": "conda-env-gurobi-py"
  },
  "language_info": {
   "codemirror_mode": {
    "name": "ipython",
    "version": 3
   },
   "file_extension": ".py",
   "mimetype": "text/x-python",
   "name": "python",
   "nbconvert_exporter": "python",
   "pygments_lexer": "ipython3",
   "version": "3.7.6"
  }
 },
 "nbformat": 4,
 "nbformat_minor": 4
}
