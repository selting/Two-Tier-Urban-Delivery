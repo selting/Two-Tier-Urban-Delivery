{
 "cells": [
  {
   "cell_type": "markdown",
   "metadata": {},
   "source": [
    "# Dictionaries example\n",
    "For a more in-depth explanation read\n",
    "https://www.gurobi.com/documentation/9.0/quickstart_windows/py_python_dictionary_examp.html"
   ]
  },
  {
   "cell_type": "code",
   "execution_count": 6,
   "metadata": {},
   "outputs": [],
   "source": [
    "import gurobipy as gp\n",
    "from gurobipy import GRB"
   ]
  },
  {
   "cell_type": "markdown",
   "metadata": {},
   "source": [
    "## Custom gurobipy classes"
   ]
  },
  {
   "cell_type": "markdown",
   "metadata": {},
   "source": [
    "The `multidict` class allows to initialize multiple dictionaries at once.\n",
    "It takes as an input a dictionary in which each entry's value is a list of length n. The multidict class will then split these lists, creating n seperate dictionaries that share the same keys."
   ]
  },
  {
   "cell_type": "code",
   "execution_count": 7,
   "metadata": {},
   "outputs": [
    {
     "name": "stdout",
     "output_type": "stream",
     "text": [
      "['x', 'y', 'z']\n",
      "{'x': 0, 'y': 1, 'z': 0}\n",
      "{'x': 1, 'y': 2, 'z': 3}\n"
     ]
    }
   ],
   "source": [
    "names, lower, upper = gp.multidict(dict(x=[0,1], y=[1,2], z=[0,3]))\n",
    "print(names)\n",
    "print(lower)\n",
    "print(upper)"
   ]
  },
  {
   "cell_type": "markdown",
   "metadata": {},
   "source": [
    "The `tuplelist` class stores a list of tuples and is a subclass of the standard list class. The .select function is an efficient way to extract specific tuples based on the given criteria. It works with wildcards ('*') and multi-criteria inputs (lists)"
   ]
  },
  {
   "cell_type": "code",
   "execution_count": 16,
   "metadata": {},
   "outputs": [
    {
     "data": {
      "text/plain": [
       "<gurobi.tuplelist (2 tuples, 2 values each):\n",
       " ( 1 , 2 )\n",
       " ( 1 , 3 )\n",
       ">"
      ]
     },
     "execution_count": 16,
     "metadata": {},
     "output_type": "execute_result"
    }
   ],
   "source": [
    "l = gp.tuplelist([(1, 2), (1, 3), (2, 3), (2, 4)])\n",
    "l.select(1, '*')  # will give all entries that have 1 in the first position"
   ]
  },
  {
   "cell_type": "code",
   "execution_count": 17,
   "metadata": {},
   "outputs": [
    {
     "data": {
      "text/plain": [
       "<gurobi.tuplelist (2 tuples, 2 values each):\n",
       " ( 1 , 2 )\n",
       " ( 2 , 4 )\n",
       ">"
      ]
     },
     "execution_count": 17,
     "metadata": {},
     "output_type": "execute_result"
    }
   ],
   "source": [
    "l.select('*', [2, 4])  # will return all entries that have 2 or 4 at the second position"
   ]
  },
  {
   "cell_type": "markdown",
   "metadata": {},
   "source": [
    "The `tupledict` class is a subclass of the python dictionaries that uses `tuplelist` as keys (so the .select method can be used to select subsets of the `tupledict`). In a tupledict, Gurobi decision variables can be stored that correspond to the tuple key. In a VRP, e.g., the key tuple may be (node i, node j, vehicle v) and the tupledict class allows to easily select only those arcs that originate from node i. "
   ]
  },
  {
   "cell_type": "code",
   "execution_count": 26,
   "metadata": {},
   "outputs": [
    {
     "data": {
      "text/plain": [
       "gurobipy.tupledict"
      ]
     },
     "execution_count": 26,
     "metadata": {},
     "output_type": "execute_result"
    }
   ],
   "source": [
    "l = list([(1, 2), (1, 3), (2, 3), (2, 4)])\n",
    "m = gp.Model(name='dict1')\n",
    "d = m.addVars(l, name='d')  # the addVars method creates Variables and returns them as a tupledict\n",
    "m.update()\n",
    "type(d)"
   ]
  },
  {
   "cell_type": "code",
   "execution_count": 27,
   "metadata": {},
   "outputs": [
    {
     "data": {
      "text/plain": [
       "{(1, 2): <gurobi.Var d[1,2]>,\n",
       " (1, 3): <gurobi.Var d[1,3]>,\n",
       " (2, 3): <gurobi.Var d[2,3]>,\n",
       " (2, 4): <gurobi.Var d[2,4]>}"
      ]
     },
     "execution_count": 27,
     "metadata": {},
     "output_type": "execute_result"
    }
   ],
   "source": [
    "d"
   ]
  },
  {
   "cell_type": "code",
   "execution_count": 31,
   "metadata": {},
   "outputs": [
    {
     "data": {
      "text/plain": [
       "<gurobi.LinExpr: d[1,2] + d[1,3]>"
      ]
     },
     "execution_count": 31,
     "metadata": {},
     "output_type": "execute_result"
    }
   ],
   "source": [
    "sum(d.select(1, '*'))  # the tupledict can be used to create linear expressions of the variables"
   ]
  },
  {
   "cell_type": "code",
   "execution_count": 32,
   "metadata": {},
   "outputs": [
    {
     "data": {
      "text/plain": [
       "<gurobi.LinExpr: d[1,2] + d[1,3]>"
      ]
     },
     "execution_count": 32,
     "metadata": {},
     "output_type": "execute_result"
    }
   ],
   "source": [
    "d.sum(1, '*')  # is the faster way of doing the same"
   ]
  },
  {
   "cell_type": "code",
   "execution_count": 33,
   "metadata": {},
   "outputs": [
    {
     "data": {
      "text/plain": [
       "<gurobi.LinExpr: 5.0 d[1,2] + 7.0 d[2,3]>"
      ]
     },
     "execution_count": 33,
     "metadata": {},
     "output_type": "execute_result"
    }
   ],
   "source": [
    "coeff = {(1,2):5, (2,3):7}\n",
    "# coeff = {l[0]: 5, l[2]:7}\n",
    "d.prod(coeff)   # the .prod method of the tupledict class handles expressions where variables are weighted differently.\n",
    "                # the input dictionary has the same tuple keys as the variables themselves"
   ]
  },
  {
   "cell_type": "code",
   "execution_count": 34,
   "metadata": {},
   "outputs": [
    {
     "data": {
      "text/plain": [
       "<gurobi.LinExpr: 7.0 d[2,3]>"
      ]
     },
     "execution_count": 34,
     "metadata": {},
     "output_type": "execute_result"
    }
   ],
   "source": [
    "d.prod(coeff, 2)  # this method also accepts a filter"
   ]
  },
  {
   "cell_type": "code",
   "execution_count": null,
   "metadata": {},
   "outputs": [],
   "source": []
  }
 ],
 "metadata": {
  "kernelspec": {
   "display_name": "Python [conda env:gurobi] *",
   "language": "python",
   "name": "conda-env-gurobi-py"
  },
  "language_info": {
   "codemirror_mode": {
    "name": "ipython",
    "version": 3
   },
   "file_extension": ".py",
   "mimetype": "text/x-python",
   "name": "python",
   "nbconvert_exporter": "python",
   "pygments_lexer": "ipython3",
   "version": "3.7.6"
  }
 },
 "nbformat": 4,
 "nbformat_minor": 4
}
