{
 "cells": [
  {
   "cell_type": "markdown",
   "metadata": {},
   "source": [
    "# Two-Tier Urban Deliveries with Robots with no time windows"
   ]
  },
  {
   "attachments": {
    "Anmerkung%202020-03-12%20151840.png": {
     "image/png": "[encoded data removed]"
    }
   },
   "cell_type": "markdown",
   "metadata": {},
   "source": [
    "## MIP model\n",
    "##### Decision variables:\n",
    "\n",
    "| Variable |    |\n",
    "|------|------|\n",
    "|   $x_{c}^{wrd} = 1$| if robot $r=1, ..., r_{max}$ from hub $d$ serves customer $c$, where $d=1, ..., n; c\\in C_{d}^{\\omega}; \\omega \\in \\Omega$|\n",
    "|$x_{c}^{wrd} = 0$|otherwise|\n",
    "|$o^{d}=1$|if hub $d$ is opened where $d=1,...,n$|\n",
    "|$o^{d}=0$:|otherwise|\n",
    "\n",
    "![Anmerkung%202020-03-12%20151840.png](attachment:Anmerkung%202020-03-12%20151840.png)\n",
    "\n",
    "##### Objective Function\n",
    "$$ min \\sum_{d=1}^n o^{d}\n",
    "$$\n",
    "\n",
    "\n",
    "##### Constraints:\n",
    "1.\n",
    "\n",
    "| No. | Constraint   |\n",
    "|------|------|\n",
    "|   1  | table|"
   ]
  },
  {
   "cell_type": "markdown",
   "metadata": {},
   "source": [
    "## Gurobi Model: First Attempt"
   ]
  },
  {
   "cell_type": "code",
   "execution_count": 46,
   "metadata": {},
   "outputs": [],
   "source": [
    "import gurobipy as gp\n",
    "from gurobipy import GRB\n",
    "import matplotlib.pyplot as plt\n",
    "import numpy as np"
   ]
  },
  {
   "cell_type": "code",
   "execution_count": 47,
   "metadata": {},
   "outputs": [],
   "source": [
    "def grid (a, n=None, spacing=None):\n",
    "    \"\"\"\n",
    "    distribute n points evenly in a 2-dimensional square of side length a\n",
    "    or create a square grid with suqare cells of length c\n",
    "    \"\"\"\n",
    "    if spacing is None:\n",
    "        assert n\n",
    "        spacing = a // int(np.sqrt(n))\n",
    "        base = range(spacing//2, a, spacing)\n",
    "    if n is None:\n",
    "        assert spacing\n",
    "        base = range(0, a+1, spacing)\n",
    "    return[(x,y) for x in base for y in base]\n",
    "\n",
    "def travel_time(first, second, speed):  # speed in km/h\n",
    "    dist = abs(first[0] - second[0]) + abs(first[1] - second[1])  # distance in km\n",
    "    print(dist)\n",
    "    return dist/speed  # travel time in hours"
   ]
  },
  {
   "cell_type": "code",
   "execution_count": 48,
   "metadata": {},
   "outputs": [
    {
     "ename": "ValueError",
     "evalue": "range() arg 3 must not be zero",
     "output_type": "error",
     "traceback": [
      "\u001b[1;31m---------------------------------------------------------------------------\u001b[0m",
      "\u001b[1;31mValueError\u001b[0m                                Traceback (most recent call last)",
      "\u001b[1;32m<ipython-input-48-f1b68d42446d>\u001b[0m in \u001b[0;36m<module>\u001b[1;34m\u001b[0m\n\u001b[0;32m     13\u001b[0m \u001b[0mv\u001b[0m \u001b[1;33m=\u001b[0m \u001b[1;36m3\u001b[0m  \u001b[1;31m# robot speed (km/h)\u001b[0m\u001b[1;33m\u001b[0m\u001b[1;33m\u001b[0m\u001b[0m\n\u001b[0;32m     14\u001b[0m \u001b[1;33m\u001b[0m\u001b[0m\n\u001b[1;32m---> 15\u001b[1;33m \u001b[0mhubs_x\u001b[0m \u001b[1;33m,\u001b[0m \u001b[0mhubs_y\u001b[0m \u001b[1;33m=\u001b[0m \u001b[0mzip\u001b[0m\u001b[1;33m(\u001b[0m\u001b[1;33m*\u001b[0m\u001b[0mgrid\u001b[0m\u001b[1;33m(\u001b[0m\u001b[0ma\u001b[0m\u001b[1;33m=\u001b[0m\u001b[0marea\u001b[0m\u001b[1;33m,\u001b[0m \u001b[0mn\u001b[0m\u001b[1;33m=\u001b[0m\u001b[0mh\u001b[0m\u001b[1;33m)\u001b[0m\u001b[1;33m)\u001b[0m\u001b[1;33m\u001b[0m\u001b[1;33m\u001b[0m\u001b[0m\n\u001b[0m\u001b[0;32m     16\u001b[0m \u001b[1;33m\u001b[0m\u001b[0m\n\u001b[0;32m     17\u001b[0m \u001b[0mx\u001b[0m\u001b[1;33m,\u001b[0m \u001b[0my\u001b[0m \u001b[1;33m=\u001b[0m \u001b[0mzip\u001b[0m\u001b[1;33m(\u001b[0m\u001b[1;33m*\u001b[0m\u001b[0mgrid\u001b[0m\u001b[1;33m(\u001b[0m\u001b[0ma\u001b[0m\u001b[1;33m=\u001b[0m\u001b[0marea\u001b[0m\u001b[1;33m,\u001b[0m \u001b[0mspacing\u001b[0m\u001b[1;33m=\u001b[0m\u001b[0mblock\u001b[0m\u001b[1;33m)\u001b[0m\u001b[1;33m)\u001b[0m\u001b[1;33m\u001b[0m\u001b[1;33m\u001b[0m\u001b[0m\n",
      "\u001b[1;32m<ipython-input-47-c2d41b786a3d>\u001b[0m in \u001b[0;36mgrid\u001b[1;34m(a, n, spacing)\u001b[0m\n\u001b[0;32m      7\u001b[0m         \u001b[1;32massert\u001b[0m \u001b[0mn\u001b[0m\u001b[1;33m\u001b[0m\u001b[1;33m\u001b[0m\u001b[0m\n\u001b[0;32m      8\u001b[0m         \u001b[0mspacing\u001b[0m \u001b[1;33m=\u001b[0m \u001b[0ma\u001b[0m \u001b[1;33m//\u001b[0m \u001b[0mint\u001b[0m\u001b[1;33m(\u001b[0m\u001b[0mnp\u001b[0m\u001b[1;33m.\u001b[0m\u001b[0msqrt\u001b[0m\u001b[1;33m(\u001b[0m\u001b[0mn\u001b[0m\u001b[1;33m)\u001b[0m\u001b[1;33m)\u001b[0m\u001b[1;33m\u001b[0m\u001b[1;33m\u001b[0m\u001b[0m\n\u001b[1;32m----> 9\u001b[1;33m         \u001b[0mbase\u001b[0m \u001b[1;33m=\u001b[0m \u001b[0mrange\u001b[0m\u001b[1;33m(\u001b[0m\u001b[0mspacing\u001b[0m\u001b[1;33m//\u001b[0m\u001b[1;36m2\u001b[0m\u001b[1;33m,\u001b[0m \u001b[0ma\u001b[0m\u001b[1;33m,\u001b[0m \u001b[0mspacing\u001b[0m\u001b[1;33m)\u001b[0m\u001b[1;33m\u001b[0m\u001b[1;33m\u001b[0m\u001b[0m\n\u001b[0m\u001b[0;32m     10\u001b[0m     \u001b[1;32mif\u001b[0m \u001b[0mn\u001b[0m \u001b[1;32mis\u001b[0m \u001b[1;32mNone\u001b[0m\u001b[1;33m:\u001b[0m\u001b[1;33m\u001b[0m\u001b[1;33m\u001b[0m\u001b[0m\n\u001b[0;32m     11\u001b[0m         \u001b[1;32massert\u001b[0m \u001b[0mspacing\u001b[0m\u001b[1;33m\u001b[0m\u001b[1;33m\u001b[0m\u001b[0m\n",
      "\u001b[1;31mValueError\u001b[0m: range() arg 3 must not be zero"
     ]
    }
   ],
   "source": [
    "n = 100  # number of clients\n",
    "h = 16  # number of potential hubs\n",
    "r_max = 30  # number of robots per hub\n",
    "\n",
    "area= 2  # 2km*2km square\n",
    "block = 0.1  # 100m * 100m blocks\n",
    "hub_cell = area/np.sqrt(h)\n",
    "\n",
    "M = 50  # maximum allowed driving time per robot (hrs)\n",
    "tf = 45/60  # robots' full recharge time (hrs)\n",
    "b = 2  # robots' battery range (hrs)\n",
    "ts = 4/60  # customer service time (hrs)\n",
    "v = 3  # robot speed (km/h)\n",
    "\n",
    "hubs_x , hubs_y = zip(*grid(a=area, n=h))\n",
    "\n",
    "x, y = zip(*grid(a=area, spacing=block))\n",
    "\n",
    "customers_x = np.random.choice(x, size=n)\n",
    "customers_y = np.random.choice(y, size=n)\n",
    "\n",
    "H = [i for i in range(h)]  # hubs\n",
    "N = [i for i in range(n)]  # customers\n",
    "R = [(i, j) for i in H for j in range(r_max)]  # (hubs, robots) tuples\n",
    "\n",
    "V = H + N  # all locations\n",
    "A = gp.tuplelist([(i, j) for i in V for j in V if i != j])  # all arcs\n",
    "t = {(hub, customer): travel_time(first=(hubs_x[hub], hubs_y[hub]),\n",
    "                                  second=(customers_x[customer], customers_y[customer]),\n",
    "                                  speed=v)\n",
    "     for hub in H for customer in N}  # Manhattan dist\n",
    "\n"
   ]
  },
  {
   "cell_type": "code",
   "execution_count": 35,
   "metadata": {
    "scrolled": true
   },
   "outputs": [
    {
     "data": {
      "image/png": "[encoded data removed]",
      "text/plain": [
       "<Figure size 432x288 with 1 Axes>"
      ]
     },
     "metadata": {
      "needs_background": "light"
     },
     "output_type": "display_data"
    }
   ],
   "source": [
    "plt.scatter(hubs_x, hubs_y, c='r', marker='s')\n",
    "plt.scatter(customers_x, customers_y, c='black', alpha=0.3)\n",
    "plt.xlim(0, area)\n",
    "plt.ylim(0, area)\n",
    "plt.grid()"
   ]
  },
  {
   "cell_type": "code",
   "execution_count": 43,
   "metadata": {},
   "outputs": [
    {
     "ename": "TypeError",
     "evalue": "travel_time() missing 1 required positional argument: 'speed'",
     "output_type": "error",
     "traceback": [
      "\u001b[1;31m---------------------------------------------------------------------------\u001b[0m",
      "\u001b[1;31mTypeError\u001b[0m                                 Traceback (most recent call last)",
      "\u001b[1;32m<ipython-input-43-59bdb27414a5>\u001b[0m in \u001b[0;36m<module>\u001b[1;34m\u001b[0m\n\u001b[1;32m----> 1\u001b[1;33m \u001b[0mtravel_time\u001b[0m\u001b[1;33m(\u001b[0m\u001b[1;33m(\u001b[0m\u001b[1;36m0\u001b[0m\u001b[1;33m,\u001b[0m \u001b[1;36m0\u001b[0m\u001b[1;33m)\u001b[0m\u001b[1;33m,\u001b[0m \u001b[1;33m(\u001b[0m\u001b[1;36m0\u001b[0m\u001b[1;33m,\u001b[0m \u001b[1;36m100\u001b[0m\u001b[1;33m)\u001b[0m\u001b[1;33m)\u001b[0m\u001b[1;33m\u001b[0m\u001b[1;33m\u001b[0m\u001b[0m\n\u001b[0m",
      "\u001b[1;31mTypeError\u001b[0m: travel_time() missing 1 required positional argument: 'speed'"
     ]
    }
   ],
   "source": [
    "travel_time((0, 0), (0, 100), 10)"
   ]
  },
  {
   "cell_type": "markdown",
   "metadata": {},
   "source": [
    "### Minimize the number of hubs"
   ]
  },
  {
   "cell_type": "code",
   "execution_count": null,
   "metadata": {},
   "outputs": [],
   "source": [
    "model = gp.Model('min_hubs')"
   ]
  },
  {
   "cell_type": "code",
   "execution_count": null,
   "metadata": {},
   "outputs": [],
   "source": [
    "# add robot-hub-customer binary decision variables\n",
    "x = model.addVars(R, N, vtype=GRB.BINARY)\n",
    "# costs are not yet included\n",
    "# these are too many variables, thus the paper uses only \"reachable\" customer-depot combinations\n",
    "\n",
    "# add is-hub-open binary decision variables\n",
    "o = model.addVars(H, vtype=GRB.BINARY)\n",
    "\n",
    "model.setObjective(gp.quicksum(o), sense=GRB.MINIMIZE)\n",
    "\n",
    "model.update()"
   ]
  },
  {
   "cell_type": "code",
   "execution_count": null,
   "metadata": {},
   "outputs": [],
   "source": [
    "# All customer locations must be assigned to exactly one hub-robot combination\n",
    "for customer in N:\n",
    "    model.addConstr(x.sum('*', '*', customer) == 1)"
   ]
  },
  {
   "cell_type": "code",
   "execution_count": null,
   "metadata": {},
   "outputs": [],
   "source": [
    "# limit on the maximum robot working time, which is based on the time required for the round \n",
    "# trip to customer locations, recharging time, and service time.\n",
    "coeff = gp.tupledict({(hub, robot, customer): 2*t[hub, customer]*(1+(tf/b))+ts for hub, robot in R for customer in N})\n",
    "for hub, robot in R:\n",
    "    model.addConstr(x.prod(coeff, hub, robot, '*') <= M)"
   ]
  },
  {
   "cell_type": "code",
   "execution_count": null,
   "metadata": {},
   "outputs": [],
   "source": [
    "# if a robot serves a customer location (in some instance omega), the corresponding robot hub is open\n",
    "for hub in H:  # eventually this must iterate over all customers assigned to one hub ('reachable')\n",
    "    for customer in N:\n",
    "        model.addConstr(x.sum(hub, '*', customer) <= o.select(hub)[0])"
   ]
  },
  {
   "cell_type": "code",
   "execution_count": null,
   "metadata": {},
   "outputs": [],
   "source": [
    "model.optimize()"
   ]
  },
  {
   "cell_type": "code",
   "execution_count": null,
   "metadata": {},
   "outputs": [],
   "source": [
    "x_solution = model.getAttr('x', x)\n",
    "{key[2]:key[0] for key, value in x_solution.items() if value > 0.5}  # customer: hub"
   ]
  },
  {
   "cell_type": "code",
   "execution_count": null,
   "metadata": {},
   "outputs": [],
   "source": [
    "o_solution = model.getAttr('x', o)\n",
    "o_solution"
   ]
  },
  {
   "cell_type": "code",
   "execution_count": null,
   "metadata": {},
   "outputs": [],
   "source": [
    "for hub in H:\n",
    "    if o_solution[hub] > 0.5:\n",
    "        color = 'r'\n",
    "    else:\n",
    "        color='0.75'\n",
    "    plt.scatter(xc[hub], yc[hub], c=color, marker='s')\n",
    "for customer in N:\n",
    "    plt.scatter(xc[customer], yc[customer], c='b')"
   ]
  },
  {
   "cell_type": "code",
   "execution_count": null,
   "metadata": {},
   "outputs": [],
   "source": [
    "#for i, j in active:\n",
    "#    plt.plot([xc[i], xc[j]], [yc[i], yc[j]], c='c', zorder=0, alpha=0.2)\n",
    "#for i in range(h):\n",
    "#    plt.scatter(xc[i], yc[i], c='r', marker='s')\n",
    "#for i in range(h, n+h):\n",
    "#    plt.scatter(xc[i], yc[i], c='b')"
   ]
  },
  {
   "cell_type": "code",
   "execution_count": null,
   "metadata": {},
   "outputs": [],
   "source": []
  }
 ],
 "metadata": {
  "kernelspec": {
   "display_name": "Python [conda env:gurobi] *",
   "language": "python",
   "name": "conda-env-gurobi-py"
  },
  "language_info": {
   "codemirror_mode": {
    "name": "ipython",
    "version": 3
   },
   "file_extension": ".py",
   "mimetype": "text/x-python",
   "name": "python",
   "nbconvert_exporter": "python",
   "pygments_lexer": "ipython3",
   "version": "3.7.6"
  }
 },
 "nbformat": 4,
 "nbformat_minor": 4
}
