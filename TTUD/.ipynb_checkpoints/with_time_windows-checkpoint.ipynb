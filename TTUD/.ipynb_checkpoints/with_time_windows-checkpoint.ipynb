{
 "cells": [
  {
   "cell_type": "markdown",
   "metadata": {},
   "source": [
    "# Two-Tier Urban Deliveries with Robots with time windows"
   ]
  },
  {
   "cell_type": "code",
   "execution_count": null,
   "metadata": {},
   "outputs": [],
   "source": [
    "import gurobipy as gp\n",
    "from gurobipy import GRB\n",
    "import matplotlib.pyplot as plt\n",
    "import numpy as np\n",
    "from collections import Counter  # for some testing [optional]\n",
    "import ipywidgets as widgets  # for interactive plots [optional]\n",
    "from ipywidgets import interact, interact_manual  # for interactive plots [optional]\n",
    "from tqdm.notebook import tqdm  # for progress bars [optional]\n",
    "\n",
    "# program must be adjusted in some places if optional packages are not available"
   ]
  },
  {
   "cell_type": "markdown",
   "metadata": {},
   "source": [
    "#### Some custom functions for later use"
   ]
  },
  {
   "cell_type": "code",
   "execution_count": null,
   "metadata": {},
   "outputs": [],
   "source": [
    "def grid (a, n=None, spacing=None):\n",
    "    \"\"\"\n",
    "    distribute n points evenly in a 2-dimensional square of side length a\n",
    "    or create a square grid with suqare cells of length c\n",
    "    \"\"\"\n",
    "    if spacing is None:\n",
    "        assert n\n",
    "        spacing = a // int(np.sqrt(n))\n",
    "        base = range(spacing//2, a, spacing)\n",
    "    if n is None:\n",
    "        assert spacing\n",
    "        base = range(0, a+1, spacing)\n",
    "    return[(x,y) for x in base for y in base]\n",
    "\n",
    "def travel_time(first: tuple, second:tuple, speed):\n",
    "    \"\"\"\n",
    "    compute the travel time between first and second\n",
    "    first, second: given as (x, y) tuples \n",
    "    speed: given in km/h\n",
    "    \"\"\"\n",
    "    dist = abs(first[0] - second[0]) + abs(first[1] - second[1])  # Manhattan distance in m (!) because input is in meters\n",
    "    return (dist/1000)/speed  # travel time in hours\n",
    "\n"
   ]
  },
  {
   "cell_type": "markdown",
   "metadata": {},
   "source": [
    "#### Model inputs\n",
    "If the solver finds the model to be infeasible, first check whether there are enough capacities (robots, hubs) to serve all the customers and adjust these numbers to see whether it fixes the issue."
   ]
  },
  {
   "cell_type": "code",
   "execution_count": null,
   "metadata": {},
   "outputs": [],
   "source": [
    "np.random.seed(0)  # for reproducible results\n",
    "\n",
    "n = 100  # number of clients\n",
    "r_max = 10  # number of robots per hub\n",
    "num_instances = 10  # number of instances\n",
    "\n",
    "# downtown map\n",
    "area= 2000  # 2km * 2km square\n",
    "block = 100  # 100m * 100m blocks\n",
    "h = 16  # number of potential hubs (should be a square number (4, 9, 16, 25, ...) for an even distribution)\n",
    "\n",
    "# suburban map\n",
    "# area = 10000\n",
    "# block = 100\n",
    "# h= 36\n",
    "\n",
    "M = 6  # maximum allowed driving time per robot (hrs)\n",
    "tf = 45/60  # robots' full recharge time (hrs)\n",
    "b = 2  # robots' battery range (hrs)\n",
    "ts = 4/60  # customer service time (hrs)\n",
    "v = 3  # robot speed (km/h)\n",
    "short_tw = [(i, i+1) for i in range(8, 16)]  # 1 hour time windows\n",
    "long_tw = [(i, i+2) for i in range(8, 16, 2)]  # 2 hour time windows\n",
    "long_tw_demand = (0.25, 0.1, 0.1, 0.55)  # time window demand\n",
    "L = 17  # end of time horizon -> NOT GIVEN IN THE PAPER\n",
    "\n",
    "H = [i for i in range(h)]  # hubs\n",
    "R = [i for i in range(r_max)]  # robots\n",
    "N = [i for i in range(n)]  # customers\n",
    "I = [i for i in range(num_instances)]  # instances"
   ]
  },
  {
   "cell_type": "code",
   "execution_count": null,
   "metadata": {},
   "outputs": [],
   "source": [
    "hub_coords = grid(a=area, n=h)\n",
    "\n",
    "grid_x, grid_y = zip(*grid(a=area, spacing=block))\n",
    "customer_coords = gp.tupledict()\n",
    "for instance in I:  # originally, smaller instances are subsets of the bigger ones (n=300), here all instances are unique\n",
    "    for customer in N:\n",
    "        customer_coords[instance, customer] = (np.random.choice(grid_x), np.random.choice(grid_y))\n",
    "\n",
    "# customer time windows\n",
    "tw_keys = [(instance, customer) for instance in I for customer in N]\n",
    "tw_values = [long_tw[i] for i in np.random.choice(range(len(long_tw)), len(tw_keys), p=long_tw_demand)]\n",
    "time_windows = gp.tupledict({k:v for k, v in zip(tw_keys, tw_values)})  \n",
    "\n",
    "t = gp.tupledict()  # pendulum distances\n",
    "for hub in tqdm(H, desc='Pendulum distances'):\n",
    "    for robot in R:\n",
    "        for instance in I:\n",
    "            for customer in N:\n",
    "                t[hub, robot, instance, customer] = 2*travel_time(first=hub_coords[hub],\n",
    "                                                                  second=customer_coords[instance, customer],\n",
    "                                                                  speed=v)\n",
    "\n",
    "reachables = gp.tuplelist([key for (key, value) in t.items() if value <=b])  # within battery range of each hub\n",
    "\n",
    "reachable_customers = gp.tupledict()  # dictionary of customers that are in reach of each (hub, robot, instance) combination\n",
    "for hub in tqdm(H, desc='Reachable customers'):\n",
    "    for robot in R:\n",
    "        for instance in I:\n",
    "            in_reach = []\n",
    "            for customer in N:    \n",
    "                if t.select(hub, robot, instance, customer)[0] <= b:\n",
    "                    in_reach.append(customer)\n",
    "                reachable_customers[(hub, robot, instance)] = in_reach\n",
    "\n",
    "z_vars = []\n",
    "valid_precedences = gp.tupledict()\n",
    "for hub in tqdm(H, desc='Valid precedence combinations'):\n",
    "    for robot in R:\n",
    "        for instance in I:\n",
    "            valid_precedences[hub, robot, instance] =[]\n",
    "            for i in reachable_customers[hub, robot, instance]:\n",
    "                for j in reachable_customers[hub, robot, instance]:\n",
    "                    if time_windows[instance, j] >= time_windows[instance, i] and i != j:\n",
    "                        z_vars.append((hub, robot, instance, i, j))\n",
    "                        valid_precedences[hub, robot, instance].append((i,j))"
   ]
  },
  {
   "cell_type": "markdown",
   "metadata": {},
   "source": [
    "#### Plotting hubs and a single instance"
   ]
  },
  {
   "cell_type": "code",
   "execution_count": null,
   "metadata": {
    "scrolled": false
   },
   "outputs": [],
   "source": [
    "colors = plt.get_cmap('hsv', h)\n",
    "hubs_x, hubs_y = zip(*hub_coords)\n",
    "\n",
    "def base_plot(plot_instance:int, which):\n",
    "    plt.scatter(hubs_x, hubs_y, cmap=colors, c=H, marker='s', s=75, edgecolors='black')\n",
    "    \n",
    "    customers_x, customers_y = zip(*customer_coords.select(plot_instance, '*'))\n",
    "    plt.scatter(customers_x, customers_y, c='black', alpha=0.3)\n",
    "    for customer in N:\n",
    "        if which == 'customer_tw':\n",
    "            plt.annotate(s=time_windows[plot_instance, customer], xy=(customers_x[customer], customers_y[customer]))\n",
    "        else:\n",
    "            plt.annotate(s=customer, xy=(customers_x[customer], customers_y[customer]))\n",
    "        \n",
    "    plt.xlim(0, area)\n",
    "    plt.ylim(0, area)\n",
    "    plt.grid()\n",
    "    plt.gcf().set_size_inches(18,6)\n",
    "interact(base_plot, plot_instance=I, which=['customer_id', 'customer_tw']);"
   ]
  },
  {
   "cell_type": "markdown",
   "metadata": {},
   "source": [
    "### Tier 1: Minimize the number of hubs"
   ]
  },
  {
   "cell_type": "markdown",
   "metadata": {},
   "source": [
    "#### Model, decision variables and objective function"
   ]
  },
  {
   "cell_type": "code",
   "execution_count": null,
   "metadata": {},
   "outputs": [],
   "source": [
    "model1 = gp.Model('min_hubs')\n",
    "\n",
    "# (5) add hub-robot-instance-customer binary decision variables\n",
    "x1 = model1.addVars(reachables, vtype=GRB.BINARY, name='x')\n",
    "# format of x1 vars: (hub, robot, instance, customer)\n",
    "\n",
    "# (6) add is-hub-open binary decision variables\n",
    "o1 = model1.addVars(H, vtype=GRB.BINARY, name='o')\n",
    "\n",
    "# (14) add depot leaving time decision variables\n",
    "y1 = model1.addVars(reachables, vtype=GRB.CONTINUOUS, name='y')\n",
    "# format of y1 vars: (hub, robot, instance, customer)\n",
    "\n",
    "# (14) add precedence decision variables\n",
    "z1 = model1.addVars(z_vars, vtype=GRB.BINARY, name='z')\n",
    "# format of z1 vars: (hub, robot, instance, customer i, customer j)"
   ]
  },
  {
   "cell_type": "code",
   "execution_count": null,
   "metadata": {},
   "outputs": [],
   "source": [
    "# (1) set objective\n",
    "model1.setObjective(gp.quicksum(o1), sense=GRB.MINIMIZE)\n",
    "model1.update()"
   ]
  },
  {
   "cell_type": "markdown",
   "metadata": {},
   "source": [
    "#### Adding constraints"
   ]
  },
  {
   "cell_type": "code",
   "execution_count": null,
   "metadata": {},
   "outputs": [],
   "source": [
    "# (2) All instance-customer locations must be assigned to exactly one hub-robot combination\n",
    "for instance in tqdm(I, desc='Service constraints'):\n",
    "    for customer in N:\n",
    "        model1.addConstr(x1.sum('*', '*', instance, customer) == 1)"
   ]
  },
  {
   "cell_type": "code",
   "execution_count": null,
   "metadata": {},
   "outputs": [],
   "source": [
    "# (3) limit on the maximum robot working time\n",
    "coeff1 = gp.tupledict({\n",
    "    (hub, robot, instance, customer): t[hub, robot, instance, customer] * (1 + (tf / b)) + ts\n",
    "    for hub in H\n",
    "    for robot in R\n",
    "    for instance in I\n",
    "    for customer in N\n",
    "})\n",
    "\n",
    "for hub in tqdm(H, desc='Maximum working time constraints'):\n",
    "    for robot in R:\n",
    "        for instance in I:\n",
    "            model1.addConstr(x1.prod(coeff1, hub, robot, instance, '*') <= M)"
   ]
  },
  {
   "cell_type": "code",
   "execution_count": null,
   "metadata": {},
   "outputs": [],
   "source": [
    "# (4) if a robot serves a customer location (in some instance), the corresponding robot hub is open\n",
    "for hub in tqdm(H, desc='Active hubs constraints'):\n",
    "    for robot in R:\n",
    "        for instance in I:\n",
    "            for customer in reachable_customers[hub, robot, instance]:\n",
    "                model1.addConstr(x1.sum(hub, instance, customer, '*') <= o1[hub])"
   ]
  },
  {
   "cell_type": "code",
   "execution_count": null,
   "metadata": {},
   "outputs": [],
   "source": [
    "# (9), (10) time windows\n",
    "for hub in tqdm(H, desc='Time window constraints'):\n",
    "    for robot in R:\n",
    "        for instance in I:\n",
    "            for customer in reachable_customers[hub, robot, instance]:\n",
    "                e = time_windows[instance, customer][0]  # time window open\n",
    "                l = time_windows[instance, customer][1]  # time window close               \n",
    "                coeff = t[hub, robot, instance, customer]/2  # one-way travel time\n",
    "                x = x1[hub, robot, instance, customer]\n",
    "                y = y1[hub, robot, instance, customer]\n",
    "                \n",
    "                model1.addConstr(e * x <= y + coeff * x)\n",
    "                model1.addConstr(y + coeff * x <= l * x)"
   ]
  },
  {
   "cell_type": "code",
   "execution_count": null,
   "metadata": {},
   "outputs": [],
   "source": [
    "# (11) the next customer cannot be served before service at the previous one has finished and the battery is fully recharged\n",
    "for hub in tqdm(H, desc='Time integrity constraints'):\n",
    "    for robot in R:\n",
    "        for instance in I:\n",
    "            for i, j in valid_precedences[hub, robot, instance]:\n",
    "                if time_windows[instance, j] >= time_windows[instance, i] and i != j:\n",
    "                    y_i = y1[hub, robot, instance, i]\n",
    "                    y_j = y1[hub, robot, instance, j]\n",
    "                    z_ij = z1[hub, robot, instance, i, j]\n",
    "\n",
    "                    model1.addConstr(y_j + (L  + tf / b) * (1 - z_ij) >= y_i + t[hub, robot, instance, i] * (1 + (tf / b)) + ts)"
   ]
  },
  {
   "cell_type": "code",
   "execution_count": null,
   "metadata": {},
   "outputs": [],
   "source": [
    "# (12) connecting x and z variables I\n",
    "for hub in tqdm(H, desc=''):\n",
    "    for robot in R:\n",
    "        for instance in I:\n",
    "            for i, j in valid_precedences[hub, robot, instance]:\n",
    "                if time_windows[instance, j] == time_windows[instance, i] and i != j:  # where time windows are same\n",
    "                    x_i = x1[hub, robot, instance, i]\n",
    "                    x_j = x1[hub, robot, instance, j]\n",
    "                    z_ij = z1[hub, robot, instance, i, j]\n",
    "                    z_ji = z1[hub, robot, instance, j, i]\n",
    "\n",
    "                    model1.addConstr(x_i + x_j - z_ij - z_ji <= 1)"
   ]
  },
  {
   "cell_type": "code",
   "execution_count": null,
   "metadata": {},
   "outputs": [],
   "source": [
    "# (13) connecting x and z variables II\n",
    "for hub in tqdm(H):\n",
    "    for robot in R:\n",
    "        for instance in I:\n",
    "            for i, j in valid_precedences[hub, robot, instance]:\n",
    "                # if time_windows[instance, j] >= time_windows[instance, i] and i != j:  # where tw of j is equal or later i\n",
    "                # illogical: if tw[j] > tw[i] then there is no variable z_ji\n",
    "                if time_windows[instance, j] == time_windows[instance, i] and i != j:  # where tw are equal\n",
    "                    x_i = x1[hub, robot, instance, i]\n",
    "                    x_j = x1[hub, robot, instance, j]\n",
    "                    z_ji = z1[hub, robot, instance, j, i]\n",
    "\n",
    "                    model1.addConstr(x_i + x_j - z_ji <= 1)"
   ]
  },
  {
   "cell_type": "markdown",
   "metadata": {},
   "source": [
    "#### Solve Model 1"
   ]
  },
  {
   "cell_type": "code",
   "execution_count": null,
   "metadata": {},
   "outputs": [],
   "source": [
    "# model1.setParam('TimeLimit', 240)  # for testing only\n",
    "model1.optimize()"
   ]
  },
  {
   "cell_type": "markdown",
   "metadata": {},
   "source": [
    "#### Inspect and plot one of the instances with the solution"
   ]
  },
  {
   "cell_type": "code",
   "execution_count": null,
   "metadata": {},
   "outputs": [],
   "source": [
    "x1_solution = model1.getAttr('x', x1)\n",
    "assignment1 = gp.tupledict({\n",
    "    (key[2], key[3]):(key[0], key[1]) \n",
    "    for key, value in x1_solution.items() \n",
    "    if value > 0.5})  # (instance, customer): (hub, robot)\n",
    "assignment1;"
   ]
  },
  {
   "cell_type": "code",
   "execution_count": null,
   "metadata": {},
   "outputs": [],
   "source": [
    "o1_solution = model1.getAttr('x', o1)\n",
    "p = len([key for key, value in o1_solution.items() if value > 0.5])  # min number of open hubs\n",
    "p"
   ]
  },
  {
   "cell_type": "code",
   "execution_count": null,
   "metadata": {},
   "outputs": [],
   "source": [
    "def model1_plot(plot_instance):\n",
    "    hub_colors = []\n",
    "    for hub in H:\n",
    "        if o1_solution[hub] > 0.5:\n",
    "            hub_colors.append(colors(hub/h))\n",
    "        else:\n",
    "            hub_colors.append('white')\n",
    "\n",
    "    plt.scatter(hubs_x, hubs_y, c=hub_colors, marker='s', s=75, edgecolors='black')\n",
    "    \n",
    "    if plot_instance is not None:\n",
    "        customer_colors = []\n",
    "        for customer in N:\n",
    "            customer_colors.append(colors(assignment1[plot_instance, customer][0]/h))  \n",
    "\n",
    "        customers_x, customers_y = zip(*customer_coords.select(plot_instance, '*'))  \n",
    "        plt.scatter(customers_x, customers_y, c=customer_colors, alpha=1, edgecolors='black')\n",
    "\n",
    "        if n <= 100:\n",
    "            for customer in N:\n",
    "                plt.annotate(s=customer, xy=(customers_x[customer], customers_y[customer]))\n",
    "\n",
    "    plt.xlim(0, area)\n",
    "    plt.ylim(0, area);\n",
    "    plt.grid()\n",
    "    # plt.gcf().set_size_inches(20,10)\n",
    "interact(model1_plot, plot_instance=[None]+I);"
   ]
  },
  {
   "cell_type": "markdown",
   "metadata": {},
   "source": [
    "### Tier 2: Minimize operational robot cost"
   ]
  },
  {
   "cell_type": "markdown",
   "metadata": {},
   "source": [
    "#### Model, decision variables, objective function"
   ]
  },
  {
   "cell_type": "code",
   "execution_count": null,
   "metadata": {},
   "outputs": [],
   "source": [
    "model2 = gp.Model('min_cost')\n",
    "\n",
    "# (5) add hub-robot-instance-customer binary decision variables\n",
    "x2 = model2.addVars(reachables, vtype=GRB.BINARY, name='x')\n",
    "# format of x2 vars: (hub, robot, instance, customer)\n",
    "\n",
    "# (6) add is-hub-open binary decision variables\n",
    "o2 = model2.addVars(H, vtype=GRB.BINARY, name='o')\n",
    "\n",
    "# (14) add depot leaving time decision variables\n",
    "y2 = model2.addVars(reachables, vtype=GRB.CONTINUOUS, name='y')\n",
    "# format of y2 vars: (hub, robot, instance, customer)\n",
    "\n",
    "# (14) add precedence decision variables\n",
    "z2 = model2.addVars(z_vars, vtype=GRB.BINARY, name='z')\n",
    "# format of z2 vars: (hub, robot, instance, customer i, customer j)\n",
    "\n",
    "# set the objective function\n",
    "coeff2 = gp.tupledict({\n",
    "    (hub, robot, instance, customer): t[hub, robot, instance, customer]\n",
    "    for hub in H\n",
    "    for robot in R\n",
    "    for instance in I\n",
    "    for customer in N\n",
    "})\n",
    "\n",
    "model2.setObjective(x2.prod(coeff2), sense=GRB.MINIMIZE)\n",
    "model2.update()\n",
    "# model2.getObjective()"
   ]
  },
  {
   "cell_type": "markdown",
   "metadata": {},
   "source": [
    "#### Add constraints"
   ]
  },
  {
   "cell_type": "code",
   "execution_count": null,
   "metadata": {},
   "outputs": [],
   "source": [
    "# define the constraints\n",
    "# (2) All instance-customer locations must be assigned to exactly one hub-robot combination\n",
    "for instance in tqdm(I, desc='Service constraints'):\n",
    "    for customer in N:\n",
    "        model2.addConstr(x2.sum('*', '*', instance, customer) == 1)"
   ]
  },
  {
   "cell_type": "code",
   "execution_count": null,
   "metadata": {},
   "outputs": [],
   "source": [
    "# (3) limit on the maximum robot working time\n",
    "# following the paper, this constraint is NOT applied for tier 2 with tw ?!\n",
    "\"\"\"\n",
    "coeff1 = gp.tupledict({\n",
    "    (hub, robot, instance, customer): t[hub, robot, instance, customer] * (1 + (tf / b)) + ts\n",
    "    for hub in H\n",
    "    for robot in R\n",
    "    for instance in I\n",
    "    for customer in N\n",
    "})\n",
    "\n",
    "for hub in tqdm(H, desc='Maximum working time constraints'):\n",
    "    for robot in R:\n",
    "        for instance in I:\n",
    "            model2.addConstr(x2.prod(coeff1, hub, robot, instance, '*') <= M)\n",
    "\"\"\";\n",
    "     "
   ]
  },
  {
   "cell_type": "code",
   "execution_count": null,
   "metadata": {},
   "outputs": [],
   "source": [
    "# (4) if a robot serves a customer location (in some instance), the corresponding robot hub is open\n",
    "for hub in tqdm(H, desc='Active hubs constraints'):\n",
    "    for robot in R:\n",
    "        for instance in I:\n",
    "            for customer in reachable_customers[hub, robot, instance]:\n",
    "                model2.addConstr(x2.sum(hub, instance, customer, '*') <= o2[hub])"
   ]
  },
  {
   "cell_type": "code",
   "execution_count": null,
   "metadata": {},
   "outputs": [],
   "source": [
    "# (8) ensure that there are exactly as many open robot hubs as provided by first model\n",
    "model2.addConstr(o2.sum() == p);"
   ]
  },
  {
   "cell_type": "code",
   "execution_count": null,
   "metadata": {},
   "outputs": [],
   "source": [
    "# (9), (10) time windows\n",
    "for hub in tqdm(H, desc='Time window constraints'):\n",
    "    for robot in R:\n",
    "        for instance in I:\n",
    "            for customer in reachable_customers[hub, robot, instance]:\n",
    "                e = time_windows[instance, customer][0]  # time window open\n",
    "                l = time_windows[instance, customer][1]  # time window close               \n",
    "                coeff = t[hub, robot, instance, customer]/2  # one-way travel time\n",
    "                x = x2[hub, robot, instance, customer]\n",
    "                y = y2[hub, robot, instance, customer]\n",
    "                \n",
    "                model2.addConstr(e * x <= y + coeff * x)   # time window open\n",
    "                model2.addConstr(y + coeff * x <= l * x)   # time window close "
   ]
  },
  {
   "cell_type": "code",
   "execution_count": null,
   "metadata": {},
   "outputs": [],
   "source": [
    "# (11) the next customer cannot be served before service at the previous one has finished and the battery is fully recharged\n",
    "for hub in tqdm(H, desc='Time integrity constraints'):\n",
    "    for robot in R:\n",
    "        for instance in I:\n",
    "            for i, j in valid_precedences[hub, robot, instance]:\n",
    "                if time_windows[instance, j] >= time_windows[instance, i] and i != j:\n",
    "                    y_i = y2[hub, robot, instance, i]\n",
    "                    y_j = y2[hub, robot, instance, j]\n",
    "                    z_ij = z2[hub, robot, instance, i, j]\n",
    "\n",
    "                    model2.addConstr(y_j + (L  + tf / b) * (1 - z_ij) >= y_i + t[hub, robot, instance, i] * (1 + (tf / b)) + ts)"
   ]
  },
  {
   "cell_type": "code",
   "execution_count": null,
   "metadata": {},
   "outputs": [],
   "source": [
    "# (12) connecting x and z variables I\n",
    "for hub in tqdm(H, desc=''):\n",
    "    for robot in R:\n",
    "        for instance in I:\n",
    "            for i, j in valid_precedences[hub, robot, instance]:\n",
    "                if time_windows[instance, j] == time_windows[instance, i] and i != j:  # where time windows are same\n",
    "                    x_i = x2[hub, robot, instance, i]\n",
    "                    x_j = x2[hub, robot, instance, j]\n",
    "                    z_ij = z2[hub, robot, instance, i, j]\n",
    "                    z_ji = z2[hub, robot, instance, j, i]\n",
    "\n",
    "                    model2.addConstr(x_i + x_j - z_ij - z_ji <= 1)"
   ]
  },
  {
   "cell_type": "code",
   "execution_count": null,
   "metadata": {},
   "outputs": [],
   "source": [
    "# (13) connecting x and z variables II\n",
    "for hub in tqdm(H):\n",
    "    for robot in R:\n",
    "        for instance in I:\n",
    "            for i, j in valid_precedences[hub, robot, instance]:\n",
    "                # if time_windows[instance, j] >= time_windows[instance, i] and i != j:  # where tw of j is equal or later i\n",
    "                # illogical: if tw[j] > tw[i] then there is no variable z_ji\n",
    "                if time_windows[instance, j] == time_windows[instance, i] and i != j:  # where tw are equal\n",
    "                    x_i = x2[hub, robot, instance, i]\n",
    "                    x_j = x2[hub, robot, instance, j]\n",
    "                    z_ji = z2[hub, robot, instance, j, i]\n",
    "\n",
    "                    model2.addConstr(x_i + x_j - z_ji <= 1)"
   ]
  },
  {
   "cell_type": "markdown",
   "metadata": {},
   "source": [
    "#### Solve Model 2"
   ]
  },
  {
   "cell_type": "code",
   "execution_count": null,
   "metadata": {},
   "outputs": [],
   "source": [
    "model2.setParam('TimeLimit', 240)  # for testing only\n",
    "model2.optimize()"
   ]
  },
  {
   "cell_type": "markdown",
   "metadata": {},
   "source": [
    "#### Inspect and plot solution of Model 2"
   ]
  },
  {
   "cell_type": "code",
   "execution_count": null,
   "metadata": {},
   "outputs": [],
   "source": [
    "objValue2 = model2.getObjective().getValue()\n",
    "objValue2"
   ]
  },
  {
   "cell_type": "code",
   "execution_count": null,
   "metadata": {},
   "outputs": [],
   "source": [
    "x2_solution = model2.getAttr('x', x2)\n",
    "# customer: (hub, robot) lookup dict\n",
    "assignment2 = gp.tupledict({\n",
    "    (key[2], key[3]):(key[0], key[1]) \n",
    "    for key, value in x2_solution.items() \n",
    "    if value > 0.5})  # (instance, customer): (hub, robot)\n",
    "assignment2;\n",
    "# test whether the constraints are satisfied: every customer is assigned to one robot and one hub\n",
    "Counter([x2_solution.sum('*', '*', instance, customer).getValue() == 1 for customer in N for instance in I])"
   ]
  },
  {
   "cell_type": "code",
   "execution_count": null,
   "metadata": {},
   "outputs": [],
   "source": [
    "# test the constraints: maximum working time of robots\n",
    "Counter([x2.prod(coeff1, hub, robot, instance, '*').getValue() <= M for hub in H for instance in I for robot in R])"
   ]
  },
  {
   "cell_type": "code",
   "execution_count": null,
   "metadata": {},
   "outputs": [],
   "source": [
    "o2_solution = model2.getAttr('x', o2)\n",
    "o2_solution\n",
    "# test whether constraints are satisfied: only p hubs are open\n",
    "o2_solution.sum().getValue() == p"
   ]
  },
  {
   "cell_type": "code",
   "execution_count": null,
   "metadata": {
    "scrolled": true
   },
   "outputs": [],
   "source": [
    "workload = dict()\n",
    "for hub in H:\n",
    "    for robot in R:\n",
    "        for instance in I:\n",
    "            wl = x2_solution.sum(hub, robot, instance, '*').getValue()\n",
    "            if wl > 0:\n",
    "                customers = [key[1] for key, value in assignment2.items() if value == (hub, robot) and key[0] == instance]\n",
    "                workload[hub, robot, instance] = [customers, \n",
    "                                                  wl,\n",
    "                                                  x2_solution.prod(coeff2, hub, robot, instance, '*').getValue(),  # pure travel time over all instances\n",
    "                                                  x2_solution.prod(coeff1, hub, robot, instance, '*').getValue()  # total time incl. recharge etc.\n",
    "                                       ]\n",
    "active_robots, wl_customers, wl_num_customers, wl_travel_time, wl_total_time = gp.multidict(workload)\n",
    "active_robots, wl_customers, wl_num_customers, wl_travel_time, wl_total_time;\n",
    "wl_customers"
   ]
  },
  {
   "cell_type": "code",
   "execution_count": null,
   "metadata": {},
   "outputs": [],
   "source": [
    "def model2_plot(plot_instance):\n",
    "    # plot hubs\n",
    "    hub_colors = []\n",
    "    for hub in H:\n",
    "        if o2_solution[hub] > 0.5:\n",
    "            hub_colors.append(colors(hub/h))\n",
    "        else:\n",
    "            hub_colors.append('white')\n",
    "    plt.scatter(hubs_x, hubs_y, c=hub_colors, marker='s', s=75, edgecolors='black')\n",
    "    \n",
    "    # plot customers\n",
    "    customer_colors = []\n",
    "    for customer in N:\n",
    "        customer_colors.append(colors(assignment2[plot_instance, customer][0]/h))\n",
    "    customers_x, customers_y = zip(*customer_coords.select(plot_instance, '*'))\n",
    "    plt.scatter(customers_x, customers_y, c=customer_colors, alpha=0.5, edgecolors='black')\n",
    "\n",
    "    for customer in N:\n",
    "        plt.annotate(s=customer, xy=(customers_x[customer], customers_y[customer]))\n",
    "\n",
    "    # plot robot tours, different line style per robot\n",
    "    for hub, robot, instance in active_robots.select('*', '*', plot_instance):\n",
    "        C = wl_customers[hub, robot, instance]\n",
    "        for customer in C:\n",
    "            plt.plot([hubs_x[hub], customers_x[customer]],\n",
    "                     [hubs_y[hub], customers_y[customer]],\n",
    "                     c=hub_colors[hub],\n",
    "                     zorder=0\n",
    "                    )\n",
    "\n",
    "    plt.xlim(0, area)\n",
    "    plt.ylim(0, area)\n",
    "    plt.gcf().set_size_inches(20,10)\n",
    "    plt.grid()\n",
    "    # obviously, this plot does not show the actual tours which are based on manhatten distances\n",
    "interact(model2_plot, plot_instance=I);"
   ]
  }
 ],
 "metadata": {
  "kernelspec": {
   "display_name": "Python [conda env:gurobi] *",
   "language": "python",
   "name": "conda-env-gurobi-py"
  },
  "language_info": {
   "codemirror_mode": {
    "name": "ipython",
    "version": 3
   },
   "file_extension": ".py",
   "mimetype": "text/x-python",
   "name": "python",
   "nbconvert_exporter": "python",
   "pygments_lexer": "ipython3",
   "version": "3.7.6"
  }
 },
 "nbformat": 4,
 "nbformat_minor": 4
}
