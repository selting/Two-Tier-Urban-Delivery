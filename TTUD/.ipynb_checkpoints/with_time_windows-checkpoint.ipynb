{
 "cells": [
  {
   "cell_type": "markdown",
   "metadata": {},
   "source": [
    "# Two-Tier Urban Deliveries with Robots with time windows"
   ]
  },
  {
   "cell_type": "code",
   "execution_count": 1,
   "metadata": {},
   "outputs": [],
   "source": [
    "import gurobipy as gp\n",
    "from gurobipy import GRB\n",
    "import matplotlib.pyplot as plt\n",
    "import numpy as np\n",
    "from collections import Counter  # for some testing [optional]\n",
    "import ipywidgets as widgets  # for interactive plots [optional]\n",
    "from ipywidgets import interact, interact_manual  # for interactive plots [optional]\n",
    "from tqdm.notebook import tqdm  # for progress bars [optional]\n",
    "\n",
    "# program must be adjusted in some places if optional packages are not available"
   ]
  },
  {
   "cell_type": "markdown",
   "metadata": {},
   "source": [
    "#### Some custom functions for later use"
   ]
  },
  {
   "cell_type": "code",
   "execution_count": 2,
   "metadata": {},
   "outputs": [],
   "source": [
    "def grid (a, n=None, spacing=None):\n",
    "    \"\"\"\n",
    "    distribute n points evenly in a 2-dimensional square of side length a\n",
    "    or create a square grid with suqare cells of length c\n",
    "    \"\"\"\n",
    "    if spacing is None:\n",
    "        assert n\n",
    "        spacing = a // int(np.sqrt(n))\n",
    "        base = range(spacing//2, a, spacing)\n",
    "    if n is None:\n",
    "        assert spacing\n",
    "        base = range(0, a+1, spacing)\n",
    "    return[(x,y) for x in base for y in base]\n",
    "\n",
    "def travel_time(first: tuple, second:tuple, speed):\n",
    "    \"\"\"\n",
    "    compute the travel time between first and second\n",
    "    first, second: given as (x, y) tuples \n",
    "    speed: given in km/h\n",
    "    \"\"\"\n",
    "    dist = abs(first[0] - second[0]) + abs(first[1] - second[1])  # Manhattan distance in m (!) because input is in meters\n",
    "    return (dist/1000)/speed  # travel time in hours\n",
    "\n"
   ]
  },
  {
   "cell_type": "markdown",
   "metadata": {},
   "source": [
    "#### Model inputs\n",
    "If the solver finds the model to be infeasible, first check whether there are enough capacities (robots, hubs) to serve all the customers and adjust these numbers to see whether it fixes the issue."
   ]
  },
  {
   "cell_type": "code",
   "execution_count": 3,
   "metadata": {},
   "outputs": [],
   "source": [
    "np.random.seed(0)  # for reproducible results\n",
    "\n",
    "n = 100  # number of clients\n",
    "r_max = 10  # number of robots per hub\n",
    "num_instances = 10  # number of instances\n",
    "\n",
    "# downtown map\n",
    "area= 2000  # 2km * 2km square\n",
    "block = 100  # 100m * 100m blocks\n",
    "h = 16  # number of potential hubs (should be a square number (4, 9, 16, 25, ...) for an even distribution)\n",
    "\n",
    "# suburban map\n",
    "# area = 10000\n",
    "# block = 100\n",
    "# h= 36\n",
    "\n",
    "M = 6  # maximum allowed driving time per robot (hrs)\n",
    "tf = 45/60  # robots' full recharge time (hrs)\n",
    "b = 2  # robots' battery range (hrs)\n",
    "ts = 4/60  # customer service time (hrs)\n",
    "v = 3  # robot speed (km/h)\n",
    "short_tw = [(i, i+1) for i in range(8, 16)]  # 1 hour time windows\n",
    "long_tw = [(i, i+2) for i in range(8, 16, 2)]  # 2 hour time windows\n",
    "long_tw_demand = (0.25, 0.1, 0.1, 0.55)  # time window demand\n",
    "L = 17  # end of time horizon -> NOT GIVEN IN THE PAPER\n",
    "\n",
    "H = [i for i in range(h)]  # hubs\n",
    "R = [i for i in range(r_max)]  # robots\n",
    "N = [i for i in range(n)]  # customers\n",
    "I = [i for i in range(num_instances)]  # instances"
   ]
  },
  {
   "cell_type": "code",
   "execution_count": 4,
   "metadata": {},
   "outputs": [
    {
     "data": {
      "application/vnd.jupyter.widget-view+json": {
       "model_id": "1b07480a5be143f8b51727761db8ea82",
       "version_major": 2,
       "version_minor": 0
      },
      "text/plain": [
       "HBox(children=(FloatProgress(value=0.0, description='Pendulum distances', max=16.0, style=ProgressStyle(descri…"
      ]
     },
     "metadata": {},
     "output_type": "display_data"
    },
    {
     "name": "stdout",
     "output_type": "stream",
     "text": [
      "\n"
     ]
    },
    {
     "data": {
      "application/vnd.jupyter.widget-view+json": {
       "model_id": "7a4fafff0ca54015987c760c00ae7d7b",
       "version_major": 2,
       "version_minor": 0
      },
      "text/plain": [
       "HBox(children=(FloatProgress(value=0.0, description='Reachable customers', max=16.0, style=ProgressStyle(descr…"
      ]
     },
     "metadata": {},
     "output_type": "display_data"
    },
    {
     "name": "stdout",
     "output_type": "stream",
     "text": [
      "\n"
     ]
    },
    {
     "data": {
      "application/vnd.jupyter.widget-view+json": {
       "model_id": "d6c03a7e8e2c4ec1a4c08fb86f3ba221",
       "version_major": 2,
       "version_minor": 0
      },
      "text/plain": [
       "HBox(children=(FloatProgress(value=0.0, description='Valid precedence combinations', max=16.0, style=ProgressS…"
      ]
     },
     "metadata": {},
     "output_type": "display_data"
    },
    {
     "name": "stdout",
     "output_type": "stream",
     "text": [
      "\n"
     ]
    }
   ],
   "source": [
    "hub_coords = grid(a=area, n=h)\n",
    "\n",
    "grid_x, grid_y = zip(*grid(a=area, spacing=block))\n",
    "customer_coords = gp.tupledict()\n",
    "for instance in I:  # originally, smaller instances are subsets of the bigger ones (n=300), here all instances are unique\n",
    "    for customer in N:\n",
    "        customer_coords[instance, customer] = (np.random.choice(grid_x), np.random.choice(grid_y))\n",
    "\n",
    "# customer time windows\n",
    "tw_keys = [(instance, customer) for instance in I for customer in N]\n",
    "tw_values = [long_tw[i] for i in np.random.choice(range(len(long_tw)), len(tw_keys), p=long_tw_demand)]\n",
    "time_windows = gp.tupledict({k:v for k, v in zip(tw_keys, tw_values)})  \n",
    "\n",
    "t = gp.tupledict()  # pendulum distances\n",
    "for hub in tqdm(H, desc='Pendulum distances'):\n",
    "    for robot in R:\n",
    "        for instance in I:\n",
    "            for customer in N:\n",
    "                t[hub, robot, instance, customer] = 2*travel_time(first=hub_coords[hub],\n",
    "                                                                  second=customer_coords[instance, customer],\n",
    "                                                                  speed=v)\n",
    "\n",
    "reachables = gp.tuplelist([key for (key, value) in t.items() if value <=b])  # within battery range of each hub\n",
    "\n",
    "reachable_customers = gp.tupledict()  # dictionary of customers that are in reach of each (hub, robot, instance) combination\n",
    "for hub in tqdm(H, desc='Reachable customers'):\n",
    "    for robot in R:\n",
    "        for instance in I:\n",
    "            in_reach = []\n",
    "            for customer in N:    \n",
    "                if t.select(hub, robot, instance, customer)[0] <= b:\n",
    "                    in_reach.append(customer)\n",
    "                reachable_customers[(hub, robot, instance)] = in_reach\n",
    "\n",
    "z_vars = []\n",
    "valid_precedences = gp.tupledict()\n",
    "for hub in tqdm(H, desc='Valid precedence combinations'):\n",
    "    for robot in R:\n",
    "        for instance in I:\n",
    "            valid_precedences[hub, robot, instance] =[]\n",
    "            for i in reachable_customers[hub, robot, instance]:\n",
    "                for j in reachable_customers[hub, robot, instance]:\n",
    "                    if time_windows[instance, j] >= time_windows[instance, i] and i != j:\n",
    "                        z_vars.append((hub, robot, instance, i, j))\n",
    "                        valid_precedences[hub, robot, instance].append((i,j))"
   ]
  },
  {
   "cell_type": "markdown",
   "metadata": {},
   "source": [
    "#### Plotting hubs and a single instance"
   ]
  },
  {
   "cell_type": "code",
   "execution_count": 5,
   "metadata": {
    "scrolled": false
   },
   "outputs": [
    {
     "data": {
      "application/vnd.jupyter.widget-view+json": {
       "model_id": "358eb44d948d4620bee336f3b373fd0b",
       "version_major": 2,
       "version_minor": 0
      },
      "text/plain": [
       "interactive(children=(Dropdown(description='plot_instance', options=(0, 1, 2, 3, 4, 5, 6, 7, 8, 9), value=0), …"
      ]
     },
     "metadata": {},
     "output_type": "display_data"
    }
   ],
   "source": [
    "colors = plt.get_cmap('hsv', h)\n",
    "hubs_x, hubs_y = zip(*hub_coords)\n",
    "\n",
    "def base_plot(plot_instance:int, which):\n",
    "    plt.scatter(hubs_x, hubs_y, cmap=colors, c=H, marker='s', s=75, edgecolors='black')\n",
    "    \n",
    "    customers_x, customers_y = zip(*customer_coords.select(plot_instance, '*'))\n",
    "    plt.scatter(customers_x, customers_y, c='black', alpha=0.3)\n",
    "    for customer in N:\n",
    "        if which == 'customer_tw':\n",
    "            plt.annotate(s=time_windows[plot_instance, customer], xy=(customers_x[customer], customers_y[customer]))\n",
    "        else:\n",
    "            plt.annotate(s=customer, xy=(customers_x[customer], customers_y[customer]))\n",
    "        \n",
    "    plt.xlim(0, area)\n",
    "    plt.ylim(0, area)\n",
    "    plt.grid()\n",
    "    plt.gcf().set_size_inches(18,6)\n",
    "interact(base_plot, plot_instance=I, which=['customer_id', 'customer_tw']);"
   ]
  },
  {
   "cell_type": "markdown",
   "metadata": {},
   "source": [
    "### Tier 1: Minimize the number of hubs"
   ]
  },
  {
   "cell_type": "markdown",
   "metadata": {},
   "source": [
    "#### Model, decision variables and objective function"
   ]
  },
  {
   "cell_type": "code",
   "execution_count": 6,
   "metadata": {},
   "outputs": [
    {
     "name": "stdout",
     "output_type": "stream",
     "text": [
      "Using license file C:\\Users\\steff\\gurobi.lic\n",
      "Academic license - for non-commercial use only\n"
     ]
    }
   ],
   "source": [
    "model1 = gp.Model('min_hubs')\n",
    "\n",
    "# (5) add hub-robot-instance-customer binary decision variables\n",
    "x1 = model1.addVars(reachables, vtype=GRB.BINARY, name='x')\n",
    "# format of x1 vars: (hub, robot, instance, customer)\n",
    "\n",
    "# (6) add is-hub-open binary decision variables\n",
    "o1 = model1.addVars(H, vtype=GRB.BINARY, name='o')\n",
    "\n",
    "# (14) add depot leaving time decision variables\n",
    "y1 = model1.addVars(reachables, vtype=GRB.CONTINUOUS, name='y')\n",
    "# format of y1 vars: (hub, robot, instance, customer)\n",
    "\n",
    "# (14) add precedence decision variables\n",
    "z1 = model1.addVars(z_vars, vtype=GRB.BINARY, name='z')\n",
    "# format of z1 vars: (hub, robot, instance, customer i, customer j)"
   ]
  },
  {
   "cell_type": "code",
   "execution_count": 7,
   "metadata": {},
   "outputs": [],
   "source": [
    "# (1) set objective\n",
    "model1.setObjective(gp.quicksum(o1), sense=GRB.MINIMIZE)\n",
    "model1.update()"
   ]
  },
  {
   "cell_type": "markdown",
   "metadata": {},
   "source": [
    "#### Adding constraints"
   ]
  },
  {
   "cell_type": "code",
   "execution_count": 8,
   "metadata": {},
   "outputs": [
    {
     "data": {
      "application/vnd.jupyter.widget-view+json": {
       "model_id": "df3bd6733d2845f29ce3adb287339a0a",
       "version_major": 2,
       "version_minor": 0
      },
      "text/plain": [
       "HBox(children=(FloatProgress(value=0.0, description='Service constraints', max=10.0, style=ProgressStyle(descr…"
      ]
     },
     "metadata": {},
     "output_type": "display_data"
    },
    {
     "name": "stdout",
     "output_type": "stream",
     "text": [
      "\n"
     ]
    }
   ],
   "source": [
    "# (2) All instance-customer locations must be assigned to exactly one hub-robot combination\n",
    "for instance in tqdm(I, desc='Service constraints'):\n",
    "    for customer in N:\n",
    "        model1.addConstr(x1.sum('*', '*', instance, customer) == 1)"
   ]
  },
  {
   "cell_type": "code",
   "execution_count": 9,
   "metadata": {},
   "outputs": [
    {
     "data": {
      "application/vnd.jupyter.widget-view+json": {
       "model_id": "f2544273a34043e1825524e5cd81a5c3",
       "version_major": 2,
       "version_minor": 0
      },
      "text/plain": [
       "HBox(children=(FloatProgress(value=0.0, description='Maximum working time constraints', max=16.0, style=Progre…"
      ]
     },
     "metadata": {},
     "output_type": "display_data"
    },
    {
     "name": "stdout",
     "output_type": "stream",
     "text": [
      "\n"
     ]
    }
   ],
   "source": [
    "# (3) limit on the maximum robot working time\n",
    "coeff1 = gp.tupledict({\n",
    "    (hub, robot, instance, customer): t[hub, robot, instance, customer] * (1 + (tf / b)) + ts\n",
    "    for hub in H\n",
    "    for robot in R\n",
    "    for instance in I\n",
    "    for customer in N\n",
    "})\n",
    "\n",
    "for hub in tqdm(H, desc='Maximum working time constraints'):\n",
    "    for robot in R:\n",
    "        for instance in I:\n",
    "            model1.addConstr(x1.prod(coeff1, hub, robot, instance, '*') <= M)"
   ]
  },
  {
   "cell_type": "code",
   "execution_count": 10,
   "metadata": {},
   "outputs": [
    {
     "data": {
      "application/vnd.jupyter.widget-view+json": {
       "model_id": "d79ddf850d174f4aa4a7fd095cc6dd8b",
       "version_major": 2,
       "version_minor": 0
      },
      "text/plain": [
       "HBox(children=(FloatProgress(value=0.0, description='Active hubs constraints', max=16.0, style=ProgressStyle(d…"
      ]
     },
     "metadata": {},
     "output_type": "display_data"
    },
    {
     "name": "stdout",
     "output_type": "stream",
     "text": [
      "\n"
     ]
    }
   ],
   "source": [
    "# (4) if a robot serves a customer location (in some instance), the corresponding robot hub is open\n",
    "for hub in tqdm(H, desc='Active hubs constraints'):\n",
    "    for robot in R:\n",
    "        for instance in I:\n",
    "            for customer in reachable_customers[hub, robot, instance]:\n",
    "                model1.addConstr(x1.sum(hub, instance, customer, '*') <= o1[hub])"
   ]
  },
  {
   "cell_type": "code",
   "execution_count": 11,
   "metadata": {},
   "outputs": [
    {
     "data": {
      "application/vnd.jupyter.widget-view+json": {
       "model_id": "f47b4103b14344dc8a2529b2aa7601dd",
       "version_major": 2,
       "version_minor": 0
      },
      "text/plain": [
       "HBox(children=(FloatProgress(value=0.0, description='Time window constraints', max=16.0, style=ProgressStyle(d…"
      ]
     },
     "metadata": {},
     "output_type": "display_data"
    },
    {
     "name": "stdout",
     "output_type": "stream",
     "text": [
      "\n"
     ]
    }
   ],
   "source": [
    "# (9), (10) time windows\n",
    "for hub in tqdm(H, desc='Time window constraints'):\n",
    "    for robot in R:\n",
    "        for instance in I:\n",
    "            for customer in reachable_customers[hub, robot, instance]:\n",
    "                e = time_windows[instance, customer][0]  # time window open\n",
    "                l = time_windows[instance, customer][1]  # time window close               \n",
    "                coeff = t[hub, robot, instance, customer]/2  # one-way travel time\n",
    "                x = x1[hub, robot, instance, customer]\n",
    "                y = y1[hub, robot, instance, customer]\n",
    "                \n",
    "                model1.addConstr(e * x <= y + coeff * x)\n",
    "                model1.addConstr(y + coeff * x <= l * x)"
   ]
  },
  {
   "cell_type": "code",
   "execution_count": 12,
   "metadata": {},
   "outputs": [
    {
     "data": {
      "application/vnd.jupyter.widget-view+json": {
       "model_id": "24d7ad9b56de4944bcfc1bf1925c4713",
       "version_major": 2,
       "version_minor": 0
      },
      "text/plain": [
       "HBox(children=(FloatProgress(value=0.0, description='Time integrity constraints', max=16.0, style=ProgressStyl…"
      ]
     },
     "metadata": {},
     "output_type": "display_data"
    },
    {
     "name": "stdout",
     "output_type": "stream",
     "text": [
      "\n"
     ]
    }
   ],
   "source": [
    "# (11) the next customer cannot be served before service at the previous one has finished and the battery is fully recharged\n",
    "for hub in tqdm(H, desc='Time integrity constraints'):\n",
    "    for robot in R:\n",
    "        for instance in I:\n",
    "            for i, j in valid_precedences[hub, robot, instance]:\n",
    "                if time_windows[instance, j] >= time_windows[instance, i] and i != j:\n",
    "                    y_i = y1[hub, robot, instance, i]\n",
    "                    y_j = y1[hub, robot, instance, j]\n",
    "                    z_ij = z1[hub, robot, instance, i, j]\n",
    "\n",
    "                    model1.addConstr(y_j + (L  + tf / b) * (1 - z_ij) >= y_i + t[hub, robot, instance, i] * (1 + (tf / b)) + ts)"
   ]
  },
  {
   "cell_type": "code",
   "execution_count": 13,
   "metadata": {},
   "outputs": [
    {
     "data": {
      "application/vnd.jupyter.widget-view+json": {
       "model_id": "963df6c5d1d744c39dfc48dcd2092588",
       "version_major": 2,
       "version_minor": 0
      },
      "text/plain": [
       "HBox(children=(FloatProgress(value=0.0, max=16.0), HTML(value='')))"
      ]
     },
     "metadata": {},
     "output_type": "display_data"
    },
    {
     "name": "stdout",
     "output_type": "stream",
     "text": [
      "\n"
     ]
    }
   ],
   "source": [
    "# (12) connecting x and z variables I\n",
    "for hub in tqdm(H, desc=''):\n",
    "    for robot in R:\n",
    "        for instance in I:\n",
    "            for i, j in valid_precedences[hub, robot, instance]:\n",
    "                if time_windows[instance, j] == time_windows[instance, i] and i != j:  # where time windows are same\n",
    "                    x_i = x1[hub, robot, instance, i]\n",
    "                    x_j = x1[hub, robot, instance, j]\n",
    "                    z_ij = z1[hub, robot, instance, i, j]\n",
    "                    z_ji = z1[hub, robot, instance, j, i]\n",
    "\n",
    "                    model1.addConstr(x_i + x_j - z_ij - z_ji <= 1)"
   ]
  },
  {
   "cell_type": "code",
   "execution_count": 14,
   "metadata": {},
   "outputs": [
    {
     "data": {
      "application/vnd.jupyter.widget-view+json": {
       "model_id": "6d3907a815cd42669c8213edb8404724",
       "version_major": 2,
       "version_minor": 0
      },
      "text/plain": [
       "HBox(children=(FloatProgress(value=0.0, max=16.0), HTML(value='')))"
      ]
     },
     "metadata": {},
     "output_type": "display_data"
    },
    {
     "name": "stdout",
     "output_type": "stream",
     "text": [
      "\n"
     ]
    }
   ],
   "source": [
    "# (13) connecting x and z variables II\n",
    "for hub in tqdm(H):\n",
    "    for robot in R:\n",
    "        for instance in I:\n",
    "            for i, j in valid_precedences[hub, robot, instance]:\n",
    "                # if time_windows[instance, j] >= time_windows[instance, i] and i != j:  # where tw of j is equal or later i\n",
    "                # illogical: if tw[j] > tw[i] then there is no variable z_ji\n",
    "                if time_windows[instance, j] == time_windows[instance, i] and i != j:  # where tw are equal\n",
    "                    x_i = x1[hub, robot, instance, i]\n",
    "                    x_j = x1[hub, robot, instance, j]\n",
    "                    z_ji = z1[hub, robot, instance, j, i]\n",
    "\n",
    "                    model1.addConstr(x_i + x_j - z_ji <= 1)"
   ]
  },
  {
   "cell_type": "markdown",
   "metadata": {},
   "source": [
    "#### Solve Model 1"
   ]
  },
  {
   "cell_type": "code",
   "execution_count": 15,
   "metadata": {},
   "outputs": [
    {
     "name": "stdout",
     "output_type": "stream",
     "text": [
      "Changed value of parameter TimeLimit to 240.0\n",
      "   Prev: inf  Min: 0.0  Max: inf  Default: inf\n",
      "Gurobi Optimizer version 9.0.1 build v9.0.1rc0 (win64)\n",
      "Optimize a model with 23633830 rows, 11173786 columns and 78297430 nonzeros\n",
      "Model fingerprint: 0xfe0cc25f\n",
      "Variable types: 158580 continuous, 11015206 integer (11015206 binary)\n",
      "Coefficient statistics:\n",
      "  Matrix range     [2e-01, 2e+01]\n",
      "  Objective range  [1e+00, 1e+00]\n",
      "  Bounds range     [1e+00, 1e+00]\n",
      "  RHS range        [1e+00, 2e+01]\n",
      "Presolve removed 0 rows and 0 columns (presolve time = 8s) ...\n",
      "Presolve removed 142730 rows and 4707170 columns (presolve time = 12s) ...\n",
      "Presolve removed 4849900 rows and 4707170 columns (presolve time = 16s) ...\n",
      "Presolve removed 7938885 rows and 4707170 columns (presolve time = 39s) ...\n",
      "Presolve removed 7938885 rows and 4707170 columns (presolve time = 49s) ...\n",
      "Presolve removed 7938885 rows and 4707170 columns (presolve time = 50s) ...\n",
      "Presolve removed 17085637 rows and 4707170 columns (presolve time = 55s) ...\n",
      "Presolve removed 22785305 rows and 10803948 columns (presolve time = 60s) ...\n",
      "Presolve removed 23507848 rows and 10953499 columns (presolve time = 65s) ...\n",
      "Presolve removed 23523038 rows and 10961094 columns (presolve time = 70s) ...\n",
      "Presolve removed 23523038 rows and 10961094 columns\n",
      "Presolve time: 74.10s\n",
      "Presolved: 110792 rows, 212692 columns, 640453 nonzeros\n",
      "Variable types: 1434 continuous, 211258 integer (211258 binary)\n",
      "\n",
      "Deterministic concurrent LP optimizer: primal and dual simplex\n",
      "Showing first log only...\n",
      "\n",
      "\n",
      "Root simplex log...\n",
      "\n",
      "Iteration    Objective       Primal Inf.    Dual Inf.      Time\n",
      "    1571    1.0195475e+01   0.000000e+00   1.573062e+02     90s\n",
      "    4099    1.0000000e+01   0.000000e+00   0.000000e+00     91s\n",
      "Concurrent spin time: 0.20s\n",
      "\n",
      "Solved with dual simplex\n",
      "\n",
      "Root relaxation: objective 1.000000e+01, 9256 iterations, 3.21 seconds\n",
      "\n",
      "    Nodes    |    Current Node    |     Objective Bounds      |     Work\n",
      " Expl Unexpl |  Obj  Depth IntInf | Incumbent    BestBd   Gap | It/Node Time\n",
      "\n",
      "*    0     0               0      10.0000000   10.00000  0.00%     -   94s\n",
      "\n",
      "Explored 0 nodes (20097 simplex iterations) in 96.03 seconds\n",
      "Thread count was 8 (of 8 available processors)\n",
      "\n",
      "Solution count 1: 10 \n",
      "\n",
      "Optimal solution found (tolerance 1.00e-04)\n",
      "Best objective 1.000000000000e+01, best bound 1.000000000000e+01, gap 0.0000%\n"
     ]
    }
   ],
   "source": [
    "model1.setParam('TimeLimit', 240)  # for testing only\n",
    "model1.optimize()"
   ]
  },
  {
   "cell_type": "markdown",
   "metadata": {},
   "source": [
    "#### Inspect and plot one of the instances with the solution"
   ]
  },
  {
   "cell_type": "code",
   "execution_count": 16,
   "metadata": {},
   "outputs": [],
   "source": [
    "x1_solution = model1.getAttr('x', x1)\n",
    "assignment1 = gp.tupledict({\n",
    "    (key[2], key[3]):(key[0], key[1]) \n",
    "    for key, value in x1_solution.items() \n",
    "    if value > 0.5})  # (instance, customer): (hub, robot)\n",
    "assignment1;"
   ]
  },
  {
   "cell_type": "code",
   "execution_count": 17,
   "metadata": {},
   "outputs": [
    {
     "data": {
      "text/plain": [
       "10"
      ]
     },
     "execution_count": 17,
     "metadata": {},
     "output_type": "execute_result"
    }
   ],
   "source": [
    "o1_solution = model1.getAttr('x', o1)\n",
    "p = len([key for key, value in o1_solution.items() if value > 0.5])  # min number of open hubs\n",
    "p"
   ]
  },
  {
   "cell_type": "code",
   "execution_count": 18,
   "metadata": {},
   "outputs": [
    {
     "data": {
      "application/vnd.jupyter.widget-view+json": {
       "model_id": "14815e2c004a430fa537477bc5a9fd99",
       "version_major": 2,
       "version_minor": 0
      },
      "text/plain": [
       "interactive(children=(Dropdown(description='plot_instance', options=(None, 0, 1, 2, 3, 4, 5, 6, 7, 8, 9), valu…"
      ]
     },
     "metadata": {},
     "output_type": "display_data"
    }
   ],
   "source": [
    "def model1_plot(plot_instance):\n",
    "    hub_colors = []\n",
    "    for hub in H:\n",
    "        if o1_solution[hub] > 0.5:\n",
    "            hub_colors.append(colors(hub/h))\n",
    "        else:\n",
    "            hub_colors.append('white')\n",
    "\n",
    "    plt.scatter(hubs_x, hubs_y, c=hub_colors, marker='s', s=75, edgecolors='black')\n",
    "    \n",
    "    if plot_instance is not None:\n",
    "        customer_colors = []\n",
    "        for customer in N:\n",
    "            customer_colors.append(colors(assignment1[plot_instance, customer][0]/h))  \n",
    "\n",
    "        customers_x, customers_y = zip(*customer_coords.select(plot_instance, '*'))  \n",
    "        plt.scatter(customers_x, customers_y, c=customer_colors, alpha=1, edgecolors='black')\n",
    "\n",
    "        if n <= 100:\n",
    "            for customer in N:\n",
    "                plt.annotate(s=customer, xy=(customers_x[customer], customers_y[customer]))\n",
    "\n",
    "    plt.xlim(0, area)\n",
    "    plt.ylim(0, area);\n",
    "    plt.grid()\n",
    "    # plt.gcf().set_size_inches(20,10)\n",
    "interact(model1_plot, plot_instance=[None]+I);"
   ]
  },
  {
   "cell_type": "markdown",
   "metadata": {},
   "source": [
    "### Tier 2: Minimize operational robot cost"
   ]
  },
  {
   "cell_type": "markdown",
   "metadata": {},
   "source": [
    "#### Model, decision variables, objective function"
   ]
  },
  {
   "cell_type": "code",
   "execution_count": 19,
   "metadata": {},
   "outputs": [],
   "source": [
    "model2 = gp.Model('min_cost')\n",
    "\n",
    "# (5) add hub-robot-instance-customer binary decision variables\n",
    "x2 = model2.addVars(reachables, vtype=GRB.BINARY, name='x')\n",
    "# format of x2 vars: (hub, robot, instance, customer)\n",
    "\n",
    "# (6) add is-hub-open binary decision variables\n",
    "o2 = model2.addVars(H, vtype=GRB.BINARY, name='o')\n",
    "\n",
    "# (14) add depot leaving time decision variables\n",
    "y2 = model2.addVars(reachables, vtype=GRB.CONTINUOUS, name='y')\n",
    "# format of y2 vars: (hub, robot, instance, customer)\n",
    "\n",
    "# (14) add precedence decision variables\n",
    "z2 = model2.addVars(z_vars, vtype=GRB.BINARY, name='z')\n",
    "# format of z2 vars: (hub, robot, instance, customer i, customer j)\n",
    "\n",
    "# set the objective function\n",
    "coeff2 = gp.tupledict({\n",
    "    (hub, robot, instance, customer): t[hub, robot, instance, customer]\n",
    "    for hub in H\n",
    "    for robot in R\n",
    "    for instance in I\n",
    "    for customer in N\n",
    "})\n",
    "\n",
    "model2.setObjective(x2.prod(coeff2), sense=GRB.MINIMIZE)\n",
    "model2.update()\n",
    "# model2.getObjective()"
   ]
  },
  {
   "cell_type": "markdown",
   "metadata": {},
   "source": [
    "#### Add constraints"
   ]
  },
  {
   "cell_type": "code",
   "execution_count": 20,
   "metadata": {},
   "outputs": [
    {
     "data": {
      "application/vnd.jupyter.widget-view+json": {
       "model_id": "3a4273661f2643ef837fc0c59ac44933",
       "version_major": 2,
       "version_minor": 0
      },
      "text/plain": [
       "HBox(children=(FloatProgress(value=0.0, description='Service constraints', max=10.0, style=ProgressStyle(descr…"
      ]
     },
     "metadata": {},
     "output_type": "display_data"
    },
    {
     "name": "stdout",
     "output_type": "stream",
     "text": [
      "\n"
     ]
    }
   ],
   "source": [
    "# define the constraints\n",
    "# (2) All instance-customer locations must be assigned to exactly one hub-robot combination\n",
    "for instance in tqdm(I, desc='Service constraints'):\n",
    "    for customer in N:\n",
    "        model2.addConstr(x2.sum('*', '*', instance, customer) == 1)"
   ]
  },
  {
   "cell_type": "code",
   "execution_count": 21,
   "metadata": {},
   "outputs": [],
   "source": [
    "# (3) limit on the maximum robot working time\n",
    "# following the paper, this constraint is NOT applied for tier 2 with tw ?!\n",
    "\"\"\"\n",
    "coeff1 = gp.tupledict({\n",
    "    (hub, robot, instance, customer): t[hub, robot, instance, customer] * (1 + (tf / b)) + ts\n",
    "    for hub in H\n",
    "    for robot in R\n",
    "    for instance in I\n",
    "    for customer in N\n",
    "})\n",
    "\n",
    "for hub in tqdm(H, desc='Maximum working time constraints'):\n",
    "    for robot in R:\n",
    "        for instance in I:\n",
    "            model2.addConstr(x2.prod(coeff1, hub, robot, instance, '*') <= M)\n",
    "\"\"\";\n",
    "     "
   ]
  },
  {
   "cell_type": "code",
   "execution_count": 22,
   "metadata": {},
   "outputs": [
    {
     "data": {
      "application/vnd.jupyter.widget-view+json": {
       "model_id": "7771e651bb1a4a6783e096a8b19af805",
       "version_major": 2,
       "version_minor": 0
      },
      "text/plain": [
       "HBox(children=(FloatProgress(value=0.0, description='Active hubs constraints', max=16.0, style=ProgressStyle(d…"
      ]
     },
     "metadata": {},
     "output_type": "display_data"
    },
    {
     "name": "stdout",
     "output_type": "stream",
     "text": [
      "\n"
     ]
    }
   ],
   "source": [
    "# (4) if a robot serves a customer location (in some instance), the corresponding robot hub is open\n",
    "for hub in tqdm(H, desc='Active hubs constraints'):\n",
    "    for robot in R:\n",
    "        for instance in I:\n",
    "            for customer in reachable_customers[hub, robot, instance]:\n",
    "                model2.addConstr(x2.sum(hub, instance, customer, '*') <= o2[hub])"
   ]
  },
  {
   "cell_type": "code",
   "execution_count": 23,
   "metadata": {},
   "outputs": [],
   "source": [
    "# (8) ensure that there are exactly as many open robot hubs as provided by first model\n",
    "model2.addConstr(o2.sum() == p);"
   ]
  },
  {
   "cell_type": "code",
   "execution_count": 24,
   "metadata": {},
   "outputs": [
    {
     "data": {
      "application/vnd.jupyter.widget-view+json": {
       "model_id": "30bee1568bd447b0a584b4c73ced9ed5",
       "version_major": 2,
       "version_minor": 0
      },
      "text/plain": [
       "HBox(children=(FloatProgress(value=0.0, description='Time window constraints', max=16.0, style=ProgressStyle(d…"
      ]
     },
     "metadata": {},
     "output_type": "display_data"
    },
    {
     "name": "stdout",
     "output_type": "stream",
     "text": [
      "\n"
     ]
    }
   ],
   "source": [
    "# (9), (10) time windows\n",
    "for hub in tqdm(H, desc='Time window constraints'):\n",
    "    for robot in R:\n",
    "        for instance in I:\n",
    "            for customer in reachable_customers[hub, robot, instance]:\n",
    "                e = time_windows[instance, customer][0]  # time window open\n",
    "                l = time_windows[instance, customer][1]  # time window close               \n",
    "                coeff = t[hub, robot, instance, customer]/2  # one-way travel time\n",
    "                x = x2[hub, robot, instance, customer]\n",
    "                y = y2[hub, robot, instance, customer]\n",
    "                \n",
    "                model2.addConstr(e * x <= y + coeff * x)   # time window open\n",
    "                model2.addConstr(y + coeff * x <= l * x)   # time window close "
   ]
  },
  {
   "cell_type": "code",
   "execution_count": 25,
   "metadata": {},
   "outputs": [
    {
     "data": {
      "application/vnd.jupyter.widget-view+json": {
       "model_id": "fd963b7868d846a5b7049ddc564395b7",
       "version_major": 2,
       "version_minor": 0
      },
      "text/plain": [
       "HBox(children=(FloatProgress(value=0.0, description='Time integrity constraints', max=16.0, style=ProgressStyl…"
      ]
     },
     "metadata": {},
     "output_type": "display_data"
    },
    {
     "name": "stdout",
     "output_type": "stream",
     "text": [
      "\n"
     ]
    }
   ],
   "source": [
    "# (11) the next customer cannot be served before service at the previous one has finished and the battery is fully recharged\n",
    "for hub in tqdm(H, desc='Time integrity constraints'):\n",
    "    for robot in R:\n",
    "        for instance in I:\n",
    "            for i, j in valid_precedences[hub, robot, instance]:\n",
    "                if time_windows[instance, j] >= time_windows[instance, i] and i != j:\n",
    "                    y_i = y2[hub, robot, instance, i]\n",
    "                    y_j = y2[hub, robot, instance, j]\n",
    "                    z_ij = z2[hub, robot, instance, i, j]\n",
    "\n",
    "                    model2.addConstr(y_j + (L  + tf / b) * (1 - z_ij) >= y_i + t[hub, robot, instance, i] * (1 + (tf / b)) + ts)"
   ]
  },
  {
   "cell_type": "code",
   "execution_count": 26,
   "metadata": {},
   "outputs": [
    {
     "data": {
      "application/vnd.jupyter.widget-view+json": {
       "model_id": "1b9a84755ec4459990e55bdf139e96d6",
       "version_major": 2,
       "version_minor": 0
      },
      "text/plain": [
       "HBox(children=(FloatProgress(value=0.0, max=16.0), HTML(value='')))"
      ]
     },
     "metadata": {},
     "output_type": "display_data"
    },
    {
     "name": "stdout",
     "output_type": "stream",
     "text": [
      "\n"
     ]
    }
   ],
   "source": [
    "# (12) connecting x and z variables I\n",
    "for hub in tqdm(H, desc=''):\n",
    "    for robot in R:\n",
    "        for instance in I:\n",
    "            for i, j in valid_precedences[hub, robot, instance]:\n",
    "                if time_windows[instance, j] == time_windows[instance, i] and i != j:  # where time windows are same\n",
    "                    x_i = x2[hub, robot, instance, i]\n",
    "                    x_j = x2[hub, robot, instance, j]\n",
    "                    z_ij = z2[hub, robot, instance, i, j]\n",
    "                    z_ji = z2[hub, robot, instance, j, i]\n",
    "\n",
    "                    model2.addConstr(x_i + x_j - z_ij - z_ji <= 1)"
   ]
  },
  {
   "cell_type": "code",
   "execution_count": 27,
   "metadata": {},
   "outputs": [
    {
     "data": {
      "application/vnd.jupyter.widget-view+json": {
       "model_id": "d3efb9c196f6474aac232d4935b3e76f",
       "version_major": 2,
       "version_minor": 0
      },
      "text/plain": [
       "HBox(children=(FloatProgress(value=0.0, max=16.0), HTML(value='')))"
      ]
     },
     "metadata": {},
     "output_type": "display_data"
    },
    {
     "name": "stdout",
     "output_type": "stream",
     "text": [
      "\n"
     ]
    }
   ],
   "source": [
    "# (13) connecting x and z variables II\n",
    "for hub in tqdm(H):\n",
    "    for robot in R:\n",
    "        for instance in I:\n",
    "            for i, j in valid_precedences[hub, robot, instance]:\n",
    "                # if time_windows[instance, j] >= time_windows[instance, i] and i != j:  # where tw of j is equal or later i\n",
    "                # illogical: if tw[j] > tw[i] then there is no variable z_ji\n",
    "                if time_windows[instance, j] == time_windows[instance, i] and i != j:  # where tw are equal\n",
    "                    x_i = x2[hub, robot, instance, i]\n",
    "                    x_j = x2[hub, robot, instance, j]\n",
    "                    z_ji = z2[hub, robot, instance, j, i]\n",
    "\n",
    "                    model2.addConstr(x_i + x_j - z_ji <= 1)"
   ]
  },
  {
   "cell_type": "markdown",
   "metadata": {},
   "source": [
    "#### Solve Model 2"
   ]
  },
  {
   "cell_type": "code",
   "execution_count": 28,
   "metadata": {},
   "outputs": [
    {
     "name": "stdout",
     "output_type": "stream",
     "text": [
      "Changed value of parameter TimeLimit to 240.0\n",
      "   Prev: inf  Min: 0.0  Max: inf  Default: inf\n",
      "Gurobi Optimizer version 9.0.1 build v9.0.1rc0 (win64)\n",
      "Optimize a model with 23632231 rows, 11173786 columns and 78138866 nonzeros\n",
      "Model fingerprint: 0xb71c519b\n",
      "Variable types: 158580 continuous, 11015206 integer (11015206 binary)\n",
      "Coefficient statistics:\n",
      "  Matrix range     [1e+00, 2e+01]\n",
      "  Objective range  [7e-02, 2e+00]\n",
      "  Bounds range     [1e+00, 1e+00]\n",
      "  RHS range        [1e+00, 2e+01]\n",
      "Found heuristic solution: objective 897.8666667\n",
      "Presolve removed 0 rows and 0 columns (presolve time = 7s) ...\n",
      "Presolve removed 142730 rows and 4707170 columns (presolve time = 11s) ...\n",
      "Presolve removed 4849900 rows and 4707170 columns (presolve time = 16s) ...\n",
      "Presolve removed 7938885 rows and 4707170 columns (presolve time = 41s) ...\n",
      "Presolve removed 7938885 rows and 4707170 columns (presolve time = 51s) ...\n",
      "Presolve removed 17084052 rows and 4707170 columns (presolve time = 55s) ...\n",
      "Presolve removed 22783720 rows and 10803948 columns (presolve time = 61s) ...\n",
      "Presolve removed 22789772 rows and 10810000 columns (presolve time = 66s) ...\n",
      "Presolve removed 23521453 rows and 10961094 columns (presolve time = 72s) ...\n",
      "Presolve removed 23521453 rows and 10961094 columns (presolve time = 75s) ...\n",
      "Presolve removed 23521453 rows and 10961094 columns\n",
      "Presolve time: 75.26s\n",
      "Presolved: 110778 rows, 212692 columns, 639035 nonzeros\n",
      "Variable types: 1434 continuous, 211258 integer (211258 binary)\n",
      "\n",
      "Deterministic concurrent LP optimizer: primal and dual simplex\n",
      "Showing first log only...\n",
      "\n",
      "\n",
      "Root simplex log...\n",
      "\n",
      "Iteration    Objective       Primal Inf.    Dual Inf.      Time\n",
      "       0    4.2526667e+02   2.900000e+01   1.217530e+11     85s\n",
      "Concurrent spin time: 0.00s\n",
      "\n",
      "Solved with dual simplex\n",
      "\n",
      "Root relaxation: objective 1.977333e+02, 14819 iterations, 4.37 seconds\n",
      "Total elapsed time = 90.07s\n",
      "\n",
      "    Nodes    |    Current Node    |     Objective Bounds      |     Work\n",
      " Expl Unexpl |  Obj  Depth IntInf | Incumbent    BestBd   Gap | It/Node Time\n",
      "\n",
      "     0     0  197.73333    0 2315  897.86667  197.73333  78.0%     -   92s\n",
      "H    0     0                     279.0000000  197.73333  29.1%     -   94s\n",
      "H    0     0                     274.7333333  197.73333  28.0%     -   95s\n",
      "     0     0  232.46468    0 2649  274.73333  232.46468  15.4%     -  104s\n",
      "H    0     0                     270.8000000  232.46468  14.2%     -  107s\n",
      "H    0     0                     265.0000000  232.46468  12.3%     -  107s\n",
      "     0     0  232.74825    0 2629  265.00000  232.74825  12.2%     -  108s\n",
      "     0     0  232.75058    0 2593  265.00000  232.75058  12.2%     -  109s\n",
      "     0     0  234.80721    0 2548  265.00000  234.80721  11.4%     -  116s\n",
      "H    0     0                     252.7333333  234.80721  7.09%     -  117s\n",
      "H    0     0                     249.2666667  234.80721  5.80%     -  123s\n",
      "     0     0  234.99905    0 2460  249.26667  234.99905  5.72%     -  125s\n",
      "     0     0  235.07008    0 2424  249.26667  235.07008  5.70%     -  126s\n",
      "     0     0  235.07008    0 2402  249.26667  235.07008  5.70%     -  126s\n",
      "     0     0  235.25421    0 2654  249.26667  235.25421  5.62%     -  133s\n",
      "H    0     0                     249.0000000  235.25421  5.52%     -  141s\n",
      "     0     0  235.37130    0 2536  249.00000  235.37130  5.47%     -  143s\n",
      "     0     0  235.37614    0 2663  249.00000  235.37614  5.47%     -  143s\n",
      "     0     0  235.51186    0 2685  249.00000  235.51186  5.42%     -  150s\n",
      "H    0     0                     248.8000000  235.51186  5.34%     -  162s\n",
      "     0     0  235.56332    0 2663  248.80000  235.56332  5.32%     -  162s\n",
      "     0     0  235.56434    0 2620  248.80000  235.56434  5.32%     -  163s\n",
      "     0     0  235.62112    0 2623  248.80000  235.62112  5.30%     -  164s\n",
      "     0     0  235.63802    0 2631  248.80000  235.63802  5.29%     -  173s\n",
      "     0     0  235.64922    0 2583  248.80000  235.64922  5.29%     -  174s\n",
      "     0     0  235.64922    0 2597  248.80000  235.64922  5.29%     -  174s\n",
      "     0     0  235.65022    0 2614  248.80000  235.65022  5.29%     -  176s\n",
      "     0     0  235.66556    0 2643  248.80000  235.66556  5.28%     -  188s\n",
      "     0     0  235.66591    0 2624  248.80000  235.66591  5.28%     -  188s\n",
      "     0     0  235.66591    0 2690  248.80000  235.66591  5.28%     -  190s\n",
      "     0     0  235.67821    0 2664  248.80000  235.67821  5.27%     -  192s\n",
      "     0     0  235.68528    0 2621  248.80000  235.68528  5.27%     -  192s\n",
      "     0     0  235.68799    0 2640  248.80000  235.68799  5.27%     -  194s\n",
      "     0     0  235.68799    0 2105  248.80000  235.68799  5.27%     -  198s\n",
      "H    0     2                     248.6666667  235.69177  5.22%     -  232s\n",
      "     0     2  235.69177    0 2104  248.66667  235.69177  5.22%     -  232s\n",
      "     1     4  236.44225    1 1682  248.66667  235.70164  5.21%  8822  236s\n",
      "     3     6  237.77600    2 1355  248.66667  236.14883  5.03%  5199  240s\n",
      "\n",
      "Cutting planes:\n",
      "  Learned: 26\n",
      "  Gomory: 10\n",
      "  Cover: 34\n",
      "  Implied bound: 55\n",
      "  Clique: 1070\n",
      "  MIR: 55\n",
      "  Flow cover: 19\n",
      "  Zero half: 62\n",
      "  RLT: 138\n",
      "  Relax-and-lift: 11\n",
      "  BQP: 61\n",
      "\n",
      "Explored 5 nodes (98461 simplex iterations) in 242.30 seconds\n",
      "Thread count was 8 (of 8 available processors)\n",
      "\n",
      "Solution count 10: 248.667 248.8 249 ... 897.867\n",
      "\n",
      "Time limit reached\n",
      "Best objective 2.486666666667e+02, best bound 2.362000000000e+02, gap 5.0134%\n"
     ]
    }
   ],
   "source": [
    "model2.setParam('TimeLimit', 240)  # for testing only\n",
    "model2.optimize()"
   ]
  },
  {
   "cell_type": "markdown",
   "metadata": {},
   "source": [
    "#### Inspect and plot solution of Model 2"
   ]
  },
  {
   "cell_type": "code",
   "execution_count": 29,
   "metadata": {},
   "outputs": [
    {
     "data": {
      "text/plain": [
       "248.66666666666697"
      ]
     },
     "execution_count": 29,
     "metadata": {},
     "output_type": "execute_result"
    }
   ],
   "source": [
    "objValue2 = model2.getObjective().getValue()\n",
    "objValue2"
   ]
  },
  {
   "cell_type": "code",
   "execution_count": 30,
   "metadata": {},
   "outputs": [
    {
     "data": {
      "text/plain": [
       "Counter({True: 1000})"
      ]
     },
     "execution_count": 30,
     "metadata": {},
     "output_type": "execute_result"
    }
   ],
   "source": [
    "x2_solution = model2.getAttr('x', x2)\n",
    "# customer: (hub, robot) lookup dict\n",
    "assignment2 = gp.tupledict({\n",
    "    (key[2], key[3]):(key[0], key[1]) \n",
    "    for key, value in x2_solution.items() \n",
    "    if value > 0.5})  # (instance, customer): (hub, robot)\n",
    "assignment2;\n",
    "# test whether the constraints are satisfied: every customer is assigned to one robot and one hub\n",
    "Counter([x2_solution.sum('*', '*', instance, customer).getValue() == 1 for customer in N for instance in I])"
   ]
  },
  {
   "cell_type": "code",
   "execution_count": 31,
   "metadata": {},
   "outputs": [
    {
     "data": {
      "text/plain": [
       "Counter({True: 1600})"
      ]
     },
     "execution_count": 31,
     "metadata": {},
     "output_type": "execute_result"
    }
   ],
   "source": [
    "# test the constraints: maximum working time of robots\n",
    "Counter([x2.prod(coeff1, hub, robot, instance, '*').getValue() <= M for hub in H for instance in I for robot in R])"
   ]
  },
  {
   "cell_type": "code",
   "execution_count": 32,
   "metadata": {},
   "outputs": [
    {
     "data": {
      "text/plain": [
       "True"
      ]
     },
     "execution_count": 32,
     "metadata": {},
     "output_type": "execute_result"
    }
   ],
   "source": [
    "o2_solution = model2.getAttr('x', o2)\n",
    "o2_solution\n",
    "# test whether constraints are satisfied: only p hubs are open\n",
    "o2_solution.sum().getValue() == p"
   ]
  },
  {
   "cell_type": "code",
   "execution_count": 33,
   "metadata": {
    "scrolled": true
   },
   "outputs": [
    {
     "data": {
      "text/plain": [
       "{(0, 0, 8): [47, 56, 70, 86],\n",
       " (0, 1, 8): [31, 36, 65],\n",
       " (0, 2, 5): [27, 41, 95],\n",
       " (0, 6, 5): [86],\n",
       " (0, 8, 5): [35],\n",
       " (0, 8, 8): [34, 85],\n",
       " (1, 0, 0): [80],\n",
       " (1, 0, 1): [31],\n",
       " (1, 0, 2): [37],\n",
       " (1, 0, 3): [36],\n",
       " (1, 0, 4): [83],\n",
       " (1, 0, 5): [46],\n",
       " (1, 0, 6): [45],\n",
       " (1, 0, 7): [13],\n",
       " (1, 0, 8): [26],\n",
       " (1, 0, 9): [10],\n",
       " (1, 1, 0): [47],\n",
       " (1, 1, 1): [2],\n",
       " (1, 1, 2): [23],\n",
       " (1, 1, 3): [96],\n",
       " (1, 1, 4): [79],\n",
       " (1, 1, 5): [99],\n",
       " (1, 1, 6): [76],\n",
       " (1, 1, 7): [73],\n",
       " (1, 1, 9): [11],\n",
       " (1, 2, 0): [7],\n",
       " (1, 2, 1): [73],\n",
       " (1, 2, 2): [65],\n",
       " (1, 2, 3): [24],\n",
       " (1, 2, 4): [13],\n",
       " (1, 2, 5): [98],\n",
       " (1, 2, 6): [73],\n",
       " (1, 2, 7): [18],\n",
       " (1, 2, 8): [77],\n",
       " (1, 2, 9): [28],\n",
       " (1, 3, 0): [44],\n",
       " (1, 3, 1): [36],\n",
       " (1, 3, 2): [86],\n",
       " (1, 3, 3): [79],\n",
       " (1, 3, 4): [27],\n",
       " (1, 3, 5): [17],\n",
       " (1, 3, 6): [0],\n",
       " (1, 3, 7): [42],\n",
       " (1, 3, 8): [55],\n",
       " (1, 3, 9): [19],\n",
       " (1, 4, 0): [10],\n",
       " (1, 4, 1): [21],\n",
       " (1, 4, 2): [98],\n",
       " (1, 4, 3): [0],\n",
       " (1, 4, 4): [58],\n",
       " (1, 4, 5): [18],\n",
       " (1, 4, 6): [91],\n",
       " (1, 4, 7): [62],\n",
       " (1, 4, 9): [34],\n",
       " (1, 5, 0): [11],\n",
       " (1, 5, 1): [80],\n",
       " (1, 5, 2): [96],\n",
       " (1, 5, 3): [2],\n",
       " (1, 5, 4): [56],\n",
       " (1, 5, 5): [31],\n",
       " (1, 5, 6): [99],\n",
       " (1, 5, 7): [32],\n",
       " (1, 5, 9): [81],\n",
       " (1, 6, 0): [79],\n",
       " (1, 6, 1): [50],\n",
       " (1, 6, 2): [43],\n",
       " (1, 6, 3): [69],\n",
       " (1, 6, 4): [11],\n",
       " (1, 6, 5): [93],\n",
       " (1, 6, 6): [43],\n",
       " (1, 6, 7): [8],\n",
       " (1, 6, 8): [53],\n",
       " (1, 6, 9): [71],\n",
       " (1, 7, 0): [4],\n",
       " (1, 7, 1): [32],\n",
       " (1, 7, 2): [91],\n",
       " (1, 7, 3): [47],\n",
       " (1, 7, 4): [53],\n",
       " (1, 7, 5): [36],\n",
       " (1, 7, 6): [56],\n",
       " (1, 7, 7): [7],\n",
       " (1, 7, 8): [98],\n",
       " (1, 7, 9): [70],\n",
       " (1, 8, 0): [55],\n",
       " (1, 8, 1): [52],\n",
       " (1, 8, 2): [90],\n",
       " (1, 8, 3): [99],\n",
       " (1, 8, 4): [19],\n",
       " (1, 8, 5): [81],\n",
       " (1, 8, 6): [78],\n",
       " (1, 8, 7): [1],\n",
       " (1, 8, 9): [49],\n",
       " (1, 9, 0): [41],\n",
       " (1, 9, 1): [84],\n",
       " (1, 9, 3): [29],\n",
       " (1, 9, 4): [9],\n",
       " (1, 9, 5): [23],\n",
       " (1, 9, 6): [93],\n",
       " (1, 9, 7): [14],\n",
       " (1, 9, 8): [15],\n",
       " (1, 9, 9): [45],\n",
       " (2, 0, 0): [24],\n",
       " (2, 0, 1): [48],\n",
       " (2, 0, 2): [13],\n",
       " (2, 0, 3): [21],\n",
       " (2, 0, 4): [29],\n",
       " (2, 0, 5): [6],\n",
       " (2, 0, 6): [58],\n",
       " (2, 0, 7): [26],\n",
       " (2, 0, 8): [6],\n",
       " (2, 0, 9): [80],\n",
       " (2, 1, 0): [72],\n",
       " (2, 1, 1): [62],\n",
       " (2, 1, 2): [34],\n",
       " (2, 1, 3): [37],\n",
       " (2, 1, 4): [67],\n",
       " (2, 1, 6): [44],\n",
       " (2, 1, 7): [35],\n",
       " (2, 1, 8): [78],\n",
       " (2, 1, 9): [90],\n",
       " (2, 2, 0): [93],\n",
       " (2, 2, 1): [64],\n",
       " (2, 2, 2): [81],\n",
       " (2, 2, 3): [5],\n",
       " (2, 2, 4): [80],\n",
       " (2, 2, 5): [45],\n",
       " (2, 2, 6): [87],\n",
       " (2, 2, 7): [95],\n",
       " (2, 2, 8): [43],\n",
       " (2, 2, 9): [41],\n",
       " (2, 3, 0): [89],\n",
       " (2, 3, 1): [85],\n",
       " (2, 3, 2): [18],\n",
       " (2, 3, 3): [16],\n",
       " (2, 3, 4): [86],\n",
       " (2, 3, 5): [89],\n",
       " (2, 3, 6): [79],\n",
       " (2, 3, 7): [20],\n",
       " (2, 3, 8): [29],\n",
       " (2, 3, 9): [55],\n",
       " (2, 4, 0): [54],\n",
       " (2, 4, 1): [37],\n",
       " (2, 4, 2): [49],\n",
       " (2, 4, 5): [96],\n",
       " (2, 4, 6): [3],\n",
       " (2, 4, 7): [66],\n",
       " (2, 4, 8): [16],\n",
       " (2, 4, 9): [17],\n",
       " (2, 5, 0): [85],\n",
       " (2, 5, 1): [26],\n",
       " (2, 5, 2): [38],\n",
       " (2, 5, 3): [65],\n",
       " (2, 5, 4): [28],\n",
       " (2, 5, 6): [48],\n",
       " (2, 5, 7): [19],\n",
       " (2, 5, 8): [81],\n",
       " (2, 5, 9): [29],\n",
       " (2, 6, 0): [82],\n",
       " (2, 6, 1): [93],\n",
       " (2, 6, 2): [28],\n",
       " (2, 6, 3): [43],\n",
       " (2, 6, 4): [45],\n",
       " (2, 6, 5): [65],\n",
       " (2, 6, 6): [75],\n",
       " (2, 6, 7): [44],\n",
       " (2, 6, 8): [30],\n",
       " (2, 6, 9): [84],\n",
       " (2, 7, 0): [65],\n",
       " (2, 7, 1): [95],\n",
       " (2, 7, 2): [27],\n",
       " (2, 7, 3): [34],\n",
       " (2, 7, 4): [22],\n",
       " (2, 7, 6): [30],\n",
       " (2, 7, 7): [71],\n",
       " (2, 7, 8): [68],\n",
       " (2, 7, 9): [82],\n",
       " (2, 8, 0): [18],\n",
       " (2, 8, 1): [11],\n",
       " (2, 8, 2): [41],\n",
       " (2, 8, 3): [10],\n",
       " (2, 8, 4): [12],\n",
       " (2, 8, 5): [83],\n",
       " (2, 8, 6): [65],\n",
       " (2, 8, 7): [15],\n",
       " (2, 8, 8): [91],\n",
       " (2, 8, 9): [65],\n",
       " (2, 9, 0): [76],\n",
       " (2, 9, 1): [65],\n",
       " (2, 9, 2): [87],\n",
       " (2, 9, 4): [49],\n",
       " (2, 9, 6): [37],\n",
       " (2, 9, 7): [11],\n",
       " (2, 9, 8): [67],\n",
       " (2, 9, 9): [72],\n",
       " (3, 1, 3): [22, 52],\n",
       " (3, 5, 2): [4, 31, 63],\n",
       " (3, 7, 5): [19, 42, 73],\n",
       " (3, 8, 3): [1, 46, 59],\n",
       " (3, 8, 7): [21, 27, 80],\n",
       " (4, 0, 0): [1],\n",
       " (4, 0, 1): [87],\n",
       " (4, 0, 2): [39],\n",
       " (4, 0, 3): [3],\n",
       " (4, 0, 4): [74],\n",
       " (4, 0, 5): [37],\n",
       " (4, 0, 6): [88],\n",
       " (4, 0, 7): [50],\n",
       " (4, 0, 8): [82],\n",
       " (4, 0, 9): [13],\n",
       " (4, 1, 0): [3],\n",
       " (4, 1, 1): [20],\n",
       " (4, 1, 2): [7],\n",
       " (4, 1, 3): [8],\n",
       " (4, 1, 4): [16],\n",
       " (4, 1, 5): [39],\n",
       " (4, 1, 6): [13],\n",
       " (4, 1, 7): [78],\n",
       " (4, 1, 8): [73],\n",
       " (4, 1, 9): [68],\n",
       " (4, 2, 0): [29],\n",
       " (4, 2, 1): [69],\n",
       " (4, 2, 2): [93],\n",
       " (4, 2, 3): [54],\n",
       " (4, 2, 4): [43],\n",
       " (4, 2, 5): [91],\n",
       " (4, 2, 6): [7],\n",
       " (4, 2, 7): [2],\n",
       " (4, 2, 8): [79],\n",
       " (4, 2, 9): [39],\n",
       " (4, 3, 0): [50],\n",
       " (4, 3, 1): [29],\n",
       " (4, 3, 2): [56],\n",
       " (4, 3, 3): [88],\n",
       " (4, 3, 4): [30],\n",
       " (4, 3, 5): [85],\n",
       " (4, 3, 6): [47],\n",
       " (4, 3, 7): [10],\n",
       " (4, 3, 8): [62],\n",
       " (4, 3, 9): [85],\n",
       " (4, 4, 0): [34],\n",
       " (4, 4, 1): [88],\n",
       " (4, 4, 2): [89],\n",
       " (4, 4, 3): [80],\n",
       " (4, 4, 4): [77],\n",
       " (4, 4, 5): [71],\n",
       " (4, 4, 6): [89],\n",
       " (4, 4, 7): [6],\n",
       " (4, 4, 8): [2],\n",
       " (4, 4, 9): [73],\n",
       " (4, 5, 0): [83],\n",
       " (4, 5, 1): [12],\n",
       " (4, 5, 2): [40],\n",
       " (4, 5, 3): [84],\n",
       " (4, 5, 4): [61],\n",
       " (4, 5, 5): [47],\n",
       " (4, 5, 6): [9],\n",
       " (4, 5, 7): [79],\n",
       " (4, 5, 8): [25],\n",
       " (4, 5, 9): [53],\n",
       " (4, 6, 0): [68],\n",
       " (4, 6, 1): [24],\n",
       " (4, 6, 2): [10],\n",
       " (4, 6, 3): [72],\n",
       " (4, 6, 4): [73],\n",
       " (4, 6, 5): [57],\n",
       " (4, 6, 6): [59],\n",
       " (4, 6, 7): [85],\n",
       " (4, 6, 8): [92],\n",
       " (4, 6, 9): [18],\n",
       " (4, 7, 0): [12],\n",
       " (4, 7, 1): [7],\n",
       " (4, 7, 2): [77],\n",
       " (4, 7, 3): [70],\n",
       " (4, 7, 4): [69],\n",
       " (4, 7, 5): [50],\n",
       " (4, 7, 6): [34],\n",
       " (4, 7, 7): [77],\n",
       " (4, 7, 8): [50],\n",
       " (4, 7, 9): [14],\n",
       " (4, 8, 0): [99],\n",
       " (4, 8, 1): [4],\n",
       " (4, 8, 2): [52],\n",
       " (4, 8, 3): [12],\n",
       " (4, 8, 4): [42],\n",
       " (4, 8, 5): [76],\n",
       " (4, 8, 6): [51],\n",
       " (4, 8, 7): [31],\n",
       " (4, 8, 8): [71],\n",
       " (4, 8, 9): [56],\n",
       " (4, 9, 0): [62],\n",
       " (4, 9, 1): [56],\n",
       " (4, 9, 2): [61],\n",
       " (4, 9, 3): [61],\n",
       " (4, 9, 4): [5],\n",
       " (4, 9, 5): [30],\n",
       " (4, 9, 6): [27],\n",
       " (4, 9, 7): [92],\n",
       " (4, 9, 8): [97],\n",
       " (4, 9, 9): [83],\n",
       " (6, 0, 0): [23],\n",
       " (6, 0, 1): [18],\n",
       " (6, 0, 2): [32],\n",
       " (6, 0, 3): [41],\n",
       " (6, 0, 4): [21],\n",
       " (6, 0, 5): [92],\n",
       " (6, 0, 6): [63],\n",
       " (6, 0, 7): [38],\n",
       " (6, 0, 8): [48],\n",
       " (6, 0, 9): [6],\n",
       " (6, 1, 0): [19],\n",
       " (6, 1, 1): [89],\n",
       " (6, 1, 2): [94],\n",
       " (6, 1, 3): [81],\n",
       " (6, 1, 4): [8],\n",
       " (6, 1, 6): [35],\n",
       " (6, 1, 7): [56],\n",
       " (6, 1, 8): [13],\n",
       " (6, 1, 9): [7],\n",
       " (6, 2, 0): [88],\n",
       " (6, 2, 1): [28],\n",
       " (6, 2, 2): [2],\n",
       " (6, 2, 3): [92],\n",
       " (6, 2, 4): [46],\n",
       " (6, 2, 5): [16],\n",
       " (6, 2, 6): [1],\n",
       " (6, 2, 7): [29],\n",
       " (6, 2, 8): [60],\n",
       " (6, 2, 9): [48],\n",
       " (6, 3, 0): [56],\n",
       " (6, 3, 1): [33],\n",
       " (6, 3, 2): [51],\n",
       " (6, 3, 3): [30],\n",
       " (6, 3, 4): [37],\n",
       " (6, 3, 5): [74],\n",
       " (6, 3, 6): [28],\n",
       " (6, 3, 7): [98],\n",
       " (6, 3, 8): [35],\n",
       " (6, 3, 9): [20],\n",
       " (6, 4, 0): [86],\n",
       " (6, 4, 1): [94],\n",
       " (6, 4, 2): [69],\n",
       " (6, 4, 3): [56],\n",
       " (6, 4, 4): [92],\n",
       " (6, 4, 6): [71],\n",
       " (6, 4, 7): [59],\n",
       " (6, 4, 8): [32],\n",
       " (6, 4, 9): [95],\n",
       " (6, 5, 0): [15],\n",
       " (6, 5, 1): [17],\n",
       " (6, 5, 3): [71],\n",
       " (6, 5, 4): [81],\n",
       " (6, 5, 5): [43],\n",
       " (6, 5, 6): [17],\n",
       " (6, 5, 7): [3],\n",
       " (6, 5, 8): [42],\n",
       " (6, 5, 9): [8],\n",
       " (6, 6, 0): [20],\n",
       " (6, 6, 1): [60],\n",
       " (6, 6, 2): [42],\n",
       " (6, 6, 3): [66],\n",
       " (6, 6, 4): [52],\n",
       " (6, 6, 6): [21],\n",
       " (6, 6, 7): [86],\n",
       " (6, 6, 9): [23],\n",
       " (6, 7, 0): [45],\n",
       " (6, 7, 1): [76],\n",
       " (6, 7, 2): [82],\n",
       " (6, 7, 3): [42],\n",
       " (6, 7, 4): [51],\n",
       " (6, 7, 5): [13],\n",
       " (6, 7, 6): [97],\n",
       " (6, 7, 7): [83],\n",
       " (6, 7, 8): [88],\n",
       " (6, 7, 9): [37],\n",
       " (6, 8, 0): [57],\n",
       " (6, 8, 1): [97],\n",
       " (6, 8, 2): [22],\n",
       " (6, 8, 3): [98],\n",
       " (6, 8, 4): [34],\n",
       " (6, 8, 5): [64],\n",
       " (6, 8, 6): [52],\n",
       " (6, 8, 7): [43],\n",
       " (6, 8, 8): [84],\n",
       " (6, 8, 9): [88],\n",
       " (6, 9, 0): [25],\n",
       " (6, 9, 1): [30],\n",
       " (6, 9, 3): [87],\n",
       " (6, 9, 4): [54],\n",
       " (6, 9, 6): [16],\n",
       " (6, 9, 7): [45],\n",
       " (6, 9, 8): [27],\n",
       " (6, 9, 9): [47],\n",
       " (7, 0, 0): [28],\n",
       " (7, 0, 1): [6],\n",
       " (7, 0, 2): [9],\n",
       " (7, 0, 3): [63],\n",
       " (7, 0, 4): [96],\n",
       " (7, 0, 5): [38],\n",
       " (7, 0, 6): [19],\n",
       " (7, 0, 7): [33],\n",
       " (7, 0, 8): [99],\n",
       " (7, 0, 9): [79],\n",
       " (7, 1, 0): [39],\n",
       " (7, 1, 1): [86],\n",
       " (7, 1, 2): [55],\n",
       " (7, 1, 3): [90],\n",
       " (7, 1, 4): [84],\n",
       " (7, 1, 5): [67],\n",
       " (7, 1, 6): [68],\n",
       " (7, 1, 7): [93],\n",
       " (7, 1, 9): [94],\n",
       " (7, 2, 0): [48],\n",
       " (7, 2, 1): [27],\n",
       " (7, 2, 2): [58],\n",
       " (7, 2, 3): [25],\n",
       " (7, 2, 4): [2],\n",
       " (7, 2, 5): [0],\n",
       " (7, 2, 6): [18],\n",
       " (7, 2, 7): [12],\n",
       " (7, 2, 8): [54],\n",
       " (7, 2, 9): [69],\n",
       " (7, 3, 0): [77],\n",
       " (7, 3, 1): [90],\n",
       " (7, 3, 2): [6],\n",
       " (7, 3, 3): [32],\n",
       " (7, 3, 4): [82],\n",
       " (7, 3, 5): [3],\n",
       " (7, 3, 6): [53],\n",
       " (7, 3, 7): [69],\n",
       " (7, 3, 8): [17],\n",
       " (7, 3, 9): [93],\n",
       " (7, 4, 0): [70],\n",
       " (7, 4, 1): [13],\n",
       " (7, 4, 2): [75],\n",
       " (7, 4, 3): [27],\n",
       " (7, 4, 4): [31],\n",
       " (7, 4, 5): [59],\n",
       " (7, 4, 6): [81],\n",
       " (7, 4, 7): [16],\n",
       " (7, 4, 8): [76],\n",
       " (7, 4, 9): [78],\n",
       " (7, 5, 0): [49],\n",
       " (7, 5, 1): [78],\n",
       " (7, 5, 2): [79],\n",
       " (7, 5, 3): [91],\n",
       " (7, 5, 4): [18],\n",
       " (7, 5, 5): [40],\n",
       " (7, 5, 6): [26],\n",
       " (7, 5, 7): [90],\n",
       " (7, 5, 9): [22],\n",
       " (7, 6, 0): [59],\n",
       " (7, 6, 1): [75],\n",
       " (7, 6, 2): [26],\n",
       " (7, 6, 3): [85],\n",
       " (7, 6, 4): [71],\n",
       " (7, 6, 5): [90],\n",
       " (7, 6, 7): [46],\n",
       " (7, 6, 8): [74],\n",
       " (7, 6, 9): [52],\n",
       " (7, 7, 0): [35],\n",
       " (7, 7, 1): [35],\n",
       " (7, 7, 2): [95],\n",
       " (7, 7, 3): [40],\n",
       " (7, 7, 4): [10],\n",
       " (7, 7, 5): [8],\n",
       " (7, 7, 6): [84],\n",
       " (7, 7, 7): [36],\n",
       " (7, 7, 8): [33],\n",
       " (7, 7, 9): [61],\n",
       " (7, 8, 0): [43],\n",
       " (7, 8, 1): [83],\n",
       " (7, 8, 2): [47],\n",
       " (7, 8, 3): [49],\n",
       " (7, 8, 4): [85],\n",
       " (7, 8, 5): [56],\n",
       " (7, 8, 6): [25],\n",
       " (7, 8, 7): [70],\n",
       " (7, 8, 8): [10],\n",
       " (7, 8, 9): [27],\n",
       " (7, 9, 0): [26],\n",
       " (7, 9, 1): [57],\n",
       " (7, 9, 2): [24],\n",
       " (7, 9, 3): [74],\n",
       " (7, 9, 4): [7],\n",
       " (7, 9, 5): [9],\n",
       " (7, 9, 6): [12],\n",
       " (7, 9, 7): [25],\n",
       " (7, 9, 8): [66],\n",
       " (7, 9, 9): [21],\n",
       " (9, 0, 0): [14],\n",
       " (9, 0, 1): [67],\n",
       " (9, 0, 2): [1],\n",
       " (9, 0, 3): [82],\n",
       " (9, 0, 4): [36],\n",
       " (9, 0, 5): [20],\n",
       " (9, 0, 6): [4],\n",
       " (9, 0, 7): [68],\n",
       " (9, 0, 8): [12],\n",
       " (9, 0, 9): [87],\n",
       " (9, 1, 0): [74],\n",
       " (9, 1, 1): [22],\n",
       " (9, 1, 2): [59],\n",
       " (9, 1, 3): [78],\n",
       " (9, 1, 4): [76],\n",
       " (9, 1, 5): [55],\n",
       " (9, 1, 6): [77],\n",
       " (9, 1, 7): [75],\n",
       " (9, 1, 8): [14],\n",
       " (9, 1, 9): [58],\n",
       " (9, 2, 0): [98],\n",
       " (9, 2, 1): [99],\n",
       " (9, 2, 2): [88],\n",
       " (9, 2, 3): [94],\n",
       " (9, 2, 4): [38],\n",
       " (9, 2, 5): [97],\n",
       " (9, 2, 6): [85],\n",
       " (9, 2, 7): [84],\n",
       " (9, 2, 8): [72],\n",
       " (9, 2, 9): [15],\n",
       " (9, 3, 0): [36],\n",
       " (9, 3, 1): [25],\n",
       " (9, 3, 2): [21],\n",
       " (9, 3, 3): [48],\n",
       " (9, 3, 4): [1],\n",
       " (9, 3, 5): [79],\n",
       " (9, 3, 6): [66],\n",
       " (9, 3, 7): [4],\n",
       " (9, 3, 8): [18],\n",
       " (9, 3, 9): [96],\n",
       " (9, 4, 0): [84],\n",
       " (9, 4, 1): [39],\n",
       " (9, 4, 2): [72],\n",
       " (9, 4, 3): [35],\n",
       " (9, 4, 4): [93],\n",
       " (9, 4, 5): [53],\n",
       " (9, 4, 6): [15],\n",
       " (9, 4, 7): [64],\n",
       " (9, 4, 8): [89],\n",
       " (9, 4, 9): [30],\n",
       " (9, 5, 0): [87],\n",
       " (9, 5, 1): [34],\n",
       " (9, 5, 2): [80],\n",
       " (9, 5, 3): [33],\n",
       " (9, 5, 4): [70],\n",
       " (9, 5, 5): [82],\n",
       " (9, 5, 6): [96],\n",
       " (9, 5, 7): [55],\n",
       " (9, 5, 8): [0],\n",
       " (9, 5, 9): [46],\n",
       " (9, 6, 0): [0],\n",
       " (9, 6, 1): [53],\n",
       " (9, 6, 2): [8],\n",
       " (9, 6, 3): [68],\n",
       " (9, 6, 4): [41],\n",
       " (9, 6, 5): [61],\n",
       " (9, 6, 6): [74],\n",
       " (9, 6, 7): [49],\n",
       " (9, 6, 8): [1],\n",
       " (9, 6, 9): [92],\n",
       " (9, 7, 0): [51],\n",
       " (9, 7, 1): [72],\n",
       " (9, 7, 2): [3],\n",
       " (9, 7, 3): [57],\n",
       " (9, 7, 4): [59],\n",
       " (9, 7, 5): [24],\n",
       " (9, 7, 6): [98],\n",
       " (9, 7, 7): [52],\n",
       " (9, 7, 8): [46],\n",
       " (9, 7, 9): [35],\n",
       " (9, 8, 0): [64],\n",
       " (9, 8, 1): [61],\n",
       " (9, 8, 2): [25],\n",
       " (9, 8, 3): [9],\n",
       " (9, 8, 4): [65],\n",
       " (9, 8, 5): [14],\n",
       " (9, 8, 6): [82],\n",
       " (9, 8, 7): [22],\n",
       " (9, 8, 8): [39],\n",
       " (9, 8, 9): [51],\n",
       " (9, 9, 0): [90],\n",
       " (9, 9, 1): [51],\n",
       " (9, 9, 2): [50],\n",
       " (9, 9, 3): [50],\n",
       " (9, 9, 4): [78],\n",
       " (9, 9, 5): [32],\n",
       " (9, 9, 6): [39],\n",
       " (9, 9, 7): [82],\n",
       " (9, 9, 8): [19],\n",
       " (9, 9, 9): [16],\n",
       " (11, 0, 0): [95],\n",
       " (11, 0, 1): [96],\n",
       " (11, 0, 2): [29],\n",
       " (11, 0, 3): [53],\n",
       " (11, 0, 4): [62],\n",
       " (11, 0, 5): [48],\n",
       " (11, 0, 6): [90],\n",
       " (11, 0, 7): [9],\n",
       " (11, 0, 9): [3],\n",
       " (11, 1, 0): [97],\n",
       " (11, 1, 1): [16],\n",
       " (11, 1, 2): [36],\n",
       " (11, 1, 3): [7],\n",
       " (11, 1, 4): [47],\n",
       " (11, 1, 5): [75],\n",
       " (11, 1, 6): [67],\n",
       " (11, 1, 7): [17],\n",
       " (11, 1, 8): [23],\n",
       " (11, 1, 9): [66],\n",
       " (11, 2, 0): [16],\n",
       " (11, 2, 1): [23],\n",
       " (11, 2, 2): [15],\n",
       " (11, 2, 3): [26],\n",
       " (11, 2, 4): [44],\n",
       " (11, 2, 5): [70],\n",
       " (11, 2, 6): [24],\n",
       " (11, 2, 7): [57],\n",
       " (11, 2, 8): [37],\n",
       " (11, 2, 9): [42],\n",
       " (11, 3, 0): [52],\n",
       " (11, 3, 1): [43],\n",
       " (11, 3, 2): [92],\n",
       " (11, 3, 3): [20],\n",
       " (11, 3, 4): [91],\n",
       " (11, 3, 5): [15],\n",
       " (11, 3, 6): [10],\n",
       " (11, 3, 7): [40],\n",
       " (11, 3, 8): [64],\n",
       " (11, 3, 9): [31],\n",
       " (11, 4, 0): [9],\n",
       " (11, 4, 1): [55],\n",
       " (11, 4, 2): [76],\n",
       " (11, 4, 3): [44],\n",
       " (11, 4, 4): [40],\n",
       " (11, 4, 5): [66],\n",
       " (11, 4, 6): [72],\n",
       " (11, 4, 7): [30],\n",
       " (11, 4, 8): [69],\n",
       " (11, 4, 9): [74],\n",
       " (11, 5, 0): [22],\n",
       " (11, 5, 1): [9],\n",
       " (11, 5, 2): [78],\n",
       " (11, 5, 3): [67],\n",
       " (11, 5, 4): [98],\n",
       " (11, 5, 5): [21],\n",
       " (11, 5, 6): [23],\n",
       " (11, 5, 7): [0],\n",
       " (11, 5, 8): [49],\n",
       " (11, 5, 9): [33],\n",
       " (11, 6, 0): [91],\n",
       " (11, 6, 1): [14],\n",
       " (11, 6, 2): [44],\n",
       " (11, 6, 3): [39],\n",
       " (11, 6, 5): [51],\n",
       " (11, 6, 7): [67],\n",
       " (11, 6, 8): [38],\n",
       " (11, 6, 9): [91],\n",
       " (11, 7, 0): [71],\n",
       " (11, 7, 1): [41],\n",
       " (11, 7, 2): [17],\n",
       " (11, 7, 3): [62],\n",
       " (11, 7, 4): [94],\n",
       " (11, 7, 5): [4],\n",
       " (11, 7, 6): [61],\n",
       " (11, 7, 7): [60],\n",
       " (11, 7, 8): [40],\n",
       " (11, 7, 9): [50],\n",
       " (11, 8, 0): [58],\n",
       " (11, 8, 1): [1],\n",
       " (11, 8, 2): [35],\n",
       " (11, 8, 3): [4],\n",
       " (11, 8, 4): [55],\n",
       " (11, 8, 5): [44],\n",
       " (11, 8, 6): [22],\n",
       " (11, 8, 7): [61],\n",
       " (11, 8, 8): [59],\n",
       " (11, 8, 9): [59],\n",
       " (11, 9, 0): [5],\n",
       " (11, 9, 1): [66],\n",
       " (11, 9, 2): [53],\n",
       " (11, 9, 4): [23],\n",
       " (11, 9, 5): [5],\n",
       " (11, 9, 6): [54],\n",
       " (11, 9, 7): [65],\n",
       " (11, 9, 8): [96],\n",
       " (11, 9, 9): [2],\n",
       " (12, 0, 0): [17],\n",
       " (12, 0, 1): [44],\n",
       " (12, 0, 2): [84],\n",
       " (12, 0, 3): [58],\n",
       " (12, 0, 4): [89],\n",
       " (12, 0, 5): [52],\n",
       " (12, 0, 6): [55],\n",
       " (12, 0, 7): [88],\n",
       " (12, 0, 8): [51],\n",
       " (12, 0, 9): [86],\n",
       " (12, 1, 0): [21],\n",
       " (12, 1, 1): [0],\n",
       " (12, 1, 2): [62],\n",
       " (12, 1, 3): [55],\n",
       " (12, 1, 4): [24],\n",
       " (12, 1, 5): [25],\n",
       " (12, 1, 6): [62],\n",
       " (12, 1, 7): [37],\n",
       " (12, 1, 8): [75],\n",
       " (12, 1, 9): [63],\n",
       " (12, 2, 0): [73],\n",
       " (12, 2, 1): [70],\n",
       " (12, 2, 2): [67],\n",
       " (12, 2, 3): [60],\n",
       " (12, 2, 4): [3, 20, 97],\n",
       " (12, 2, 5): [34],\n",
       " (12, 2, 6): [60],\n",
       " (12, 2, 8): [7],\n",
       " (12, 2, 9): [97],\n",
       " (12, 3, 0): [96],\n",
       " (12, 3, 1): [79],\n",
       " (12, 3, 2): [57],\n",
       " (12, 3, 3): [23],\n",
       " (12, 3, 4): [63],\n",
       " (12, 3, 5): [69],\n",
       " (12, 3, 6): [41],\n",
       " (12, 3, 8): [95],\n",
       " (12, 3, 9): [98],\n",
       " (12, 4, 0): [38],\n",
       " (12, 4, 1): [98],\n",
       " (12, 4, 2): [66],\n",
       " (12, 4, 3): [89],\n",
       " (12, 4, 4): [35],\n",
       " (12, 4, 5): [2],\n",
       " (12, 4, 6): [64],\n",
       " (12, 4, 7): [5, 28],\n",
       " (12, 4, 8): [57],\n",
       " (12, 4, 9): [40],\n",
       " (12, 5, 0): [66],\n",
       " (12, 5, 1): [3],\n",
       " (12, 5, 2): [73],\n",
       " (12, 5, 3): [95],\n",
       " (12, 5, 4): [72],\n",
       " (12, 5, 5): [80],\n",
       " (12, 5, 6): [14, 36, 86, 94],\n",
       " (12, 5, 8): [52],\n",
       " (12, 5, 9): [57],\n",
       " (12, 6, 0): [67],\n",
       " (12, 6, 1): [19],\n",
       " (12, 6, 2): [74],\n",
       " (12, 6, 3): [97],\n",
       " (12, 6, 5): [58],\n",
       " (12, 6, 6): [20],\n",
       " (12, 6, 8): [94],\n",
       " (12, 6, 9): [89],\n",
       " (12, 7, 0): [6],\n",
       " (12, 7, 1): [68],\n",
       " (12, 7, 2): [97],\n",
       " (12, 7, 3): [15],\n",
       " (12, 7, 4): [15],\n",
       " (12, 7, 5): [87],\n",
       " (12, 7, 6): [29],\n",
       " (12, 7, 7): [89],\n",
       " (12, 7, 8): [3],\n",
       " (12, 7, 9): [62],\n",
       " (12, 8, 0): [78],\n",
       " (12, 8, 1): [49],\n",
       " (12, 8, 2): [16],\n",
       " (12, 8, 4): [25],\n",
       " (12, 8, 5): [12],\n",
       " (12, 8, 6): [83],\n",
       " (12, 8, 7): [74],\n",
       " (12, 8, 8): [61],\n",
       " (12, 8, 9): [75],\n",
       " (12, 9, 0): [32],\n",
       " (12, 9, 1): [71],\n",
       " (12, 9, 2): [70],\n",
       " (12, 9, 3): [45],\n",
       " (12, 9, 4): [99],\n",
       " (12, 9, 5): [68],\n",
       " (12, 9, 6): [32],\n",
       " (12, 9, 7): [24],\n",
       " (12, 9, 8): [83],\n",
       " (12, 9, 9): [25],\n",
       " (14, 0, 0): [94],\n",
       " (14, 0, 1): [10],\n",
       " (14, 0, 2): [60],\n",
       " (14, 0, 3): [28],\n",
       " (14, 0, 4): [75],\n",
       " (14, 0, 5): [10],\n",
       " (14, 0, 6): [8],\n",
       " (14, 0, 7): [51],\n",
       " (14, 0, 8): [11],\n",
       " (14, 0, 9): [77],\n",
       " (14, 1, 0): [46],\n",
       " (14, 1, 1): [38],\n",
       " (14, 1, 2): [46],\n",
       " (14, 1, 3): [19],\n",
       " (14, 1, 4): [95],\n",
       " (14, 1, 5): [62],\n",
       " (14, 1, 6): [40],\n",
       " (14, 1, 7): [97],\n",
       " (14, 1, 8): [63],\n",
       " (14, 1, 9): [76],\n",
       " (14, 2, 0): [61],\n",
       " (14, 2, 1): [77],\n",
       " (14, 2, 2): [14],\n",
       " (14, 2, 3): [73],\n",
       " (14, 2, 4): [57],\n",
       " (14, 2, 5): [63],\n",
       " (14, 2, 6): [49],\n",
       " (14, 2, 7): [87],\n",
       " (14, 2, 8): [44],\n",
       " (14, 2, 9): [5],\n",
       " (14, 3, 0): [13],\n",
       " (14, 3, 1): [40],\n",
       " (14, 3, 2): [85],\n",
       " (14, 3, 3): [77],\n",
       " (14, 3, 4): [68],\n",
       " (14, 3, 5): [28],\n",
       " (14, 3, 6): [70],\n",
       " (14, 3, 7): [76],\n",
       " (14, 3, 8): [58],\n",
       " (14, 3, 9): [1],\n",
       " (14, 4, 0): [30],\n",
       " (14, 4, 1): [92],\n",
       " (14, 4, 2): [99],\n",
       " (14, 4, 4): [60],\n",
       " (14, 4, 5): [54],\n",
       " (14, 4, 6): [69],\n",
       " (14, 4, 7): [72],\n",
       " (14, 4, 8): [9],\n",
       " (14, 4, 9): [32],\n",
       " (14, 5, 0): [92],\n",
       " (14, 5, 1): [81],\n",
       " (14, 5, 2): [0],\n",
       " (14, 5, 3): [76],\n",
       " (14, 5, 4): [64],\n",
       " (14, 5, 5): [7],\n",
       " (14, 5, 6): [92],\n",
       " (14, 5, 7): [47],\n",
       " (14, 5, 8): [41],\n",
       " (14, 5, 9): [26],\n",
       " (14, 6, 0): [63],\n",
       " (14, 6, 1): [42],\n",
       " (14, 6, 2): [12],\n",
       " (14, 6, 3): [6],\n",
       " (14, 6, 4): [4],\n",
       " (14, 6, 5): [26],\n",
       " (14, 6, 6): [57],\n",
       " (14, 6, 7): [58],\n",
       " (14, 6, 8): [24],\n",
       " (14, 6, 9): [12],\n",
       " (14, 7, 0): [60],\n",
       " (14, 7, 1): [45],\n",
       " (14, 7, 2): [83],\n",
       " (14, 7, 3): [75],\n",
       " (14, 7, 4): [66],\n",
       " (14, 7, 5): [78],\n",
       " (14, 7, 6): [2],\n",
       " (14, 7, 7): [81],\n",
       " (14, 7, 8): [45],\n",
       " (14, 7, 9): [67],\n",
       " (14, 8, 0): [33],\n",
       " (14, 8, 1): [91],\n",
       " (14, 8, 2): [11],\n",
       " (14, 8, 3): [17],\n",
       " (14, 8, 4): [90],\n",
       " (14, 8, 5): [60],\n",
       " (14, 8, 6): [46],\n",
       " (14, 8, 7): [41],\n",
       " (14, 8, 8): [90],\n",
       " (14, 8, 9): [36],\n",
       " (14, 9, 0): [53],\n",
       " (14, 9, 1): [59],\n",
       " (14, 9, 2): [30],\n",
       " (14, 9, 3): [64],\n",
       " (14, 9, 4): [87],\n",
       " (14, 9, 5): [94],\n",
       " (14, 9, 6): [42],\n",
       " (14, 9, 7): [54],\n",
       " (14, 9, 8): [80],\n",
       " (14, 9, 9): [38],\n",
       " (15, 0, 0): [31],\n",
       " (15, 0, 1): [74],\n",
       " (15, 0, 2): [20],\n",
       " (15, 0, 3): [31],\n",
       " (15, 0, 4): [26, 48],\n",
       " (15, 0, 5): [88],\n",
       " (15, 0, 6): [11],\n",
       " (15, 0, 7): [94],\n",
       " (15, 0, 8): [28],\n",
       " (15, 0, 9): [4],\n",
       " (15, 1, 0): [37],\n",
       " (15, 1, 1): [8],\n",
       " (15, 1, 2): [54],\n",
       " (15, 1, 3): [38],\n",
       " (15, 1, 4): [0],\n",
       " (15, 1, 5): [22],\n",
       " (15, 1, 6): [31],\n",
       " (15, 1, 7): [23],\n",
       " (15, 1, 8): [4],\n",
       " (15, 1, 9): [43],\n",
       " (15, 2, 0): [81],\n",
       " (15, 2, 1): [82],\n",
       " (15, 2, 2): [71],\n",
       " (15, 2, 3): [11],\n",
       " (15, 2, 4): [50],\n",
       " (15, 2, 5): [33],\n",
       " (15, 2, 6): [38],\n",
       " (15, 2, 7): [48],\n",
       " (15, 2, 8): [5],\n",
       " (15, 2, 9): [54],\n",
       " (15, 3, 0): [40],\n",
       " (15, 3, 1): [15],\n",
       " (15, 3, 2): [5],\n",
       " (15, 3, 3): [51],\n",
       " (15, 3, 4): [39],\n",
       " (15, 3, 5): [77],\n",
       " (15, 3, 6): [6],\n",
       " (15, 3, 7): [53],\n",
       " (15, 3, 8): [8],\n",
       " (15, 3, 9): [24],\n",
       " (15, 4, 0): [8],\n",
       " (15, 4, 1): [54],\n",
       " (15, 4, 2): [64],\n",
       " (15, 4, 3): [14],\n",
       " (15, 4, 4): [14],\n",
       " (15, 4, 5): [11],\n",
       " (15, 4, 6): [5],\n",
       " (15, 4, 7): [34],\n",
       " (15, 4, 8): [93],\n",
       " (15, 4, 9): [44],\n",
       " (15, 5, 0): [27],\n",
       " (15, 5, 1): [5],\n",
       " (15, 5, 2): [19],\n",
       " (15, 5, 3): [86],\n",
       " (15, 5, 4): [88],\n",
       " (15, 5, 5): [72],\n",
       " (15, 5, 6): [80],\n",
       " (15, 5, 7): [99],\n",
       " (15, 5, 9): [99],\n",
       " (15, 6, 0): [2],\n",
       " (15, 6, 1): [63],\n",
       " (15, 6, 2): [68],\n",
       " (15, 6, 3): [83],\n",
       " (15, 6, 4): [32],\n",
       " (15, 6, 5): [1],\n",
       " (15, 6, 6): [33],\n",
       " (15, 6, 7): [96],\n",
       " (15, 6, 8): [20],\n",
       " (15, 6, 9): [60],\n",
       " (15, 7, 0): [75],\n",
       " (15, 7, 1): [58],\n",
       " (15, 7, 2): [48],\n",
       " (15, 7, 3): [13],\n",
       " (15, 7, 4): [17],\n",
       " (15, 7, 5): [84],\n",
       " (15, 7, 6): [95],\n",
       " (15, 7, 7): [39],\n",
       " (15, 7, 8): [22],\n",
       " (15, 7, 9): [9],\n",
       " (15, 8, 0): [42],\n",
       " (15, 8, 1): [46],\n",
       " (15, 8, 2): [33],\n",
       " (15, 8, 3): [93],\n",
       " (15, 8, 4): [33],\n",
       " (15, 8, 5): [49],\n",
       " (15, 8, 7): [91],\n",
       " (15, 8, 8): [21],\n",
       " (15, 8, 9): [64],\n",
       " (15, 9, 0): [69],\n",
       " (15, 9, 1): [47],\n",
       " (15, 9, 2): [45],\n",
       " (15, 9, 3): [18],\n",
       " (15, 9, 4): [6],\n",
       " (15, 9, 5): [29],\n",
       " (15, 9, 6): [50],\n",
       " (15, 9, 7): [63],\n",
       " (15, 9, 8): [87],\n",
       " (15, 9, 9): [0]}"
      ]
     },
     "execution_count": 33,
     "metadata": {},
     "output_type": "execute_result"
    }
   ],
   "source": [
    "workload = dict()\n",
    "for hub in H:\n",
    "    for robot in R:\n",
    "        for instance in I:\n",
    "            wl = x2_solution.sum(hub, robot, instance, '*').getValue()\n",
    "            if wl > 0:\n",
    "                customers = [key[1] for key, value in assignment2.items() if value == (hub, robot) and key[0] == instance]\n",
    "                workload[hub, robot, instance] = [customers, \n",
    "                                                  wl,\n",
    "                                                  x2_solution.prod(coeff2, hub, robot, instance, '*').getValue(),  # pure travel time over all instances\n",
    "                                                  x2_solution.prod(coeff1, hub, robot, instance, '*').getValue()  # total time incl. recharge etc.\n",
    "                                       ]\n",
    "active_robots, wl_customers, wl_num_customers, wl_travel_time, wl_total_time = gp.multidict(workload)\n",
    "active_robots, wl_customers, wl_num_customers, wl_travel_time, wl_total_time;\n",
    "wl_customers"
   ]
  },
  {
   "cell_type": "code",
   "execution_count": 34,
   "metadata": {},
   "outputs": [
    {
     "data": {
      "application/vnd.jupyter.widget-view+json": {
       "model_id": "b86a61bfe8ac4ea29401e628052b68fa",
       "version_major": 2,
       "version_minor": 0
      },
      "text/plain": [
       "interactive(children=(Dropdown(description='plot_instance', options=(0, 1, 2, 3, 4, 5, 6, 7, 8, 9), value=0), …"
      ]
     },
     "metadata": {},
     "output_type": "display_data"
    }
   ],
   "source": [
    "def model2_plot(plot_instance):\n",
    "    # plot hubs\n",
    "    hub_colors = []\n",
    "    for hub in H:\n",
    "        if o2_solution[hub] > 0.5:\n",
    "            hub_colors.append(colors(hub/h))\n",
    "        else:\n",
    "            hub_colors.append('white')\n",
    "    plt.scatter(hubs_x, hubs_y, c=hub_colors, marker='s', s=75, edgecolors='black')\n",
    "    \n",
    "    # plot customers\n",
    "    customer_colors = []\n",
    "    for customer in N:\n",
    "        customer_colors.append(colors(assignment2[plot_instance, customer][0]/h))\n",
    "    customers_x, customers_y = zip(*customer_coords.select(plot_instance, '*'))\n",
    "    plt.scatter(customers_x, customers_y, c=customer_colors, alpha=0.5, edgecolors='black')\n",
    "\n",
    "    for customer in N:\n",
    "        plt.annotate(s=customer, xy=(customers_x[customer], customers_y[customer]))\n",
    "\n",
    "    # plot robot tours, different line style per robot\n",
    "    for hub, robot, instance in active_robots.select('*', '*', plot_instance):\n",
    "        C = wl_customers[hub, robot, instance]\n",
    "        for customer in C:\n",
    "            plt.plot([hubs_x[hub], customers_x[customer]],\n",
    "                     [hubs_y[hub], customers_y[customer]],\n",
    "                     c=hub_colors[hub],\n",
    "                     zorder=0\n",
    "                    )\n",
    "\n",
    "    plt.xlim(0, area)\n",
    "    plt.ylim(0, area)\n",
    "    plt.gcf().set_size_inches(20,10)\n",
    "    plt.grid()\n",
    "    # obviously, this plot does not show the actual tours which are based on manhatten distances\n",
    "interact(model2_plot, plot_instance=I);"
   ]
  },
  {
   "cell_type": "code",
   "execution_count": null,
   "metadata": {},
   "outputs": [],
   "source": []
  }
 ],
 "metadata": {
  "kernelspec": {
   "display_name": "Python [conda env:gurobi] *",
   "language": "python",
   "name": "conda-env-gurobi-py"
  },
  "language_info": {
   "codemirror_mode": {
    "name": "ipython",
    "version": 3
   },
   "file_extension": ".py",
   "mimetype": "text/x-python",
   "name": "python",
   "nbconvert_exporter": "python",
   "pygments_lexer": "ipython3",
   "version": "3.7.6"
  }
 },
 "nbformat": 4,
 "nbformat_minor": 4
}
